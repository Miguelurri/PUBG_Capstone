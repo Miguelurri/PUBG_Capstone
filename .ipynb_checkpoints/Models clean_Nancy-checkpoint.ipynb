{
 "cells": [
  {
   "cell_type": "code",
   "execution_count": 5,
   "metadata": {},
   "outputs": [],
   "source": [
    "import numpy as np\n",
    "import pandas as pd\n",
    "import os\n",
    "import math\n",
    "import statsmodels.api as sm\n",
    "from statsmodels.tools.eval_measures import rmse\n",
    "from sklearn.model_selection import StratifiedKFold\n",
    "from sklearn.ensemble import VotingClassifier\n",
    "from sklearn import tree\n",
    "from sklearn.metrics import mean_squared_error\n",
    "from math import sqrt\n",
    "from sklearn.neighbors import KNeighborsClassifier\n",
    "from sklearn.metrics import confusion_matrix\n",
    "from sklearn.metrics import r2_score\n",
    "from sklearn.metrics import mean_absolute_error\n",
    "from sklearn.linear_model import LinearRegression\n",
    "from sklearn.metrics import roc_auc_score\n",
    "from sklearn.model_selection import train_test_split\n",
    "from sklearn.model_selection import KFold\n",
    "from sklearn.model_selection import cross_val_score\n",
    "from sklearn import preprocessing\n",
    "import matplotlib.pyplot as plt\n",
    "import seaborn as sns\n",
    "from sklearn import metrics\n",
    "from sklearn.tree import DecisionTreeRegressor\n",
    "from sklearn.neighbors import KNeighborsRegressor\n",
    "from sklearn.metrics import average_precision_score\n",
    "from sklearn.linear_model import Lasso\n",
    "from sklearn.linear_model import Ridge\n",
    "from sklearn.preprocessing import MinMaxScaler\n",
    "from sklearn import preprocessing\n",
    "from sklearn.linear_model import LogisticRegression\n",
    "from sklearn.discriminant_analysis import LinearDiscriminantAnalysis\n",
    "from sklearn.tree import DecisionTreeClassifier"
   ]
  },
  {
   "cell_type": "markdown",
   "metadata": {},
   "source": [
    "## Reading CSVs and filling NAs w/0s"
   ]
  },
  {
   "cell_type": "code",
   "execution_count": 3,
   "metadata": {},
   "outputs": [],
   "source": [
    "rank=pd.read_csv('all_risk_df_ordered.csv')\n",
    "rank=rank.fillna(0)"
   ]
  },
  {
   "cell_type": "markdown",
   "metadata": {},
   "source": [
    "# Linear Regression"
   ]
  },
  {
   "cell_type": "code",
   "execution_count": 6,
   "metadata": {},
   "outputs": [
    {
     "data": {
      "text/html": [
       "<table class=\"simpletable\">\n",
       "<caption>OLS Regression Results</caption>\n",
       "<tr>\n",
       "  <th>Dep. Variable:</th>        <td>ranking_y</td>    <th>  R-squared:         </th>  <td>   0.305</td>  \n",
       "</tr>\n",
       "<tr>\n",
       "  <th>Model:</th>                   <td>OLS</td>       <th>  Adj. R-squared:    </th>  <td>   0.305</td>  \n",
       "</tr>\n",
       "<tr>\n",
       "  <th>Method:</th>             <td>Least Squares</td>  <th>  F-statistic:       </th>  <td>   4319.</td>  \n",
       "</tr>\n",
       "<tr>\n",
       "  <th>Date:</th>             <td>Mon, 22 Jun 2020</td> <th>  Prob (F-statistic):</th>   <td>  0.00</td>   \n",
       "</tr>\n",
       "<tr>\n",
       "  <th>Time:</th>                 <td>16:24:17</td>     <th>  Log-Likelihood:    </th> <td>-1.4212e+06</td>\n",
       "</tr>\n",
       "<tr>\n",
       "  <th>No. Observations:</th>      <td>423944</td>      <th>  AIC:               </th>  <td>2.843e+06</td> \n",
       "</tr>\n",
       "<tr>\n",
       "  <th>Df Residuals:</th>          <td>423900</td>      <th>  BIC:               </th>  <td>2.843e+06</td> \n",
       "</tr>\n",
       "<tr>\n",
       "  <th>Df Model:</th>              <td>    43</td>      <th>                     </th>      <td> </td>     \n",
       "</tr>\n",
       "<tr>\n",
       "  <th>Covariance Type:</th>      <td>nonrobust</td>    <th>                     </th>      <td> </td>     \n",
       "</tr>\n",
       "</table>\n",
       "<table class=\"simpletable\">\n",
       "<tr>\n",
       "            <td></td>              <th>coef</th>     <th>std err</th>      <th>t</th>      <th>P>|t|</th>  <th>[0.025</th>    <th>0.975]</th>  \n",
       "</tr>\n",
       "<tr>\n",
       "  <th>const</th>                <td> -214.5617</td> <td>   11.296</td> <td>  -18.995</td> <td> 0.000</td> <td> -236.701</td> <td> -192.422</td>\n",
       "</tr>\n",
       "<tr>\n",
       "  <th>teamId</th>               <td>    0.0171</td> <td>    0.000</td> <td>   55.362</td> <td> 0.000</td> <td>    0.017</td> <td>    0.018</td>\n",
       "</tr>\n",
       "<tr>\n",
       "  <th>distance1_2_x</th>        <td>   -1.0044</td> <td>    0.052</td> <td>  -19.311</td> <td> 0.000</td> <td>   -1.106</td> <td>   -0.902</td>\n",
       "</tr>\n",
       "<tr>\n",
       "  <th>distance1_3_x</th>        <td>    0.6239</td> <td>    0.063</td> <td>    9.968</td> <td> 0.000</td> <td>    0.501</td> <td>    0.747</td>\n",
       "</tr>\n",
       "<tr>\n",
       "  <th>distance1_4_x</th>        <td>    0.2525</td> <td>    0.043</td> <td>    5.919</td> <td> 0.000</td> <td>    0.169</td> <td>    0.336</td>\n",
       "</tr>\n",
       "<tr>\n",
       "  <th>distance2_3_x</th>        <td>    0.8053</td> <td>    0.051</td> <td>   15.831</td> <td> 0.000</td> <td>    0.706</td> <td>    0.905</td>\n",
       "</tr>\n",
       "<tr>\n",
       "  <th>distance2_4_x</th>        <td>   -1.2859</td> <td>    0.057</td> <td>  -22.739</td> <td> 0.000</td> <td>   -1.397</td> <td>   -1.175</td>\n",
       "</tr>\n",
       "<tr>\n",
       "  <th>distance3_4_x</th>        <td>    0.4134</td> <td>    0.039</td> <td>   10.654</td> <td> 0.000</td> <td>    0.337</td> <td>    0.489</td>\n",
       "</tr>\n",
       "<tr>\n",
       "  <th>distance_centroid1_x</th> <td>    2.9352</td> <td>    0.023</td> <td>  126.304</td> <td> 0.000</td> <td>    2.890</td> <td>    2.981</td>\n",
       "</tr>\n",
       "<tr>\n",
       "  <th>distance_centroid2_x</th> <td>    1.2577</td> <td>    0.044</td> <td>   28.702</td> <td> 0.000</td> <td>    1.172</td> <td>    1.344</td>\n",
       "</tr>\n",
       "<tr>\n",
       "  <th>distance_centroid3_x</th> <td>   -1.5053</td> <td>    0.047</td> <td>  -32.157</td> <td> 0.000</td> <td>   -1.597</td> <td>   -1.414</td>\n",
       "</tr>\n",
       "<tr>\n",
       "  <th>distance_centroid4_x</th> <td>    1.4914</td> <td>    0.032</td> <td>   46.498</td> <td> 0.000</td> <td>    1.429</td> <td>    1.554</td>\n",
       "</tr>\n",
       "<tr>\n",
       "  <th>cluster_A_x</th>          <td>   -2.4667</td> <td>    0.710</td> <td>   -3.472</td> <td> 0.001</td> <td>   -3.859</td> <td>   -1.074</td>\n",
       "</tr>\n",
       "<tr>\n",
       "  <th>cluster_B_x</th>          <td>  -34.6906</td> <td>    0.816</td> <td>  -42.536</td> <td> 0.000</td> <td>  -36.289</td> <td>  -33.092</td>\n",
       "</tr>\n",
       "<tr>\n",
       "  <th>cluster_C_x</th>          <td>  -23.5426</td> <td>    0.714</td> <td>  -32.959</td> <td> 0.000</td> <td>  -24.943</td> <td>  -22.143</td>\n",
       "</tr>\n",
       "<tr>\n",
       "  <th>cluster_D_x</th>          <td>  -32.2168</td> <td>    0.824</td> <td>  -39.100</td> <td> 0.000</td> <td>  -33.832</td> <td>  -30.602</td>\n",
       "</tr>\n",
       "<tr>\n",
       "  <th>n_players_y</th>          <td>   -0.1507</td> <td>    0.062</td> <td>   -2.414</td> <td> 0.016</td> <td>   -0.273</td> <td>   -0.028</td>\n",
       "</tr>\n",
       "<tr>\n",
       "  <th>distance1_2_y</th>        <td>    0.0772</td> <td>    0.002</td> <td>   42.969</td> <td> 0.000</td> <td>    0.074</td> <td>    0.081</td>\n",
       "</tr>\n",
       "<tr>\n",
       "  <th>distance1_3_y</th>        <td>    0.0165</td> <td>    0.004</td> <td>    4.353</td> <td> 0.000</td> <td>    0.009</td> <td>    0.024</td>\n",
       "</tr>\n",
       "<tr>\n",
       "  <th>distance1_4_y</th>        <td>   -0.0050</td> <td>    0.004</td> <td>   -1.380</td> <td> 0.168</td> <td>   -0.012</td> <td>    0.002</td>\n",
       "</tr>\n",
       "<tr>\n",
       "  <th>distance2_3_y</th>        <td>    0.0408</td> <td>    0.002</td> <td>   23.565</td> <td> 0.000</td> <td>    0.037</td> <td>    0.044</td>\n",
       "</tr>\n",
       "<tr>\n",
       "  <th>distance2_4_y</th>        <td>    0.0280</td> <td>    0.002</td> <td>   13.044</td> <td> 0.000</td> <td>    0.024</td> <td>    0.032</td>\n",
       "</tr>\n",
       "<tr>\n",
       "  <th>distance3_4_y</th>        <td>    0.0250</td> <td>    0.001</td> <td>   17.638</td> <td> 0.000</td> <td>    0.022</td> <td>    0.028</td>\n",
       "</tr>\n",
       "<tr>\n",
       "  <th>distance_centroid1_y</th> <td>   -0.0178</td> <td>    0.002</td> <td>  -11.543</td> <td> 0.000</td> <td>   -0.021</td> <td>   -0.015</td>\n",
       "</tr>\n",
       "<tr>\n",
       "  <th>distance_centroid2_y</th> <td>   -0.0113</td> <td>    0.001</td> <td>   -8.376</td> <td> 0.000</td> <td>   -0.014</td> <td>   -0.009</td>\n",
       "</tr>\n",
       "<tr>\n",
       "  <th>distance_centroid3_y</th> <td>   -0.0007</td> <td>    0.001</td> <td>   -0.533</td> <td> 0.594</td> <td>   -0.003</td> <td>    0.002</td>\n",
       "</tr>\n",
       "<tr>\n",
       "  <th>distance_centroid4_y</th> <td>   -0.0177</td> <td>    0.001</td> <td>  -17.076</td> <td> 0.000</td> <td>   -0.020</td> <td>   -0.016</td>\n",
       "</tr>\n",
       "<tr>\n",
       "  <th>cluster_A_y</th>          <td>  217.9898</td> <td>   11.213</td> <td>   19.440</td> <td> 0.000</td> <td>  196.012</td> <td>  239.968</td>\n",
       "</tr>\n",
       "<tr>\n",
       "  <th>cluster_B_y</th>          <td>  233.6394</td> <td>   11.224</td> <td>   20.816</td> <td> 0.000</td> <td>  211.641</td> <td>  255.638</td>\n",
       "</tr>\n",
       "<tr>\n",
       "  <th>cluster_C_y</th>          <td>  235.2722</td> <td>   11.240</td> <td>   20.931</td> <td> 0.000</td> <td>  213.242</td> <td>  257.303</td>\n",
       "</tr>\n",
       "<tr>\n",
       "  <th>cluster_D_y</th>          <td>  266.9636</td> <td>   11.258</td> <td>   23.714</td> <td> 0.000</td> <td>  244.899</td> <td>  289.028</td>\n",
       "</tr>\n",
       "<tr>\n",
       "  <th>agility_y</th>            <td>   31.8090</td> <td>    0.103</td> <td>  308.115</td> <td> 0.000</td> <td>   31.607</td> <td>   32.011</td>\n",
       "</tr>\n",
       "<tr>\n",
       "  <th>landing_risk1</th>        <td>   -0.0012</td> <td>    0.001</td> <td>   -2.247</td> <td> 0.025</td> <td>   -0.002</td> <td>   -0.000</td>\n",
       "</tr>\n",
       "<tr>\n",
       "  <th>landing_risk2</th>        <td>   -0.0027</td> <td>    0.001</td> <td>   -4.587</td> <td> 0.000</td> <td>   -0.004</td> <td>   -0.002</td>\n",
       "</tr>\n",
       "<tr>\n",
       "  <th>landing_risk3</th>        <td>   -0.0049</td> <td>    0.001</td> <td>   -8.252</td> <td> 0.000</td> <td>   -0.006</td> <td>   -0.004</td>\n",
       "</tr>\n",
       "<tr>\n",
       "  <th>landing_risk4</th>        <td>   -0.0036</td> <td>    0.001</td> <td>   -5.363</td> <td> 0.000</td> <td>   -0.005</td> <td>   -0.002</td>\n",
       "</tr>\n",
       "<tr>\n",
       "  <th>risk1</th>                <td>    0.1053</td> <td>    0.003</td> <td>   37.118</td> <td> 0.000</td> <td>    0.100</td> <td>    0.111</td>\n",
       "</tr>\n",
       "<tr>\n",
       "  <th>risk2</th>                <td>    0.1260</td> <td>    0.003</td> <td>   41.298</td> <td> 0.000</td> <td>    0.120</td> <td>    0.132</td>\n",
       "</tr>\n",
       "<tr>\n",
       "  <th>risk3</th>                <td>    0.1288</td> <td>    0.003</td> <td>   41.517</td> <td> 0.000</td> <td>    0.123</td> <td>    0.135</td>\n",
       "</tr>\n",
       "<tr>\n",
       "  <th>risk4</th>                <td>    0.1193</td> <td>    0.003</td> <td>   35.391</td> <td> 0.000</td> <td>    0.113</td> <td>    0.126</td>\n",
       "</tr>\n",
       "<tr>\n",
       "  <th>risk_std1</th>            <td>   -0.0849</td> <td>    0.003</td> <td>  -31.690</td> <td> 0.000</td> <td>   -0.090</td> <td>   -0.080</td>\n",
       "</tr>\n",
       "<tr>\n",
       "  <th>risk_std2</th>            <td>   -0.1078</td> <td>    0.003</td> <td>  -38.051</td> <td> 0.000</td> <td>   -0.113</td> <td>   -0.102</td>\n",
       "</tr>\n",
       "<tr>\n",
       "  <th>risk_std3</th>            <td>   -0.1049</td> <td>    0.003</td> <td>  -36.096</td> <td> 0.000</td> <td>   -0.111</td> <td>   -0.099</td>\n",
       "</tr>\n",
       "<tr>\n",
       "  <th>risk_std4</th>            <td>   -0.0914</td> <td>    0.003</td> <td>  -28.931</td> <td> 0.000</td> <td>   -0.098</td> <td>   -0.085</td>\n",
       "</tr>\n",
       "</table>\n",
       "<table class=\"simpletable\">\n",
       "<tr>\n",
       "  <th>Omnibus:</th>       <td>87931.108</td> <th>  Durbin-Watson:     </th>  <td>   1.771</td> \n",
       "</tr>\n",
       "<tr>\n",
       "  <th>Prob(Omnibus):</th>  <td> 0.000</td>   <th>  Jarque-Bera (JB):  </th> <td>961929.041</td>\n",
       "</tr>\n",
       "<tr>\n",
       "  <th>Skew:</th>           <td> 0.686</td>   <th>  Prob(JB):          </th>  <td>    0.00</td> \n",
       "</tr>\n",
       "<tr>\n",
       "  <th>Kurtosis:</th>       <td>10.251</td>   <th>  Cond. No.          </th>  <td>2.93e+05</td> \n",
       "</tr>\n",
       "</table><br/><br/>Warnings:<br/>[1] Standard Errors assume that the covariance matrix of the errors is correctly specified.<br/>[2] The condition number is large, 2.93e+05. This might indicate that there are<br/>strong multicollinearity or other numerical problems."
      ],
      "text/plain": [
       "<class 'statsmodels.iolib.summary.Summary'>\n",
       "\"\"\"\n",
       "                            OLS Regression Results                            \n",
       "==============================================================================\n",
       "Dep. Variable:              ranking_y   R-squared:                       0.305\n",
       "Model:                            OLS   Adj. R-squared:                  0.305\n",
       "Method:                 Least Squares   F-statistic:                     4319.\n",
       "Date:                Mon, 22 Jun 2020   Prob (F-statistic):               0.00\n",
       "Time:                        16:24:17   Log-Likelihood:            -1.4212e+06\n",
       "No. Observations:              423944   AIC:                         2.843e+06\n",
       "Df Residuals:                  423900   BIC:                         2.843e+06\n",
       "Df Model:                          43                                         \n",
       "Covariance Type:            nonrobust                                         \n",
       "========================================================================================\n",
       "                           coef    std err          t      P>|t|      [0.025      0.975]\n",
       "----------------------------------------------------------------------------------------\n",
       "const                 -214.5617     11.296    -18.995      0.000    -236.701    -192.422\n",
       "teamId                   0.0171      0.000     55.362      0.000       0.017       0.018\n",
       "distance1_2_x           -1.0044      0.052    -19.311      0.000      -1.106      -0.902\n",
       "distance1_3_x            0.6239      0.063      9.968      0.000       0.501       0.747\n",
       "distance1_4_x            0.2525      0.043      5.919      0.000       0.169       0.336\n",
       "distance2_3_x            0.8053      0.051     15.831      0.000       0.706       0.905\n",
       "distance2_4_x           -1.2859      0.057    -22.739      0.000      -1.397      -1.175\n",
       "distance3_4_x            0.4134      0.039     10.654      0.000       0.337       0.489\n",
       "distance_centroid1_x     2.9352      0.023    126.304      0.000       2.890       2.981\n",
       "distance_centroid2_x     1.2577      0.044     28.702      0.000       1.172       1.344\n",
       "distance_centroid3_x    -1.5053      0.047    -32.157      0.000      -1.597      -1.414\n",
       "distance_centroid4_x     1.4914      0.032     46.498      0.000       1.429       1.554\n",
       "cluster_A_x             -2.4667      0.710     -3.472      0.001      -3.859      -1.074\n",
       "cluster_B_x            -34.6906      0.816    -42.536      0.000     -36.289     -33.092\n",
       "cluster_C_x            -23.5426      0.714    -32.959      0.000     -24.943     -22.143\n",
       "cluster_D_x            -32.2168      0.824    -39.100      0.000     -33.832     -30.602\n",
       "n_players_y             -0.1507      0.062     -2.414      0.016      -0.273      -0.028\n",
       "distance1_2_y            0.0772      0.002     42.969      0.000       0.074       0.081\n",
       "distance1_3_y            0.0165      0.004      4.353      0.000       0.009       0.024\n",
       "distance1_4_y           -0.0050      0.004     -1.380      0.168      -0.012       0.002\n",
       "distance2_3_y            0.0408      0.002     23.565      0.000       0.037       0.044\n",
       "distance2_4_y            0.0280      0.002     13.044      0.000       0.024       0.032\n",
       "distance3_4_y            0.0250      0.001     17.638      0.000       0.022       0.028\n",
       "distance_centroid1_y    -0.0178      0.002    -11.543      0.000      -0.021      -0.015\n",
       "distance_centroid2_y    -0.0113      0.001     -8.376      0.000      -0.014      -0.009\n",
       "distance_centroid3_y    -0.0007      0.001     -0.533      0.594      -0.003       0.002\n",
       "distance_centroid4_y    -0.0177      0.001    -17.076      0.000      -0.020      -0.016\n",
       "cluster_A_y            217.9898     11.213     19.440      0.000     196.012     239.968\n",
       "cluster_B_y            233.6394     11.224     20.816      0.000     211.641     255.638\n",
       "cluster_C_y            235.2722     11.240     20.931      0.000     213.242     257.303\n",
       "cluster_D_y            266.9636     11.258     23.714      0.000     244.899     289.028\n",
       "agility_y               31.8090      0.103    308.115      0.000      31.607      32.011\n",
       "landing_risk1           -0.0012      0.001     -2.247      0.025      -0.002      -0.000\n",
       "landing_risk2           -0.0027      0.001     -4.587      0.000      -0.004      -0.002\n",
       "landing_risk3           -0.0049      0.001     -8.252      0.000      -0.006      -0.004\n",
       "landing_risk4           -0.0036      0.001     -5.363      0.000      -0.005      -0.002\n",
       "risk1                    0.1053      0.003     37.118      0.000       0.100       0.111\n",
       "risk2                    0.1260      0.003     41.298      0.000       0.120       0.132\n",
       "risk3                    0.1288      0.003     41.517      0.000       0.123       0.135\n",
       "risk4                    0.1193      0.003     35.391      0.000       0.113       0.126\n",
       "risk_std1               -0.0849      0.003    -31.690      0.000      -0.090      -0.080\n",
       "risk_std2               -0.1078      0.003    -38.051      0.000      -0.113      -0.102\n",
       "risk_std3               -0.1049      0.003    -36.096      0.000      -0.111      -0.099\n",
       "risk_std4               -0.0914      0.003    -28.931      0.000      -0.098      -0.085\n",
       "==============================================================================\n",
       "Omnibus:                    87931.108   Durbin-Watson:                   1.771\n",
       "Prob(Omnibus):                  0.000   Jarque-Bera (JB):           961929.041\n",
       "Skew:                           0.686   Prob(JB):                         0.00\n",
       "Kurtosis:                      10.251   Cond. No.                     2.93e+05\n",
       "==============================================================================\n",
       "\n",
       "Warnings:\n",
       "[1] Standard Errors assume that the covariance matrix of the errors is correctly specified.\n",
       "[2] The condition number is large, 2.93e+05. This might indicate that there are\n",
       "strong multicollinearity or other numerical problems.\n",
       "\"\"\""
      ]
     },
     "execution_count": 6,
     "metadata": {},
     "output_type": "execute_result"
    }
   ],
   "source": [
    "copy_df=rank.copy()\n",
    "copy1_df=rank.copy()\n",
    "x_df=rank.drop([\"ranking_y\"],axis=1)\n",
    "y_df=copy_df[\"ranking_y\"]\n",
    "X_df=x_df.iloc[:,2:]\n",
    "\n",
    "X_df=sm.add_constant(X_df)\n",
    "model = sm.OLS(y_df,X_df.astype(float)).fit()\n",
    "\n",
    "model.summary()"
   ]
  },
  {
   "cell_type": "markdown",
   "metadata": {},
   "source": [
    "## RMSE for Linear Regression"
   ]
  },
  {
   "cell_type": "code",
   "execution_count": 4,
   "metadata": {},
   "outputs": [
    {
     "data": {
      "text/plain": [
       "6.913142137301564"
      ]
     },
     "execution_count": 4,
     "metadata": {},
     "output_type": "execute_result"
    }
   ],
   "source": [
    "y_pred = model.predict(X_df)\n",
    "rms = sqrt(mean_squared_error(y_df, y_pred))\n",
    "rms"
   ]
  },
  {
   "cell_type": "markdown",
   "metadata": {},
   "source": [
    "# Classification for Top 5"
   ]
  },
  {
   "cell_type": "code",
   "execution_count": 7,
   "metadata": {},
   "outputs": [],
   "source": [
    "copy_df['in Top 5']=np.where(copy_df['ranking_y']<=5, 1,0)"
   ]
  },
  {
   "cell_type": "code",
   "execution_count": 8,
   "metadata": {},
   "outputs": [],
   "source": [
    "x_df=copy_df.drop([\"ranking_y\",'in Top 5'],axis=1)\n",
    "y_df=copy_df['in Top 5']\n",
    "X_df=x_df.iloc[:,2:]"
   ]
  },
  {
   "cell_type": "markdown",
   "metadata": {},
   "source": [
    "## Scaling with Standard Scaler"
   ]
  },
  {
   "cell_type": "code",
   "execution_count": 10,
   "metadata": {},
   "outputs": [],
   "source": [
    "std_scaler=preprocessing.StandardScaler()\n",
    "X_df=std_scaler.fit_transform(X_df)"
   ]
  },
  {
   "cell_type": "markdown",
   "metadata": {},
   "source": [
    "## Initialising DFs for plotting"
   ]
  },
  {
   "cell_type": "code",
   "execution_count": 11,
   "metadata": {},
   "outputs": [],
   "source": [
    "res_w1=pd.DataFrame()\n",
    "res_w2=pd.DataFrame()"
   ]
  },
  {
   "cell_type": "markdown",
   "metadata": {},
   "source": [
    "# Logistic Regression"
   ]
  },
  {
   "cell_type": "code",
   "execution_count": 12,
   "metadata": {},
   "outputs": [
    {
     "data": {
      "text/plain": [
       "LogisticRegression(class_weight='balanced', solver='liblinear')"
      ]
     },
     "execution_count": 12,
     "metadata": {},
     "output_type": "execute_result"
    }
   ],
   "source": [
    "test_size=0.2\n",
    "seed=7\n",
    "\n",
    "X_train, X_test, y_train, y_test = train_test_split(X_df, y_df, test_size=test_size, random_state=seed)\n",
    "model = LogisticRegression(solver='liblinear',class_weight='balanced')\n",
    "model.fit(X_train, y_train)"
   ]
  },
  {
   "cell_type": "code",
   "execution_count": 13,
   "metadata": {},
   "outputs": [
    {
     "name": "stdout",
     "output_type": "stream",
     "text": [
      "Confusion Matrix\n",
      "[[45768 20801]\n",
      " [ 4487 13733]]\n",
      "\n",
      "Accuracy 70.17538\n",
      "Accuracy check with conf. matrix 70.17538\n"
     ]
    },
    {
     "name": "stderr",
     "output_type": "stream",
     "text": [
      "/opt/anaconda3/lib/python3.7/site-packages/sklearn/utils/deprecation.py:143: FutureWarning: The sklearn.metrics.classification module is  deprecated in version 0.22 and will be removed in version 0.24. The corresponding classes / functions should instead be imported from sklearn.metrics. Anything that cannot be imported from sklearn.metrics is now part of the private API.\n",
      "  warnings.warn(message, FutureWarning)\n",
      "/opt/anaconda3/lib/python3.7/site-packages/sklearn/base.py:213: FutureWarning: From version 0.24, get_params will raise an AttributeError if a parameter cannot be retrieved as an instance attribute. Previously it would return None.\n",
      "  FutureWarning)\n",
      "/opt/anaconda3/lib/python3.7/site-packages/yellowbrick/classifier/base.py:232: YellowbrickWarning: could not determine class_counts_ from previously fitted classifier\n",
      "  YellowbrickWarning,\n"
     ]
    },
    {
     "data": {
      "image/png": "[encoded data removed]",
      "text/plain": [
       "<Figure size 576x396 with 1 Axes>"
      ]
     },
     "metadata": {},
     "output_type": "display_data"
    },
    {
     "data": {
      "text/plain": [
       "<matplotlib.axes._subplots.AxesSubplot at 0x1a1d3f3350>"
      ]
     },
     "execution_count": 13,
     "metadata": {},
     "output_type": "execute_result"
    }
   ],
   "source": [
    "y_predicted = model.predict(X_test)\n",
    "\n",
    "c_matrix=confusion_matrix(y_test, y_predicted)\n",
    "\n",
    "print(\"Confusion Matrix\")\n",
    "print(c_matrix)\n",
    "\n",
    "print()\n",
    "print(f'Accuracy {model.score(X_test, y_test)*100:.5f}')\n",
    "print(f'Accuracy check with conf. matrix {(c_matrix[0,0]+c_matrix[1,1])/c_matrix.sum()*100:.5f}')\n",
    "\n",
    "\n",
    "#using yellowbrick\n",
    "import yellowbrick\n",
    "from yellowbrick.classifier import ConfusionMatrix\n",
    "cm = ConfusionMatrix(model, classes=[\"No Top 5\",\"Top 5\"])\n",
    "\n",
    "cm.score(X_test, y_test)\n",
    "cm.show()"
   ]
  },
  {
   "cell_type": "markdown",
   "metadata": {},
   "source": [
    "# Checking for overfitting"
   ]
  },
  {
   "cell_type": "code",
   "execution_count": 14,
   "metadata": {},
   "outputs": [
    {
     "name": "stdout",
     "output_type": "stream",
     "text": [
      "TRAIN METRICS\n",
      "Accuracy: 0.7017528858486533\n",
      "F1 Score: 0.5224218845903249\n",
      "Average precision-recall score: 0.35\n",
      "AUC: 0.7215772333596369\n"
     ]
    }
   ],
   "source": [
    "y_pred_t = model.predict(X_train)\n",
    "print('TRAIN METRICS')\n",
    "print(f'Accuracy: {metrics.accuracy_score(y_train, y_pred_t)}')\n",
    "print(f'F1 Score: {metrics.f1_score(y_train, y_pred_t)}')\n",
    "metrics.confusion_matrix(y_train,y_pred_t)\n",
    "average_precision = average_precision_score(y_train, y_pred_t)\n",
    "\n",
    "print('Average precision-recall score: {0:0.2f}'.format(\n",
    "      average_precision))\n",
    "\n",
    "print(f'AUC: {roc_auc_score(y_train, y_pred_t)}')"
   ]
  },
  {
   "cell_type": "code",
   "execution_count": 15,
   "metadata": {},
   "outputs": [
    {
     "name": "stdout",
     "output_type": "stream",
     "text": [
      "TEST METRICS\n",
      "Accuracy: 0.7017537652289801\n",
      "F1 Score: 0.5206429844182431\n",
      "Average precision-recall score: 0.35\n",
      "AUC: 0.7206296949234801\n"
     ]
    }
   ],
   "source": [
    "y_pred = model.predict(X_test)\n",
    "print('TEST METRICS')\n",
    "print(f'Accuracy: {metrics.accuracy_score(y_test, y_pred)}')\n",
    "print(f'F1 Score: {metrics.f1_score(y_test, y_pred)}')\n",
    "metrics.confusion_matrix(y_test,y_pred)\n",
    "average_precision = average_precision_score(y_test, y_pred)\n",
    "\n",
    "print('Average precision-recall score: {0:0.2f}'.format(\n",
    "      average_precision))\n",
    "print(f'AUC: {roc_auc_score(y_test, y_pred)}')"
   ]
  },
  {
   "cell_type": "markdown",
   "metadata": {},
   "source": [
    "# Ensemble Max Voting"
   ]
  },
  {
   "cell_type": "code",
   "execution_count": 16,
   "metadata": {},
   "outputs": [
    {
     "name": "stderr",
     "output_type": "stream",
     "text": [
      "/opt/anaconda3/lib/python3.7/site-packages/sklearn/linear_model/_logistic.py:764: ConvergenceWarning: lbfgs failed to converge (status=1):\n",
      "STOP: TOTAL NO. of ITERATIONS REACHED LIMIT.\n",
      "\n",
      "Increase the number of iterations (max_iter) or scale the data as shown in:\n",
      "    https://scikit-learn.org/stable/modules/preprocessing.html\n",
      "Please also refer to the documentation for alternative solver options:\n",
      "    https://scikit-learn.org/stable/modules/linear_model.html#logistic-regression\n",
      "  extra_warning_msg=_LOGISTIC_SOLVER_CONVERGENCE_MSG)\n"
     ]
    },
    {
     "data": {
      "text/plain": [
       "0.7851726049369612"
      ]
     },
     "execution_count": 16,
     "metadata": {},
     "output_type": "execute_result"
    }
   ],
   "source": [
    "model1 = LogisticRegression(random_state=1,class_weight='balanced')\n",
    "model2 = tree.DecisionTreeClassifier(random_state=1,class_weight='balanced')\n",
    "model = VotingClassifier(estimators=[('lr', model1), ('dt', model2)], voting='hard')\n",
    "model.fit(X_train,y_train)\n",
    "model.score(X_test,y_test)"
   ]
  },
  {
   "cell_type": "markdown",
   "metadata": {},
   "source": []
  },
  {
   "cell_type": "code",
   "execution_count": 17,
   "metadata": {},
   "outputs": [],
   "source": [
    "from sklearn.ensemble import AdaBoostClassifier\n",
    "from sklearn.model_selection import train_test_split\n",
    "from sklearn.preprocessing import LabelEncoder"
   ]
  },
  {
   "cell_type": "code",
   "execution_count": 18,
   "metadata": {},
   "outputs": [],
   "source": [
    "encoder = LabelEncoder()\n",
    "binary_encoded_y = pd.Series(encoder.fit_transform(y_df))"
   ]
  },
  {
   "cell_type": "code",
   "execution_count": 19,
   "metadata": {},
   "outputs": [],
   "source": [
    "train_X, test_X, train_y, test_y = train_test_split(X_df, binary_encoded_y, random_state=1)"
   ]
  },
  {
   "cell_type": "code",
   "execution_count": 20,
   "metadata": {},
   "outputs": [
    {
     "data": {
      "text/plain": [
       "AdaBoostClassifier(base_estimator=DecisionTreeClassifier(max_depth=1),\n",
       "                   n_estimators=200)"
      ]
     },
     "execution_count": 20,
     "metadata": {},
     "output_type": "execute_result"
    }
   ],
   "source": [
    "classifier = AdaBoostClassifier(DecisionTreeClassifier(max_depth=1),n_estimators=200)\n",
    "classifier.fit(train_X, train_y)"
   ]
  },
  {
   "cell_type": "code",
   "execution_count": 21,
   "metadata": {},
   "outputs": [],
   "source": [
    "predictions = classifier.predict(test_X)"
   ]
  },
  {
   "cell_type": "code",
   "execution_count": 22,
   "metadata": {},
   "outputs": [
    {
     "name": "stdout",
     "output_type": "stream",
     "text": [
      "Accuracy: 0.7985205593191553\n"
     ]
    }
   ],
   "source": [
    "print(\"Accuracy:\",metrics.accuracy_score(test_y, predictions))"
   ]
  },
  {
   "cell_type": "code",
   "execution_count": 23,
   "metadata": {},
   "outputs": [
    {
     "data": {
      "text/plain": [
       "array([[78687,  4288],\n",
       "       [17066,  5945]])"
      ]
     },
     "execution_count": 23,
     "metadata": {},
     "output_type": "execute_result"
    }
   ],
   "source": [
    "confusion_matrix(test_y, predictions)"
   ]
  },
  {
   "cell_type": "code",
   "execution_count": 26,
   "metadata": {},
   "outputs": [
    {
     "data": {
      "text/plain": [
       "array([[-0.51010654, -1.21890519, -1.22767395, ..., -0.69108713,\n",
       "        -0.66832681, -0.37131288],\n",
       "       [-0.49008428, -1.21890519, -1.22767395, ...,  0.28298286,\n",
       "        -0.44358468, -0.5639839 ],\n",
       "       [-0.47006201,  1.22551731,  1.01195896, ..., -0.28229106,\n",
       "        -0.58937865, -0.51110275],\n",
       "       ...,\n",
       "       [ 3.51436925,  0.47552483,  1.36174967, ..., -0.59322215,\n",
       "        -0.1565663 , -0.23856049],\n",
       "       [ 3.53439152,  0.47398567,  0.83450407, ..., -0.54128426,\n",
       "        -0.16747855, -0.42786141],\n",
       "       [ 3.55441379, -0.01403049,  0.25697131, ..., -0.49616773,\n",
       "        -0.20376457, -0.41812552]])"
      ]
     },
     "execution_count": 26,
     "metadata": {},
     "output_type": "execute_result"
    }
   ],
   "source": [
    "X_df"
   ]
  },
  {
   "cell_type": "code",
   "execution_count": 27,
   "metadata": {},
   "outputs": [
    {
     "data": {
      "text/plain": [
       "0    332585\n",
       "1     91359\n",
       "Name: in Top 5, dtype: int64"
      ]
     },
     "execution_count": 27,
     "metadata": {},
     "output_type": "execute_result"
    }
   ],
   "source": [
    "y_df.value_counts()"
   ]
  },
  {
   "cell_type": "markdown",
   "metadata": {},
   "source": [
    "# Upsampling SMOTE Method"
   ]
  },
  {
   "cell_type": "code",
   "execution_count": 28,
   "metadata": {},
   "outputs": [],
   "source": [
    "from imblearn.over_sampling import SMOTE\n",
    "sm = SMOTE(random_state=12)\n",
    "x_train_res, y_train_res = sm.fit_sample(train_X,train_y)"
   ]
  },
  {
   "cell_type": "code",
   "execution_count": 32,
   "metadata": {},
   "outputs": [
    {
     "data": {
      "text/plain": [
       "AdaBoostClassifier(base_estimator=DecisionTreeClassifier(max_depth=1),\n",
       "                   n_estimators=200)"
      ]
     },
     "execution_count": 32,
     "metadata": {},
     "output_type": "execute_result"
    }
   ],
   "source": [
    "classifier = AdaBoostClassifier(DecisionTreeClassifier(max_depth=1),n_estimators=200)\n",
    "classifier.fit(x_train_res, y_train_res)"
   ]
  },
  {
   "cell_type": "code",
   "execution_count": 33,
   "metadata": {},
   "outputs": [],
   "source": [
    "predictions = classifier.predict(test_X)"
   ]
  },
  {
   "cell_type": "code",
   "execution_count": 34,
   "metadata": {},
   "outputs": [
    {
     "name": "stdout",
     "output_type": "stream",
     "text": [
      "Accuracy: 0.7438907025456193\n"
     ]
    }
   ],
   "source": [
    "print(\"Accuracy:\",metrics.accuracy_score(test_y, predictions))"
   ]
  },
  {
   "cell_type": "code",
   "execution_count": 38,
   "metadata": {},
   "outputs": [
    {
     "data": {
      "text/plain": [
       "array([[ 0.07053922, -1.21890519, -1.22767395, ..., -0.54275211,\n",
       "        -0.39849939, -0.5639839 ],\n",
       "       [-0.2898616 ,  0.10303912,  0.29946494, ..., -0.69108713,\n",
       "        -0.66832681, -0.5639839 ],\n",
       "       [-0.26983933,  0.42787812,  0.5323468 , ..., -0.69108713,\n",
       "        -0.66832681, -0.5639839 ],\n",
       "       ...,\n",
       "       [-0.28477661,  1.94928559,  2.18249475, ..., -0.69108713,\n",
       "        -0.66832681, -0.5639839 ],\n",
       "       [-0.31332102,  0.3365026 ,  0.3085196 , ...,  0.96481253,\n",
       "         1.30002077,  1.55112908],\n",
       "       [-0.40191209, -1.21890519, -1.22767395, ...,  0.07560855,\n",
       "         0.48083528, -0.5639839 ]])"
      ]
     },
     "execution_count": 38,
     "metadata": {},
     "output_type": "execute_result"
    }
   ],
   "source": [
    "x_train_res"
   ]
  },
  {
   "cell_type": "code",
   "execution_count": 44,
   "metadata": {},
   "outputs": [
    {
     "data": {
      "text/plain": [
       "count    499220.000000\n",
       "mean         -0.069257\n",
       "std           0.897291\n",
       "min          -0.510107\n",
       "25%          -0.409995\n",
       "50%          -0.289862\n",
       "75%          -0.149706\n",
       "max           3.694570\n",
       "Name: 0, dtype: float64"
      ]
     },
     "execution_count": 44,
     "metadata": {},
     "output_type": "execute_result"
    }
   ],
   "source": [
    "pd.DataFrame(x_train_res)[0].describe()"
   ]
  },
  {
   "cell_type": "code",
   "execution_count": 45,
   "metadata": {},
   "outputs": [
    {
     "data": {
      "text/plain": [
       "count    4.239440e+05\n",
       "mean    -1.085104e-16\n",
       "std      1.000001e+00\n",
       "min     -5.101065e-01\n",
       "25%     -4.099952e-01\n",
       "50%     -2.698393e-01\n",
       "75%     -1.096612e-01\n",
       "max      3.694570e+00\n",
       "Name: 0, dtype: float64"
      ]
     },
     "execution_count": 45,
     "metadata": {},
     "output_type": "execute_result"
    }
   ],
   "source": [
    "pd.DataFrame(X_df)[0].describe()"
   ]
  },
  {
   "cell_type": "code",
   "execution_count": 46,
   "metadata": {},
   "outputs": [
    {
     "data": {
      "text/plain": [
       "array([[-0.51010654, -1.21890519, -1.22767395, ..., -0.69108713,\n",
       "        -0.66832681, -0.37131288],\n",
       "       [-0.49008428, -1.21890519, -1.22767395, ...,  0.28298286,\n",
       "        -0.44358468, -0.5639839 ],\n",
       "       [-0.47006201,  1.22551731,  1.01195896, ..., -0.28229106,\n",
       "        -0.58937865, -0.51110275],\n",
       "       ...,\n",
       "       [ 3.51436925,  0.47552483,  1.36174967, ..., -0.59322215,\n",
       "        -0.1565663 , -0.23856049],\n",
       "       [ 3.53439152,  0.47398567,  0.83450407, ..., -0.54128426,\n",
       "        -0.16747855, -0.42786141],\n",
       "       [ 3.55441379, -0.01403049,  0.25697131, ..., -0.49616773,\n",
       "        -0.20376457, -0.41812552]])"
      ]
     },
     "execution_count": 46,
     "metadata": {},
     "output_type": "execute_result"
    }
   ],
   "source": [
    "X_df"
   ]
  },
  {
   "cell_type": "code",
   "execution_count": 61,
   "metadata": {},
   "outputs": [],
   "source": [
    "teams_f=copy1_df.replace(99,np.nan).dropna()"
   ]
  },
  {
   "cell_type": "code",
   "execution_count": 62,
   "metadata": {},
   "outputs": [
    {
     "data": {
      "text/plain": [
       "count    277885.0\n",
       "mean          4.0\n",
       "std           0.0\n",
       "min           4.0\n",
       "25%           4.0\n",
       "50%           4.0\n",
       "75%           4.0\n",
       "max           4.0\n",
       "Name: n_players_y, dtype: float64"
      ]
     },
     "execution_count": 62,
     "metadata": {},
     "output_type": "execute_result"
    }
   ],
   "source": [
    "teams_f.n_players_y.describe()"
   ]
  },
  {
   "cell_type": "code",
   "execution_count": 87,
   "metadata": {},
   "outputs": [
    {
     "data": {
      "text/plain": [
       "(-0.18538657134516412, 0.0)"
      ]
     },
     "execution_count": 87,
     "metadata": {},
     "output_type": "execute_result"
    }
   ],
   "source": [
    "from scipy import stats\n",
    "stats.pearsonr(copy1_df.n_players_y, copy1_df.ranking_y)"
   ]
  },
  {
   "cell_type": "code",
   "execution_count": 97,
   "metadata": {},
   "outputs": [
    {
     "data": {
      "text/plain": [
       "teamId                  0.194063\n",
       "distance1_2_x          -0.054573\n",
       "distance1_3_x          -0.015644\n",
       "distance1_4_x          -0.019530\n",
       "distance2_3_x           0.069620\n",
       "distance2_4_x           0.080956\n",
       "distance3_4_x           0.107803\n",
       "distance_centroid1_x    0.120875\n",
       "distance_centroid2_x   -0.045753\n",
       "distance_centroid3_x   -0.008070\n",
       "distance_centroid4_x    0.095208\n",
       "cluster_A_x             0.003181\n",
       "cluster_B_x            -0.081307\n",
       "cluster_C_x             0.066099\n",
       "cluster_D_x             0.107778\n",
       "n_players_y                  NaN\n",
       "distance1_2_y           0.182546\n",
       "distance1_3_y           0.153502\n",
       "distance1_4_y           0.172881\n",
       "distance2_3_y           0.114823\n",
       "distance2_4_y           0.124367\n",
       "distance3_4_y           0.129793\n",
       "distance_centroid1_y    0.136212\n",
       "distance_centroid2_y    0.180789\n",
       "distance_centroid3_y    0.139743\n",
       "distance_centroid4_y    0.058441\n",
       "cluster_A_y            -0.163432\n",
       "cluster_B_y             0.122436\n",
       "cluster_C_y             0.167714\n",
       "cluster_D_y             0.173475\n",
       "agility_y               0.296785\n",
       "ranking_y               1.000000\n",
       "landing_risk1          -0.049426\n",
       "landing_risk2          -0.045801\n",
       "landing_risk3          -0.050827\n",
       "landing_risk4          -0.050987\n",
       "risk1                   0.017664\n",
       "risk2                   0.018364\n",
       "risk3                   0.017439\n",
       "risk4                   0.017719\n",
       "risk_std1              -0.044731\n",
       "risk_std2              -0.043611\n",
       "risk_std3              -0.045036\n",
       "risk_std4              -0.043571\n",
       "Name: ranking_y, dtype: float64"
      ]
     },
     "execution_count": 97,
     "metadata": {},
     "output_type": "execute_result"
    }
   ],
   "source": [
    "teams_f[teams_f.columns[1:]].corr()['ranking_y'][:]"
   ]
  },
  {
   "cell_type": "code",
   "execution_count": 99,
   "metadata": {},
   "outputs": [],
   "source": [
    "import seaborn\n",
    "corr_df=teams_f.corr(method='pearson')"
   ]
  },
  {
   "cell_type": "code",
   "execution_count": null,
   "metadata": {},
   "outputs": [],
   "source": []
  },
  {
   "cell_type": "code",
   "execution_count": null,
   "metadata": {},
   "outputs": [],
   "source": []
  },
  {
   "cell_type": "code",
   "execution_count": null,
   "metadata": {},
   "outputs": [],
   "source": []
  }
 ],
 "metadata": {
  "kernelspec": {
   "display_name": "Python 3",
   "language": "python",
   "name": "python3"
  },
  "language_info": {
   "codemirror_mode": {
    "name": "ipython",
    "version": 3
   },
   "file_extension": ".py",
   "mimetype": "text/x-python",
   "name": "python",
   "nbconvert_exporter": "python",
   "pygments_lexer": "ipython3",
   "version": "3.7.6"
  }
 },
 "nbformat": 4,
 "nbformat_minor": 2
}
