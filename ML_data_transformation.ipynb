{
 "cells": [
  {
   "cell_type": "code",
   "execution_count": 23,
   "metadata": {},
   "outputs": [],
   "source": [
    "import numpy as np\n",
    "import pandas as pd\n",
    "import os\n",
    "import math"
   ]
  },
  {
   "cell_type": "code",
   "execution_count": 24,
   "metadata": {},
   "outputs": [],
   "source": [
    "# this function should be applied to a df containing the data for matches (aggregated or not) in the initial \n",
    "# clean format that we defined\n",
    "# THIS FUNCTION ORDERS DISTANCES AND CLUSTERS FROM HIGHGEST TO LOWEST\n",
    "def aggData(df):\n",
    "    distances = df.iloc[:, 6:12]\n",
    "    distances.fillna(-999)\n",
    "    centroids = df.iloc[:, 12:16]\n",
    "    centroids.fillna(-999)\n",
    "    clusters = df.iloc[:, 16:20].values\n",
    "    new_distances = np.sort(distances.values, axis=1)[:,::-1]\n",
    "    new_centroids = np.sort(centroids.values, axis=1)[:,::-1]\n",
    "    new_clusters = np.sort(clusters, axis=1)[:,::-1]\n",
    "    distances = distances.replace(-999, np.nan)\n",
    "    centroids = centroids.replace(-999, np.nan)\n",
    "    df.iloc[:, 6:12] = new_distances\n",
    "    df.iloc[:, 12:16] = new_centroids\n",
    "    df.iloc[:, 16:20] = new_clusters\n",
    "    df['agility']=np.where(df['strategy']!=df['strategy'].shift(-1), 1,0)\n",
    "    ranking = df['ranking']\n",
    "    df = df.drop('ranking', axis=1)\n",
    "    df.insert(len(df.columns), 'ranking', ranking)\n",
    "    df['cluster_A'] = df['cluster_A'] / df['n_alive']\n",
    "    df['cluster_B'] = df['cluster_B'] / df['n_alive']\n",
    "    df['cluster_C'] = df['cluster_C'] / df['n_alive']\n",
    "    df['cluster_D'] = df['cluster_D'] / df['n_alive']\n",
    "    df = df[df.n_alive > 0]\n",
    "    df = df.drop(['time','n_alive','in_aircraft'], axis=1)\n",
    "    df.loc[:,['distance1_2','distance1_3','distance1_4','distance2_3', 'distance2_4', 'distance3_4',\n",
    "              'distance_centroid1', 'distance_centroid2', 'distance_centroid3', 'distance_centroid4']] = df.loc[:,['distance1_2','distance1_3','distance1_4','distance2_3', 'distance2_4', 'distance3_4',\n",
    "                                                                                                                   'distance_centroid1', 'distance_centroid2', 'distance_centroid3', 'distance_centroid4']] / 100\n",
    "    df.loc[:, ['distance1_2','distance1_3','distance1_4','distance2_3', 'distance2_4', 'distance3_4',\n",
    "              'distance_centroid1', 'distance_centroid2', 'distance_centroid3', 'distance_centroid4']] = df.loc[:, ['distance1_2','distance1_3','distance1_4','distance2_3', 'distance2_4', 'distance3_4',\n",
    "                                                                                                                   'distance_centroid1', 'distance_centroid2', 'distance_centroid3', 'distance_centroid4']].applymap(lambda x:np.log(x) if x != 0 else 0)\n",
    "    means = df.groupby(['matchId', 'teamId']).mean().reset_index()\n",
    "    stds = df.groupby(['matchId', 'teamId']).std().reset_index()\n",
    "    means = means.fillna(99)\n",
    "    means = means.replace(np.inf, 0)\n",
    "    stds = stds.fillna(0)\n",
    "    new_df = pd.merge(stds, means, how = 'left', on=['matchId', 'teamId'])\n",
    "    new_df = new_df.drop(['n_players_x', 'ranking_x', 'agility_x'], axis=1)\n",
    "    return new_df"
   ]
  },
  {
   "cell_type": "code",
   "execution_count": 3,
   "metadata": {},
   "outputs": [],
   "source": [
    "# THIS FUNCTION DOES NOT ORDER DISTANCES, ONLY CLUSTERS\n",
    "def aggDataUnordered(df):\n",
    "    clusters = df.iloc[:, 16:20].values\n",
    "    new_clusters = np.sort(clusters, axis=1)[:,::-1]\n",
    "    df.iloc[:, 16:20] = new_clusters\n",
    "    df = df.replace(-999, np.nan)\n",
    "    df['agility']=np.where(df['strategy']!=df['strategy'].shift(-1), 1,0)\n",
    "    ranking = df['ranking']\n",
    "    df = df.drop('ranking', axis=1)\n",
    "    df.insert(len(df.columns), 'ranking', ranking)\n",
    "    df['cluster_A'] = df['cluster_A'] / df['n_alive']\n",
    "    df['cluster_B'] = df['cluster_B'] / df['n_alive']\n",
    "    df['cluster_C'] = df['cluster_C'] / df['n_alive']\n",
    "    df['cluster_D'] = df['cluster_D'] / df['n_alive']\n",
    "    df = df[df.n_alive > 0]\n",
    "    df = df.drop(['time','n_alive','in_aircraft'], axis=1)\n",
    "    df.loc[:,['distance1_2','distance1_3','distance1_4','distance2_3', 'distance2_4', 'distance3_4',\n",
    "              'distance_centroid1', 'distance_centroid2', 'distance_centroid3', 'distance_centroid4']] = df.loc[:,['distance1_2','distance1_3','distance1_4','distance2_3', 'distance2_4', 'distance3_4',\n",
    "                                                                                                                   'distance_centroid1', 'distance_centroid2', 'distance_centroid3', 'distance_centroid4']] / 100\n",
    "    df.loc[:, ['distance1_2','distance1_3','distance1_4','distance2_3', 'distance2_4', 'distance3_4',\n",
    "              'distance_centroid1', 'distance_centroid2', 'distance_centroid3', 'distance_centroid4']] = df.loc[:, ['distance1_2','distance1_3','distance1_4','distance2_3', 'distance2_4', 'distance3_4',\n",
    "                                                                                                                   'distance_centroid1', 'distance_centroid2', 'distance_centroid3', 'distance_centroid4']].applymap(lambda x:np.log(x) if x != 0 else 0)\n",
    "    means = df.groupby(['matchId', 'teamId']).mean().reset_index()\n",
    "    stds = df.groupby(['matchId', 'teamId']).std().reset_index()\n",
    "    means = means.fillna(99)\n",
    "    means = means.replace(np.inf, 0)\n",
    "    stds = stds.fillna(0)\n",
    "    new_df = pd.merge(stds, means, how = 'left', on=['matchId', 'teamId'])\n",
    "    new_df = new_df.drop(['n_players_x', 'ranking_x', 'agility_x'], axis=1)\n",
    "    return new_df"
   ]
  },
  {
   "cell_type": "code",
   "execution_count": 30,
   "metadata": {},
   "outputs": [
    {
     "name": "stderr",
     "output_type": "stream",
     "text": [
      "C:\\Users\\admin\\Anaconda3\\lib\\site-packages\\ipykernel_launcher.py:33: RuntimeWarning: invalid value encountered in log\n"
     ]
    }
   ],
   "source": [
    "#eg.\n",
    "a = 0\n",
    "for file in os.listdir('../combined_csvs'):\n",
    "    df = pd.read_csv(f'../combined_csvs/{file}')\n",
    "    new_df = aggData(df)\n",
    "    if a == 0:\n",
    "        all_df = new_df\n",
    "        a = a+1\n",
    "    else:\n",
    "        all_df = pd.concat([all_df, new_df])\n",
    "    \n",
    "# aggregated_df = aggData(df)\n",
    "#\n",
    "# analysis for ML models should be ran in the resulting dataframe format\n",
    "# MISSING: merge risk behaviour information"
   ]
  },
  {
   "cell_type": "code",
   "execution_count": 31,
   "metadata": {},
   "outputs": [],
   "source": [
    "all_df = all_df.reset_index(drop=True)"
   ]
  },
  {
   "cell_type": "code",
   "execution_count": 32,
   "metadata": {},
   "outputs": [],
   "source": [
    "all_df.to_csv('../final_csvs/all_df_ordered.csv')"
   ]
  },
  {
   "cell_type": "code",
   "execution_count": 33,
   "metadata": {},
   "outputs": [],
   "source": [
    "risk_df = pd.read_csv('D:/PUBG/risk_csv.csv')\n",
    "risk_df.teamId = risk_df.teamId.astype('int')"
   ]
  },
  {
   "cell_type": "code",
   "execution_count": 34,
   "metadata": {},
   "outputs": [],
   "source": [
    "all_risk_df = pd.merge(all_df, risk_df, how='left', on=['matchId','teamId'])"
   ]
  },
  {
   "cell_type": "code",
   "execution_count": 35,
   "metadata": {},
   "outputs": [],
   "source": [
    "all_risk_df.to_csv('../final_csvs/all_risk_df_ordered.csv')"
   ]
  },
  {
   "cell_type": "code",
   "execution_count": null,
   "metadata": {},
   "outputs": [],
   "source": []
  }
 ],
 "metadata": {
  "kernelspec": {
   "display_name": "Python 3",
   "language": "python",
   "name": "python3"
  },
  "language_info": {
   "codemirror_mode": {
    "name": "ipython",
    "version": 3
   },
   "file_extension": ".py",
   "mimetype": "text/x-python",
   "name": "python",
   "nbconvert_exporter": "python",
   "pygments_lexer": "ipython3",
   "version": "3.7.4"
  }
 },
 "nbformat": 4,
 "nbformat_minor": 2
}
