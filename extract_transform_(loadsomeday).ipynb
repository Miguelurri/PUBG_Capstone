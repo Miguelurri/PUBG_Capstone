{
 "cells": [
  {
   "cell_type": "code",
   "execution_count": null,
   "metadata": {},
   "outputs": [],
   "source": [
    "import os\n",
    "import sys\n",
    "import json\n",
    "import time\n",
    "import datetime\n",
    "from importlib import reload\n",
    "\n",
    "import requests\n",
    "\n",
    "import pandas as pd\n",
    "\n",
    "import external as ext"
   ]
  },
  {
   "cell_type": "code",
   "execution_count": null,
   "metadata": {},
   "outputs": [],
   "source": [
    "# define api key\n",
    "apikey = \"your_key\"a"
   ]
  },
  {
   "cell_type": "code",
   "execution_count": null,
   "metadata": {},
   "outputs": [],
   "source": [
    "# define request header\n",
    "headers = {\n",
    "    \"Authorization\": f'Bearer {apikey}',\n",
    "    \"Accept\": \"application/vnd.api+json\"\n",
    "}"
   ]
  },
  {
   "cell_type": "code",
   "execution_count": null,
   "metadata": {},
   "outputs": [],
   "source": [
    "# Define the area\n",
    "area = \"pc-eu\""
   ]
  },
  {
   "cell_type": "code",
   "execution_count": null,
   "metadata": {},
   "outputs": [],
   "source": [
    "# collect a sample of matches\n",
    "url_collectmatchid = f\"https://api.pubg.com/shards/{area}/samples\"\n",
    "response = requests.get(url_collectmatchid, headers=headers)"
   ]
  },
  {
   "cell_type": "code",
   "execution_count": null,
   "metadata": {},
   "outputs": [],
   "source": [
    "response.json()"
   ]
  },
  {
   "cell_type": "code",
   "execution_count": null,
   "metadata": {},
   "outputs": [],
   "source": [
    "# get the id of the matches from the sample\n",
    "matches = [match[\"id\"] for match in response.json()[\"data\"]['relationships'][\"matches\"][\"data\"]]"
   ]
  },
  {
   "cell_type": "code",
   "execution_count": null,
   "metadata": {},
   "outputs": [],
   "source": [
    "# collect the match data of one match. We need this to get the assets id, needed to get the full telemetry data\n",
    "url_collectassetsid = f\"https://api.pubg.com/shards/{area}/matches/{matches[0]}\"\n",
    "response2 = requests.get(url_collectassetsid, headers=headers)"
   ]
  },
  {
   "cell_type": "code",
   "execution_count": null,
   "metadata": {},
   "outputs": [],
   "source": [
    "response2.json()"
   ]
  },
  {
   "cell_type": "code",
   "execution_count": null,
   "metadata": {},
   "outputs": [],
   "source": [
    "# get the asset id from a match\n",
    "asset = response2.json()['data']['relationships']['assets']['data']\n",
    "assetid = json.loads(json.dumps(asset[0]))['id']\n",
    "assetid"
   ]
  },
  {
   "cell_type": "code",
   "execution_count": null,
   "metadata": {},
   "outputs": [],
   "source": [
    "# getting the telemetry object\n",
    "for i in json.loads(json.dumps(response2.json()[\"included\"])):\n",
    "    if i[\"id\"] == assetid:\n",
    "        telemetry_object = i\n",
    "telemetry_object"
   ]
  },
  {
   "cell_type": "code",
   "execution_count": null,
   "metadata": {},
   "outputs": [],
   "source": [
    "# getting the telemetry file for the match\n",
    "url_telemetryobject = json.loads(json.dumps(telemetry_object))[\"attributes\"][\"URL\"]\n",
    "response3 = requests.get(url_telemetryobject, headers=headers)"
   ]
  },
  {
   "cell_type": "code",
   "execution_count": null,
   "metadata": {},
   "outputs": [],
   "source": [
    "response3.json()"
   ]
  },
  {
   "cell_type": "code",
   "execution_count": null,
   "metadata": {},
   "outputs": [],
   "source": [
    "# get kills for the match\n",
    "kills = []\n",
    "for i in json.loads(json.dumps(response3.json())):\n",
    "    if i[\"_T\"] == \"LogPlayerKill\":\n",
    "        kills.append(i)\n",
    "kills"
   ]
  },
  {
   "cell_type": "code",
   "execution_count": null,
   "metadata": {},
   "outputs": [],
   "source": []
  },
  {
   "cell_type": "code",
   "execution_count": null,
   "metadata": {},
   "outputs": [],
   "source": []
  }
 ],
 "metadata": {
  "kernelspec": {
   "display_name": "Python 3",
   "language": "python",
   "name": "python3"
  },
  "language_info": {
   "codemirror_mode": {
    "name": "ipython",
    "version": 3
   },
   "file_extension": ".py",
   "mimetype": "text/x-python",
   "name": "python",
   "nbconvert_exporter": "python",
   "pygments_lexer": "ipython3",
   "version": "3.7.4"
  }
 },
 "nbformat": 4,
 "nbformat_minor": 2
}
