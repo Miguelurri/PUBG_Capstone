{
 "cells": [
  {
   "cell_type": "code",
   "execution_count": 1,
   "metadata": {},
   "outputs": [],
   "source": [
    "import pandas as pd\n",
    "import numpy as np\n",
    "import os\n",
    "import math"
   ]
  },
  {
   "cell_type": "code",
   "execution_count": 127,
   "metadata": {},
   "outputs": [],
   "source": [
    "df = pd.read_csv('final_csvs/all_risk_df_ordered_no_log.csv', index_col=0)"
   ]
  },
  {
   "cell_type": "code",
   "execution_count": 128,
   "metadata": {},
   "outputs": [],
   "source": [
    "df = df.fillna(0)"
   ]
  },
  {
   "cell_type": "code",
   "execution_count": 129,
   "metadata": {},
   "outputs": [],
   "source": [
    "df = df.rename({'ranking_y':'ranking'}, axis=1)"
   ]
  },
  {
   "cell_type": "code",
   "execution_count": 130,
   "metadata": {},
   "outputs": [
    {
     "data": {
      "text/html": [
       "<div>\n",
       "<style scoped>\n",
       "    .dataframe tbody tr th:only-of-type {\n",
       "        vertical-align: middle;\n",
       "    }\n",
       "\n",
       "    .dataframe tbody tr th {\n",
       "        vertical-align: top;\n",
       "    }\n",
       "\n",
       "    .dataframe thead th {\n",
       "        text-align: right;\n",
       "    }\n",
       "</style>\n",
       "<table border=\"1\" class=\"dataframe\">\n",
       "  <thead>\n",
       "    <tr style=\"text-align: right;\">\n",
       "      <th></th>\n",
       "      <th>matchId</th>\n",
       "      <th>teamId</th>\n",
       "      <th>distance1_2_x</th>\n",
       "      <th>distance1_3_x</th>\n",
       "      <th>distance1_4_x</th>\n",
       "      <th>distance2_3_x</th>\n",
       "      <th>distance2_4_x</th>\n",
       "      <th>distance3_4_x</th>\n",
       "      <th>distance_centroid1_x</th>\n",
       "      <th>distance_centroid2_x</th>\n",
       "      <th>distance_centroid3_x</th>\n",
       "      <th>distance_centroid4_x</th>\n",
       "      <th>cluster_A_x</th>\n",
       "      <th>cluster_B_x</th>\n",
       "      <th>cluster_C_x</th>\n",
       "      <th>cluster_D_x</th>\n",
       "      <th>n_players_y</th>\n",
       "      <th>distance1_2_y</th>\n",
       "      <th>distance1_3_y</th>\n",
       "      <th>distance1_4_y</th>\n",
       "      <th>distance2_3_y</th>\n",
       "      <th>distance2_4_y</th>\n",
       "      <th>distance3_4_y</th>\n",
       "      <th>distance_centroid1_y</th>\n",
       "      <th>distance_centroid2_y</th>\n",
       "      <th>distance_centroid3_y</th>\n",
       "      <th>distance_centroid4_y</th>\n",
       "      <th>cluster_A_y</th>\n",
       "      <th>cluster_B_y</th>\n",
       "      <th>cluster_C_y</th>\n",
       "      <th>cluster_D_y</th>\n",
       "      <th>agility_y</th>\n",
       "      <th>ranking</th>\n",
       "      <th>landing_risk1</th>\n",
       "      <th>landing_risk2</th>\n",
       "      <th>landing_risk3</th>\n",
       "      <th>landing_risk4</th>\n",
       "      <th>risk1</th>\n",
       "      <th>risk2</th>\n",
       "      <th>risk3</th>\n",
       "      <th>risk4</th>\n",
       "      <th>risk_std1</th>\n",
       "      <th>risk_std2</th>\n",
       "      <th>risk_std3</th>\n",
       "      <th>risk_std4</th>\n",
       "    </tr>\n",
       "  </thead>\n",
       "  <tbody>\n",
       "    <tr>\n",
       "      <td>0</td>\n",
       "      <td>000fe633-8af8-4037-b318-a1ca39ded6df</td>\n",
       "      <td>1</td>\n",
       "      <td>0.000000</td>\n",
       "      <td>0.000000</td>\n",
       "      <td>0.000000</td>\n",
       "      <td>0.000000</td>\n",
       "      <td>0.000000</td>\n",
       "      <td>0.000000</td>\n",
       "      <td>0.000000</td>\n",
       "      <td>0.000000</td>\n",
       "      <td>0.000000</td>\n",
       "      <td>0.000000</td>\n",
       "      <td>0.000000</td>\n",
       "      <td>0.000000</td>\n",
       "      <td>0.000000</td>\n",
       "      <td>0.000000</td>\n",
       "      <td>4</td>\n",
       "      <td>-9.990000</td>\n",
       "      <td>-9.990000</td>\n",
       "      <td>-9.990000</td>\n",
       "      <td>-9.990000</td>\n",
       "      <td>-9.990000</td>\n",
       "      <td>-9.990000</td>\n",
       "      <td>0.000000</td>\n",
       "      <td>-9.990000</td>\n",
       "      <td>-9.990000</td>\n",
       "      <td>-9.990000</td>\n",
       "      <td>1.000000</td>\n",
       "      <td>0.000000</td>\n",
       "      <td>0.000000</td>\n",
       "      <td>0.000000</td>\n",
       "      <td>0.000000</td>\n",
       "      <td>27.0</td>\n",
       "      <td>0.0</td>\n",
       "      <td>0.0</td>\n",
       "      <td>0.0</td>\n",
       "      <td>0.0</td>\n",
       "      <td>0.000000</td>\n",
       "      <td>0.000000</td>\n",
       "      <td>0.000000</td>\n",
       "      <td>1.500000</td>\n",
       "      <td>0.000000</td>\n",
       "      <td>0.000000</td>\n",
       "      <td>0.000000</td>\n",
       "      <td>2.121320</td>\n",
       "    </tr>\n",
       "    <tr>\n",
       "      <td>1</td>\n",
       "      <td>000fe633-8af8-4037-b318-a1ca39ded6df</td>\n",
       "      <td>2</td>\n",
       "      <td>0.000000</td>\n",
       "      <td>0.000000</td>\n",
       "      <td>0.000000</td>\n",
       "      <td>418.390210</td>\n",
       "      <td>414.514679</td>\n",
       "      <td>30.646491</td>\n",
       "      <td>0.000000</td>\n",
       "      <td>276.378251</td>\n",
       "      <td>142.610992</td>\n",
       "      <td>138.316843</td>\n",
       "      <td>0.171105</td>\n",
       "      <td>0.146385</td>\n",
       "      <td>0.055556</td>\n",
       "      <td>0.000000</td>\n",
       "      <td>3</td>\n",
       "      <td>99.000000</td>\n",
       "      <td>99.000000</td>\n",
       "      <td>99.000000</td>\n",
       "      <td>116.294178</td>\n",
       "      <td>105.775019</td>\n",
       "      <td>5.984846</td>\n",
       "      <td>99.000000</td>\n",
       "      <td>77.765556</td>\n",
       "      <td>38.662222</td>\n",
       "      <td>29.154722</td>\n",
       "      <td>0.907407</td>\n",
       "      <td>0.083333</td>\n",
       "      <td>0.009259</td>\n",
       "      <td>0.000000</td>\n",
       "      <td>0.305556</td>\n",
       "      <td>24.0</td>\n",
       "      <td>2.0</td>\n",
       "      <td>19.0</td>\n",
       "      <td>49.0</td>\n",
       "      <td>0.0</td>\n",
       "      <td>4.100000</td>\n",
       "      <td>8.076923</td>\n",
       "      <td>2.650000</td>\n",
       "      <td>0.000000</td>\n",
       "      <td>6.463664</td>\n",
       "      <td>11.732511</td>\n",
       "      <td>2.661124</td>\n",
       "      <td>0.000000</td>\n",
       "    </tr>\n",
       "    <tr>\n",
       "      <td>2</td>\n",
       "      <td>000fe633-8af8-4037-b318-a1ca39ded6df</td>\n",
       "      <td>3</td>\n",
       "      <td>866.615796</td>\n",
       "      <td>858.782483</td>\n",
       "      <td>840.942177</td>\n",
       "      <td>258.785781</td>\n",
       "      <td>223.967544</td>\n",
       "      <td>47.645528</td>\n",
       "      <td>638.547728</td>\n",
       "      <td>254.697789</td>\n",
       "      <td>228.176702</td>\n",
       "      <td>211.888221</td>\n",
       "      <td>0.241380</td>\n",
       "      <td>0.149161</td>\n",
       "      <td>0.124758</td>\n",
       "      <td>0.056254</td>\n",
       "      <td>4</td>\n",
       "      <td>670.068870</td>\n",
       "      <td>623.830148</td>\n",
       "      <td>590.301084</td>\n",
       "      <td>206.669504</td>\n",
       "      <td>151.517499</td>\n",
       "      <td>23.577984</td>\n",
       "      <td>452.250053</td>\n",
       "      <td>237.548830</td>\n",
       "      <td>185.807766</td>\n",
       "      <td>164.195745</td>\n",
       "      <td>0.677305</td>\n",
       "      <td>0.196365</td>\n",
       "      <td>0.113032</td>\n",
       "      <td>0.013298</td>\n",
       "      <td>0.228723</td>\n",
       "      <td>1.0</td>\n",
       "      <td>0.0</td>\n",
       "      <td>0.0</td>\n",
       "      <td>1.0</td>\n",
       "      <td>0.0</td>\n",
       "      <td>0.731707</td>\n",
       "      <td>1.694301</td>\n",
       "      <td>0.450777</td>\n",
       "      <td>0.201258</td>\n",
       "      <td>1.830544</td>\n",
       "      <td>4.923881</td>\n",
       "      <td>0.934808</td>\n",
       "      <td>0.582225</td>\n",
       "    </tr>\n",
       "    <tr>\n",
       "      <td>3</td>\n",
       "      <td>000fe633-8af8-4037-b318-a1ca39ded6df</td>\n",
       "      <td>4</td>\n",
       "      <td>425.944425</td>\n",
       "      <td>417.198576</td>\n",
       "      <td>321.380618</td>\n",
       "      <td>321.229675</td>\n",
       "      <td>154.322329</td>\n",
       "      <td>30.468740</td>\n",
       "      <td>241.120643</td>\n",
       "      <td>187.078206</td>\n",
       "      <td>180.691959</td>\n",
       "      <td>145.038783</td>\n",
       "      <td>0.233654</td>\n",
       "      <td>0.159028</td>\n",
       "      <td>0.124771</td>\n",
       "      <td>0.044885</td>\n",
       "      <td>4</td>\n",
       "      <td>444.532153</td>\n",
       "      <td>420.683508</td>\n",
       "      <td>349.171299</td>\n",
       "      <td>293.890154</td>\n",
       "      <td>129.542092</td>\n",
       "      <td>28.978415</td>\n",
       "      <td>257.515934</td>\n",
       "      <td>195.877912</td>\n",
       "      <td>169.571429</td>\n",
       "      <td>128.809341</td>\n",
       "      <td>0.634615</td>\n",
       "      <td>0.217033</td>\n",
       "      <td>0.140110</td>\n",
       "      <td>0.008242</td>\n",
       "      <td>0.263736</td>\n",
       "      <td>17.0</td>\n",
       "      <td>0.0</td>\n",
       "      <td>0.0</td>\n",
       "      <td>0.0</td>\n",
       "      <td>0.0</td>\n",
       "      <td>0.553191</td>\n",
       "      <td>0.322581</td>\n",
       "      <td>0.414894</td>\n",
       "      <td>0.232558</td>\n",
       "      <td>1.528349</td>\n",
       "      <td>0.768416</td>\n",
       "      <td>0.781638</td>\n",
       "      <td>0.546097</td>\n",
       "    </tr>\n",
       "    <tr>\n",
       "      <td>4</td>\n",
       "      <td>000fe633-8af8-4037-b318-a1ca39ded6df</td>\n",
       "      <td>5</td>\n",
       "      <td>186.757953</td>\n",
       "      <td>188.940699</td>\n",
       "      <td>184.901774</td>\n",
       "      <td>36.051585</td>\n",
       "      <td>28.180701</td>\n",
       "      <td>17.629798</td>\n",
       "      <td>137.930967</td>\n",
       "      <td>50.013119</td>\n",
       "      <td>50.756820</td>\n",
       "      <td>46.692071</td>\n",
       "      <td>0.113364</td>\n",
       "      <td>0.113364</td>\n",
       "      <td>0.000000</td>\n",
       "      <td>0.000000</td>\n",
       "      <td>4</td>\n",
       "      <td>83.151572</td>\n",
       "      <td>55.651300</td>\n",
       "      <td>47.965736</td>\n",
       "      <td>21.241060</td>\n",
       "      <td>15.045142</td>\n",
       "      <td>4.900832</td>\n",
       "      <td>50.641506</td>\n",
       "      <td>33.667108</td>\n",
       "      <td>15.481145</td>\n",
       "      <td>9.346867</td>\n",
       "      <td>0.960843</td>\n",
       "      <td>0.039157</td>\n",
       "      <td>0.000000</td>\n",
       "      <td>0.000000</td>\n",
       "      <td>0.246988</td>\n",
       "      <td>8.0</td>\n",
       "      <td>4.0</td>\n",
       "      <td>0.0</td>\n",
       "      <td>0.0</td>\n",
       "      <td>0.0</td>\n",
       "      <td>0.630058</td>\n",
       "      <td>0.444444</td>\n",
       "      <td>0.568047</td>\n",
       "      <td>0.408602</td>\n",
       "      <td>1.843158</td>\n",
       "      <td>0.871572</td>\n",
       "      <td>1.252301</td>\n",
       "      <td>0.875221</td>\n",
       "    </tr>\n",
       "  </tbody>\n",
       "</table>\n",
       "</div>"
      ],
      "text/plain": [
       "                                matchId  teamId  distance1_2_x  distance1_3_x  \\\n",
       "0  000fe633-8af8-4037-b318-a1ca39ded6df       1       0.000000       0.000000   \n",
       "1  000fe633-8af8-4037-b318-a1ca39ded6df       2       0.000000       0.000000   \n",
       "2  000fe633-8af8-4037-b318-a1ca39ded6df       3     866.615796     858.782483   \n",
       "3  000fe633-8af8-4037-b318-a1ca39ded6df       4     425.944425     417.198576   \n",
       "4  000fe633-8af8-4037-b318-a1ca39ded6df       5     186.757953     188.940699   \n",
       "\n",
       "   distance1_4_x  distance2_3_x  distance2_4_x  distance3_4_x  \\\n",
       "0       0.000000       0.000000       0.000000       0.000000   \n",
       "1       0.000000     418.390210     414.514679      30.646491   \n",
       "2     840.942177     258.785781     223.967544      47.645528   \n",
       "3     321.380618     321.229675     154.322329      30.468740   \n",
       "4     184.901774      36.051585      28.180701      17.629798   \n",
       "\n",
       "   distance_centroid1_x  distance_centroid2_x  distance_centroid3_x  \\\n",
       "0              0.000000              0.000000              0.000000   \n",
       "1              0.000000            276.378251            142.610992   \n",
       "2            638.547728            254.697789            228.176702   \n",
       "3            241.120643            187.078206            180.691959   \n",
       "4            137.930967             50.013119             50.756820   \n",
       "\n",
       "   distance_centroid4_x  cluster_A_x  cluster_B_x  cluster_C_x  cluster_D_x  \\\n",
       "0              0.000000     0.000000     0.000000     0.000000     0.000000   \n",
       "1            138.316843     0.171105     0.146385     0.055556     0.000000   \n",
       "2            211.888221     0.241380     0.149161     0.124758     0.056254   \n",
       "3            145.038783     0.233654     0.159028     0.124771     0.044885   \n",
       "4             46.692071     0.113364     0.113364     0.000000     0.000000   \n",
       "\n",
       "   n_players_y  distance1_2_y  distance1_3_y  distance1_4_y  distance2_3_y  \\\n",
       "0            4      -9.990000      -9.990000      -9.990000      -9.990000   \n",
       "1            3      99.000000      99.000000      99.000000     116.294178   \n",
       "2            4     670.068870     623.830148     590.301084     206.669504   \n",
       "3            4     444.532153     420.683508     349.171299     293.890154   \n",
       "4            4      83.151572      55.651300      47.965736      21.241060   \n",
       "\n",
       "   distance2_4_y  distance3_4_y  distance_centroid1_y  distance_centroid2_y  \\\n",
       "0      -9.990000      -9.990000              0.000000             -9.990000   \n",
       "1     105.775019       5.984846             99.000000             77.765556   \n",
       "2     151.517499      23.577984            452.250053            237.548830   \n",
       "3     129.542092      28.978415            257.515934            195.877912   \n",
       "4      15.045142       4.900832             50.641506             33.667108   \n",
       "\n",
       "   distance_centroid3_y  distance_centroid4_y  cluster_A_y  cluster_B_y  \\\n",
       "0             -9.990000             -9.990000     1.000000     0.000000   \n",
       "1             38.662222             29.154722     0.907407     0.083333   \n",
       "2            185.807766            164.195745     0.677305     0.196365   \n",
       "3            169.571429            128.809341     0.634615     0.217033   \n",
       "4             15.481145              9.346867     0.960843     0.039157   \n",
       "\n",
       "   cluster_C_y  cluster_D_y  agility_y  ranking  landing_risk1  landing_risk2  \\\n",
       "0     0.000000     0.000000   0.000000     27.0            0.0            0.0   \n",
       "1     0.009259     0.000000   0.305556     24.0            2.0           19.0   \n",
       "2     0.113032     0.013298   0.228723      1.0            0.0            0.0   \n",
       "3     0.140110     0.008242   0.263736     17.0            0.0            0.0   \n",
       "4     0.000000     0.000000   0.246988      8.0            4.0            0.0   \n",
       "\n",
       "   landing_risk3  landing_risk4     risk1     risk2     risk3     risk4  \\\n",
       "0            0.0            0.0  0.000000  0.000000  0.000000  1.500000   \n",
       "1           49.0            0.0  4.100000  8.076923  2.650000  0.000000   \n",
       "2            1.0            0.0  0.731707  1.694301  0.450777  0.201258   \n",
       "3            0.0            0.0  0.553191  0.322581  0.414894  0.232558   \n",
       "4            0.0            0.0  0.630058  0.444444  0.568047  0.408602   \n",
       "\n",
       "   risk_std1  risk_std2  risk_std3  risk_std4  \n",
       "0   0.000000   0.000000   0.000000   2.121320  \n",
       "1   6.463664  11.732511   2.661124   0.000000  \n",
       "2   1.830544   4.923881   0.934808   0.582225  \n",
       "3   1.528349   0.768416   0.781638   0.546097  \n",
       "4   1.843158   0.871572   1.252301   0.875221  "
      ]
     },
     "execution_count": 130,
     "metadata": {},
     "output_type": "execute_result"
    }
   ],
   "source": [
    "df.head()"
   ]
  },
  {
   "cell_type": "markdown",
   "metadata": {},
   "source": [
    "First, we look at how many teams have null values in the distance columns, meaning that the teams are of less than 4 people. We look for 99s because we previously made all the distance nans to have value 99. "
   ]
  },
  {
   "cell_type": "code",
   "execution_count": 131,
   "metadata": {},
   "outputs": [
    {
     "name": "stdout",
     "output_type": "stream",
     "text": [
      "distance1_2_y has 29.446577849904703% null values\n",
      "distance1_3_y has 29.378172588832484% null values\n",
      "distance1_4_y has 29.377464948200704% null values\n",
      "distance2_3_y has 10.598097861981772% null values\n",
      "distance2_4_y has 10.541014851018058% null values\n",
      "distance3_4_y has 6.586247240201535% null values\n",
      "distance_centroid1_y has 29.587398335629235% null values\n",
      "distance_centroid2_y has 11.227190383635573% null values\n",
      "distance_centroid3_y has 7.206612194063366% null values\n",
      "distance_centroid4_y has 0.0% null values\n"
     ]
    }
   ],
   "source": [
    "for c in df.columns:\n",
    "    if ('distance' in c) and ('y' in c):\n",
    "        nns = len([i for i in df[c] if i == 99])\n",
    "        total = len(df[c])\n",
    "        print(f'{c} has {(nns/total)*100}% null values')"
   ]
  },
  {
   "cell_type": "markdown",
   "metadata": {},
   "source": [
    "Then, we drop them. We decide to focus only on 4-player teams."
   ]
  },
  {
   "cell_type": "code",
   "execution_count": 132,
   "metadata": {},
   "outputs": [],
   "source": [
    "df = df.replace(99, np.nan)\n",
    "df = df.dropna()\n",
    "df = df.drop('n_players_y', axis=1)"
   ]
  },
  {
   "cell_type": "markdown",
   "metadata": {},
   "source": [
    "For the risk variable, we derive a new interaction variable. This is risk * risk_std since we saw that they were highly correlated, so we try to capture the effect of the variance in risk with another variable."
   ]
  },
  {
   "cell_type": "code",
   "execution_count": 133,
   "metadata": {},
   "outputs": [],
   "source": [
    "df['risk_int1'] = df['risk1'] * df['risk_std1']\n",
    "df['risk_int2'] = df['risk2'] * df['risk_std2']\n",
    "df['risk_int3'] = df['risk3'] * df['risk_std3']\n",
    "df['risk_int4'] = df['risk4'] * df['risk_std4']\n",
    "df = df.drop(['risk_std1','risk_std2','risk_std3','risk_std4'], axis=1)"
   ]
  },
  {
   "cell_type": "markdown",
   "metadata": {},
   "source": [
    "Now, we order risk variables from highest to lowest, so that the new variables represent from the riskiest player to the least risky player."
   ]
  },
  {
   "cell_type": "code",
   "execution_count": 134,
   "metadata": {},
   "outputs": [],
   "source": [
    "risk = df.loc[:, 'risk1':'risk4']\n",
    "risk = np.sort(risk.values, axis=1)[:,::-1]\n",
    "df.loc[:, 'risk1':'risk4'] = risk\n",
    "risk_std = df.loc[:, 'risk_int1':'risk_int4']\n",
    "risk_std = np.sort(risk_std.values, axis=1)[:,::-1]\n",
    "df.loc[:, 'risk_int1':'risk_int4'] = risk_std\n",
    "lrisk = df.loc[:, 'landing_risk1':'landing_risk4']\n",
    "lrisk = np.sort(lrisk.values, axis=1)[:,::-1]\n",
    "df.loc[:, 'landing_risk1':'landing_risk4'] = lrisk"
   ]
  },
  {
   "cell_type": "markdown",
   "metadata": {},
   "source": [
    "Since the sum of the Cluster columns is always 1, we have a very high correlation. For that reason, we drop one of them. In this case, we drop Cluster A because we see that it is the one with the highest correlation with the others."
   ]
  },
  {
   "cell_type": "code",
   "execution_count": 135,
   "metadata": {},
   "outputs": [
    {
     "data": {
      "text/html": [
       "<div>\n",
       "<style scoped>\n",
       "    .dataframe tbody tr th:only-of-type {\n",
       "        vertical-align: middle;\n",
       "    }\n",
       "\n",
       "    .dataframe tbody tr th {\n",
       "        vertical-align: top;\n",
       "    }\n",
       "\n",
       "    .dataframe thead th {\n",
       "        text-align: right;\n",
       "    }\n",
       "</style>\n",
       "<table border=\"1\" class=\"dataframe\">\n",
       "  <thead>\n",
       "    <tr style=\"text-align: right;\">\n",
       "      <th></th>\n",
       "      <th>cluster_A_x</th>\n",
       "      <th>cluster_B_x</th>\n",
       "      <th>cluster_C_x</th>\n",
       "      <th>cluster_D_x</th>\n",
       "    </tr>\n",
       "  </thead>\n",
       "  <tbody>\n",
       "    <tr>\n",
       "      <td>cluster_A_x</td>\n",
       "      <td>1.000000</td>\n",
       "      <td>0.752828</td>\n",
       "      <td>0.826139</td>\n",
       "      <td>0.680459</td>\n",
       "    </tr>\n",
       "    <tr>\n",
       "      <td>cluster_B_x</td>\n",
       "      <td>0.752828</td>\n",
       "      <td>1.000000</td>\n",
       "      <td>0.440376</td>\n",
       "      <td>0.219371</td>\n",
       "    </tr>\n",
       "    <tr>\n",
       "      <td>cluster_C_x</td>\n",
       "      <td>0.826139</td>\n",
       "      <td>0.440376</td>\n",
       "      <td>1.000000</td>\n",
       "      <td>0.690342</td>\n",
       "    </tr>\n",
       "    <tr>\n",
       "      <td>cluster_D_x</td>\n",
       "      <td>0.680459</td>\n",
       "      <td>0.219371</td>\n",
       "      <td>0.690342</td>\n",
       "      <td>1.000000</td>\n",
       "    </tr>\n",
       "  </tbody>\n",
       "</table>\n",
       "</div>"
      ],
      "text/plain": [
       "             cluster_A_x  cluster_B_x  cluster_C_x  cluster_D_x\n",
       "cluster_A_x     1.000000     0.752828     0.826139     0.680459\n",
       "cluster_B_x     0.752828     1.000000     0.440376     0.219371\n",
       "cluster_C_x     0.826139     0.440376     1.000000     0.690342\n",
       "cluster_D_x     0.680459     0.219371     0.690342     1.000000"
      ]
     },
     "execution_count": 135,
     "metadata": {},
     "output_type": "execute_result"
    }
   ],
   "source": [
    "df.loc[:,'cluster_A_x':'cluster_D_x'].corr()"
   ]
  },
  {
   "cell_type": "code",
   "execution_count": 136,
   "metadata": {},
   "outputs": [
    {
     "data": {
      "text/html": [
       "<div>\n",
       "<style scoped>\n",
       "    .dataframe tbody tr th:only-of-type {\n",
       "        vertical-align: middle;\n",
       "    }\n",
       "\n",
       "    .dataframe tbody tr th {\n",
       "        vertical-align: top;\n",
       "    }\n",
       "\n",
       "    .dataframe thead th {\n",
       "        text-align: right;\n",
       "    }\n",
       "</style>\n",
       "<table border=\"1\" class=\"dataframe\">\n",
       "  <thead>\n",
       "    <tr style=\"text-align: right;\">\n",
       "      <th></th>\n",
       "      <th>cluster_A_y</th>\n",
       "      <th>cluster_B_y</th>\n",
       "      <th>cluster_C_y</th>\n",
       "      <th>cluster_D_y</th>\n",
       "    </tr>\n",
       "  </thead>\n",
       "  <tbody>\n",
       "    <tr>\n",
       "      <td>cluster_A_y</td>\n",
       "      <td>1.000000</td>\n",
       "      <td>-0.924651</td>\n",
       "      <td>-0.896358</td>\n",
       "      <td>-0.724987</td>\n",
       "    </tr>\n",
       "    <tr>\n",
       "      <td>cluster_B_y</td>\n",
       "      <td>-0.924651</td>\n",
       "      <td>1.000000</td>\n",
       "      <td>0.683865</td>\n",
       "      <td>0.473274</td>\n",
       "    </tr>\n",
       "    <tr>\n",
       "      <td>cluster_C_y</td>\n",
       "      <td>-0.896358</td>\n",
       "      <td>0.683865</td>\n",
       "      <td>1.000000</td>\n",
       "      <td>0.743550</td>\n",
       "    </tr>\n",
       "    <tr>\n",
       "      <td>cluster_D_y</td>\n",
       "      <td>-0.724987</td>\n",
       "      <td>0.473274</td>\n",
       "      <td>0.743550</td>\n",
       "      <td>1.000000</td>\n",
       "    </tr>\n",
       "  </tbody>\n",
       "</table>\n",
       "</div>"
      ],
      "text/plain": [
       "             cluster_A_y  cluster_B_y  cluster_C_y  cluster_D_y\n",
       "cluster_A_y     1.000000    -0.924651    -0.896358    -0.724987\n",
       "cluster_B_y    -0.924651     1.000000     0.683865     0.473274\n",
       "cluster_C_y    -0.896358     0.683865     1.000000     0.743550\n",
       "cluster_D_y    -0.724987     0.473274     0.743550     1.000000"
      ]
     },
     "execution_count": 136,
     "metadata": {},
     "output_type": "execute_result"
    }
   ],
   "source": [
    "df.loc[:,'cluster_A_y':'cluster_D_y'].corr()"
   ]
  },
  {
   "cell_type": "code",
   "execution_count": 137,
   "metadata": {},
   "outputs": [],
   "source": [
    "df = df.drop(['cluster_A_x','cluster_A_y'], axis=1)"
   ]
  },
  {
   "cell_type": "markdown",
   "metadata": {},
   "source": [
    "Now, we merge rankpoints"
   ]
  },
  {
   "cell_type": "code",
   "execution_count": 138,
   "metadata": {},
   "outputs": [],
   "source": [
    "rkpts = pd.read_csv('experience_data/rankpoints_csv.csv', index_col=0)\n",
    "df = pd.merge(df, rkpts, how='left', on=['matchId', 'teamId'])"
   ]
  },
  {
   "cell_type": "markdown",
   "metadata": {},
   "source": [
    "Next, we create the control variables for all the groups of variable.\n",
    "We will use as control the mean of each group for the match. E.g. for pair distances, we will control for the mean pair player distance of the match."
   ]
  },
  {
   "cell_type": "code",
   "execution_count": 139,
   "metadata": {},
   "outputs": [],
   "source": [
    "group = df.groupby(['matchId']).mean().reset_index()\n",
    "mean_distance = pd.concat([group.matchId, group[['distance1_2_y', 'distance1_3_y', 'distance1_4_y', 'distance2_3_y', 'distance2_4_y', 'distance3_4_y']].apply(np.mean, axis=1)], axis=1)\n",
    "mean_distance.columns = ['matchId','distance_ctrl']\n",
    "mean_centroid = pd.concat([group.matchId, group[['distance_centroid1_y', 'distance_centroid2_y', 'distance_centroid3_y', 'distance_centroid4_y']].apply(np.mean, axis=1)], axis=1)\n",
    "mean_centroid.columns = ['matchId','centroid_ctrl']\n",
    "mean_cluster = pd.concat([group.matchId, group[['cluster_B_y', 'cluster_C_y','cluster_D_y']].apply(np.mean, axis=1)], axis=1)\n",
    "mean_cluster.columns = ['matchId','cluster_ctrl']\n",
    "mean_exp = pd.concat([group.matchId, group[['exp1', 'exp2', 'exp3', 'exp4']].apply(np.mean, axis=1)], axis=1)\n",
    "mean_exp.columns = ['matchId','exp_ctrl']\n",
    "mean_risk = pd.concat([group.matchId, group[['risk1', 'risk2', 'risk3', 'risk4']].apply(np.mean, axis=1)], axis=1)\n",
    "mean_risk.columns = ['matchId','risk_ctrl']\n",
    "# mean_lrisk = pd.concat([group.matchId, group[['landing_risk1', 'landing_risk2', 'landing_risk3', 'landing_risk4']].apply(np.mean, axis=1)], axis=1)\n",
    "# mean_lrisk.columns = ['matchId','landing_risk_ctrl']\n",
    "mean_agi = group[['matchId', 'agility_y']]\n",
    "mean_agi.columns = ['matchId','agi_ctrl']\n",
    "df = pd.merge(df, mean_distance, how = 'left', on=\"matchId\")\n",
    "df = pd.merge(df, mean_centroid, how = 'left', on=\"matchId\")\n",
    "df = pd.merge(df, mean_cluster, how = 'left', on=\"matchId\")\n",
    "df = pd.merge(df, mean_exp, how = 'left', on=\"matchId\")\n",
    "df = pd.merge(df, mean_risk, how = 'left', on=\"matchId\")\n",
    "# df = pd.merge(df, mean_lrisk, how = 'left', on=\"matchId\")\n",
    "df = pd.merge(df, mean_agi, how = 'left', on=\"matchId\")"
   ]
  },
  {
   "cell_type": "markdown",
   "metadata": {},
   "source": [
    "Now, since experience was already a control variable, we are going to engineer the variable. For that, we are going to normalize the experiences of the palyers by the mean experience of the match, and then we are going to get the aggregate experience for the team. We sum 1 to the denominator in case there is some mean exp that is equal to 0."
   ]
  },
  {
   "cell_type": "code",
   "execution_count": 140,
   "metadata": {},
   "outputs": [],
   "source": [
    "df['exp1'] = df['exp1'] / (df['exp_ctrl'] + 1)\n",
    "df['exp2'] = df['exp2'] / (df['exp_ctrl'] + 1)\n",
    "df['exp3'] = df['exp3'] / (df['exp_ctrl'] + 1)\n",
    "df['exp4'] = df['exp4'] / (df['exp_ctrl'] + 1)\n",
    "df['exp'] = df['exp1'] + df['exp2'] + df['exp3'] + df['exp4']\n",
    "df = df.drop(['exp1','exp2','exp3','exp4', 'exp_ctrl'], axis=1)"
   ]
  },
  {
   "cell_type": "markdown",
   "metadata": {},
   "source": [
    "Since we have many players for whom we don't know the experience, we are going to drop them.<br><BR>\n",
    "(NOT SURE ABOUT THIS, I THINK IT MAKES THE MODEL WORSE SO I COMMENTED IT) Then, we are going to recalculate the rankings for our regression tasks. The goal is to show the ranking in the match of the teams that we have information about. E.g. if for a match we only have 4 teams left, ranks 1,5,9,11, the new ranks will be 1,2,3,4 respectively."
   ]
  },
  {
   "cell_type": "code",
   "execution_count": 141,
   "metadata": {},
   "outputs": [],
   "source": [
    "df = df.dropna()\n",
    "# for match in df.matchId.unique():\n",
    "#     df.loc[df.matchId == match,'new_ranking'] = df.loc[df.matchId == match,'ranking'].rank()"
   ]
  },
  {
   "cell_type": "markdown",
   "metadata": {},
   "source": [
    "To make things easiear, we make sure that ranking is the last column."
   ]
  },
  {
   "cell_type": "code",
   "execution_count": 142,
   "metadata": {},
   "outputs": [],
   "source": [
    "ranking = df.pop('ranking')\n",
    "df.insert(df.shape[1], 'ranking', ranking)"
   ]
  },
  {
   "cell_type": "markdown",
   "metadata": {},
   "source": [
    "Since we have many variables ordered, we drop the middle variables to stay only with max and min variables (they don't add much to the model)."
   ]
  },
  {
   "cell_type": "code",
   "execution_count": 143,
   "metadata": {},
   "outputs": [],
   "source": [
    "df = df.drop(['distance1_3_x', 'distance1_4_x', 'distance2_3_x', 'distance2_4_x',\n",
    "              'distance1_3_y', 'distance1_4_y', 'distance2_3_y', 'distance2_4_y', \n",
    "              'distance_centroid2_x', 'distance_centroid3_x', 'distance_centroid2_y', 'distance_centroid3_y',\n",
    "              'risk2', 'risk3', 'risk_int2', 'risk_int3', 'landing_risk2','landing_risk3'], axis=1)"
   ]
  },
  {
   "cell_type": "code",
   "execution_count": 144,
   "metadata": {},
   "outputs": [
    {
     "data": {
      "text/html": [
       "<div>\n",
       "<style scoped>\n",
       "    .dataframe tbody tr th:only-of-type {\n",
       "        vertical-align: middle;\n",
       "    }\n",
       "\n",
       "    .dataframe tbody tr th {\n",
       "        vertical-align: top;\n",
       "    }\n",
       "\n",
       "    .dataframe thead th {\n",
       "        text-align: right;\n",
       "    }\n",
       "</style>\n",
       "<table border=\"1\" class=\"dataframe\">\n",
       "  <thead>\n",
       "    <tr style=\"text-align: right;\">\n",
       "      <th></th>\n",
       "      <th>0</th>\n",
       "      <th>1</th>\n",
       "      <th>2</th>\n",
       "      <th>3</th>\n",
       "      <th>4</th>\n",
       "      <th>5</th>\n",
       "      <th>6</th>\n",
       "      <th>7</th>\n",
       "      <th>8</th>\n",
       "      <th>9</th>\n",
       "      <th>10</th>\n",
       "      <th>11</th>\n",
       "      <th>12</th>\n",
       "      <th>13</th>\n",
       "      <th>14</th>\n",
       "      <th>15</th>\n",
       "      <th>16</th>\n",
       "      <th>17</th>\n",
       "      <th>18</th>\n",
       "      <th>19</th>\n",
       "      <th>20</th>\n",
       "      <th>21</th>\n",
       "      <th>22</th>\n",
       "      <th>23</th>\n",
       "      <th>24</th>\n",
       "      <th>25</th>\n",
       "      <th>26</th>\n",
       "      <th>27</th>\n",
       "      <th>28</th>\n",
       "      <th>29</th>\n",
       "    </tr>\n",
       "  </thead>\n",
       "  <tbody>\n",
       "    <tr>\n",
       "      <td>0</td>\n",
       "      <td>matchId</td>\n",
       "      <td>teamId</td>\n",
       "      <td>distance1_2_x</td>\n",
       "      <td>distance3_4_x</td>\n",
       "      <td>distance_centroid1_x</td>\n",
       "      <td>distance_centroid4_x</td>\n",
       "      <td>cluster_B_x</td>\n",
       "      <td>cluster_C_x</td>\n",
       "      <td>cluster_D_x</td>\n",
       "      <td>distance1_2_y</td>\n",
       "      <td>distance3_4_y</td>\n",
       "      <td>distance_centroid1_y</td>\n",
       "      <td>distance_centroid4_y</td>\n",
       "      <td>cluster_B_y</td>\n",
       "      <td>cluster_C_y</td>\n",
       "      <td>cluster_D_y</td>\n",
       "      <td>agility_y</td>\n",
       "      <td>landing_risk1</td>\n",
       "      <td>landing_risk4</td>\n",
       "      <td>risk1</td>\n",
       "      <td>risk4</td>\n",
       "      <td>risk_int1</td>\n",
       "      <td>risk_int4</td>\n",
       "      <td>distance_ctrl</td>\n",
       "      <td>centroid_ctrl</td>\n",
       "      <td>cluster_ctrl</td>\n",
       "      <td>risk_ctrl</td>\n",
       "      <td>agi_ctrl</td>\n",
       "      <td>exp</td>\n",
       "      <td>ranking</td>\n",
       "    </tr>\n",
       "  </tbody>\n",
       "</table>\n",
       "</div>"
      ],
      "text/plain": [
       "         0       1              2              3                     4  \\\n",
       "0  matchId  teamId  distance1_2_x  distance3_4_x  distance_centroid1_x   \n",
       "\n",
       "                      5            6            7            8              9  \\\n",
       "0  distance_centroid4_x  cluster_B_x  cluster_C_x  cluster_D_x  distance1_2_y   \n",
       "\n",
       "              10                    11                    12           13  \\\n",
       "0  distance3_4_y  distance_centroid1_y  distance_centroid4_y  cluster_B_y   \n",
       "\n",
       "            14           15         16             17             18     19  \\\n",
       "0  cluster_C_y  cluster_D_y  agility_y  landing_risk1  landing_risk4  risk1   \n",
       "\n",
       "      20         21         22             23             24            25  \\\n",
       "0  risk4  risk_int1  risk_int4  distance_ctrl  centroid_ctrl  cluster_ctrl   \n",
       "\n",
       "          26        27   28       29  \n",
       "0  risk_ctrl  agi_ctrl  exp  ranking  "
      ]
     },
     "execution_count": 144,
     "metadata": {},
     "output_type": "execute_result"
    }
   ],
   "source": [
    "pd.set_option('display.max_columns', 48)\n",
    "pd.DataFrame(df.columns).transpose()"
   ]
  },
  {
   "cell_type": "markdown",
   "metadata": {},
   "source": [
    "Then, we separate the two df that we are going to study"
   ]
  },
  {
   "cell_type": "code",
   "execution_count": 168,
   "metadata": {},
   "outputs": [],
   "source": [
    "# distances and centroids\n",
    "df1 = pd.concat([df.iloc[:,0:6], df.iloc[:,9:13], df.iloc[:,16:25], df.iloc[:,26:]], axis=1)\n",
    "\n",
    "# distances and clusters\n",
    "df2 = pd.concat([df.iloc[:,0:4], df.iloc[:,6:11], df.iloc[:,13:24], df.iloc[:,25:]], axis=1)\n"
   ]
  },
  {
   "cell_type": "markdown",
   "metadata": {},
   "source": [
    "Here, I just check the correlations. There is probably something that we can do about high correlations, though."
   ]
  },
  {
   "cell_type": "code",
   "execution_count": 169,
   "metadata": {},
   "outputs": [
    {
     "data": {
      "text/html": [
       "<style  type=\"text/css\" >\n",
       "    #T_47e33af0_b87e_11ea_95d5_3c9509197fc0row0_col0 {\n",
       "            background:  red;\n",
       "        }    #T_47e33af0_b87e_11ea_95d5_3c9509197fc0row0_col5 {\n",
       "            background:  red;\n",
       "        }    #T_47e33af0_b87e_11ea_95d5_3c9509197fc0row1_col1 {\n",
       "            background:  red;\n",
       "        }    #T_47e33af0_b87e_11ea_95d5_3c9509197fc0row1_col6 {\n",
       "            background:  red;\n",
       "        }    #T_47e33af0_b87e_11ea_95d5_3c9509197fc0row2_col2 {\n",
       "            background:  red;\n",
       "        }    #T_47e33af0_b87e_11ea_95d5_3c9509197fc0row3_col3 {\n",
       "            background:  red;\n",
       "        }    #T_47e33af0_b87e_11ea_95d5_3c9509197fc0row3_col8 {\n",
       "            background:  red;\n",
       "        }    #T_47e33af0_b87e_11ea_95d5_3c9509197fc0row4_col4 {\n",
       "            background:  red;\n",
       "        }    #T_47e33af0_b87e_11ea_95d5_3c9509197fc0row4_col9 {\n",
       "            background:  red;\n",
       "        }    #T_47e33af0_b87e_11ea_95d5_3c9509197fc0row5_col0 {\n",
       "            background:  red;\n",
       "        }    #T_47e33af0_b87e_11ea_95d5_3c9509197fc0row5_col5 {\n",
       "            background:  red;\n",
       "        }    #T_47e33af0_b87e_11ea_95d5_3c9509197fc0row6_col1 {\n",
       "            background:  red;\n",
       "        }    #T_47e33af0_b87e_11ea_95d5_3c9509197fc0row6_col6 {\n",
       "            background:  red;\n",
       "        }    #T_47e33af0_b87e_11ea_95d5_3c9509197fc0row6_col9 {\n",
       "            background:  red;\n",
       "        }    #T_47e33af0_b87e_11ea_95d5_3c9509197fc0row7_col7 {\n",
       "            background:  red;\n",
       "        }    #T_47e33af0_b87e_11ea_95d5_3c9509197fc0row8_col3 {\n",
       "            background:  red;\n",
       "        }    #T_47e33af0_b87e_11ea_95d5_3c9509197fc0row8_col8 {\n",
       "            background:  red;\n",
       "        }    #T_47e33af0_b87e_11ea_95d5_3c9509197fc0row9_col4 {\n",
       "            background:  red;\n",
       "        }    #T_47e33af0_b87e_11ea_95d5_3c9509197fc0row9_col6 {\n",
       "            background:  red;\n",
       "        }    #T_47e33af0_b87e_11ea_95d5_3c9509197fc0row9_col9 {\n",
       "            background:  red;\n",
       "        }    #T_47e33af0_b87e_11ea_95d5_3c9509197fc0row10_col10 {\n",
       "            background:  red;\n",
       "        }    #T_47e33af0_b87e_11ea_95d5_3c9509197fc0row11_col11 {\n",
       "            background:  red;\n",
       "        }    #T_47e33af0_b87e_11ea_95d5_3c9509197fc0row12_col12 {\n",
       "            background:  red;\n",
       "        }    #T_47e33af0_b87e_11ea_95d5_3c9509197fc0row13_col13 {\n",
       "            background:  red;\n",
       "        }    #T_47e33af0_b87e_11ea_95d5_3c9509197fc0row13_col15 {\n",
       "            background:  red;\n",
       "        }    #T_47e33af0_b87e_11ea_95d5_3c9509197fc0row14_col14 {\n",
       "            background:  red;\n",
       "        }    #T_47e33af0_b87e_11ea_95d5_3c9509197fc0row14_col16 {\n",
       "            background:  red;\n",
       "        }    #T_47e33af0_b87e_11ea_95d5_3c9509197fc0row15_col13 {\n",
       "            background:  red;\n",
       "        }    #T_47e33af0_b87e_11ea_95d5_3c9509197fc0row15_col15 {\n",
       "            background:  red;\n",
       "        }    #T_47e33af0_b87e_11ea_95d5_3c9509197fc0row16_col14 {\n",
       "            background:  red;\n",
       "        }    #T_47e33af0_b87e_11ea_95d5_3c9509197fc0row16_col16 {\n",
       "            background:  red;\n",
       "        }    #T_47e33af0_b87e_11ea_95d5_3c9509197fc0row17_col17 {\n",
       "            background:  red;\n",
       "        }    #T_47e33af0_b87e_11ea_95d5_3c9509197fc0row17_col18 {\n",
       "            background:  red;\n",
       "        }    #T_47e33af0_b87e_11ea_95d5_3c9509197fc0row18_col17 {\n",
       "            background:  red;\n",
       "        }    #T_47e33af0_b87e_11ea_95d5_3c9509197fc0row18_col18 {\n",
       "            background:  red;\n",
       "        }    #T_47e33af0_b87e_11ea_95d5_3c9509197fc0row19_col19 {\n",
       "            background:  red;\n",
       "        }    #T_47e33af0_b87e_11ea_95d5_3c9509197fc0row20_col20 {\n",
       "            background:  red;\n",
       "        }    #T_47e33af0_b87e_11ea_95d5_3c9509197fc0row21_col21 {\n",
       "            background:  red;\n",
       "        }    #T_47e33af0_b87e_11ea_95d5_3c9509197fc0row22_col22 {\n",
       "            background:  red;\n",
       "        }</style><table id=\"T_47e33af0_b87e_11ea_95d5_3c9509197fc0\" ><thead>    <tr>        <th class=\"blank level0\" ></th>        <th class=\"col_heading level0 col0\" >distance1_2_x</th>        <th class=\"col_heading level0 col1\" >distance3_4_x</th>        <th class=\"col_heading level0 col2\" >cluster_B_x</th>        <th class=\"col_heading level0 col3\" >cluster_C_x</th>        <th class=\"col_heading level0 col4\" >cluster_D_x</th>        <th class=\"col_heading level0 col5\" >distance1_2_y</th>        <th class=\"col_heading level0 col6\" >distance3_4_y</th>        <th class=\"col_heading level0 col7\" >cluster_B_y</th>        <th class=\"col_heading level0 col8\" >cluster_C_y</th>        <th class=\"col_heading level0 col9\" >cluster_D_y</th>        <th class=\"col_heading level0 col10\" >agility_y</th>        <th class=\"col_heading level0 col11\" >landing_risk1</th>        <th class=\"col_heading level0 col12\" >landing_risk4</th>        <th class=\"col_heading level0 col13\" >risk1</th>        <th class=\"col_heading level0 col14\" >risk4</th>        <th class=\"col_heading level0 col15\" >risk_int1</th>        <th class=\"col_heading level0 col16\" >risk_int4</th>        <th class=\"col_heading level0 col17\" >distance_ctrl</th>        <th class=\"col_heading level0 col18\" >cluster_ctrl</th>        <th class=\"col_heading level0 col19\" >risk_ctrl</th>        <th class=\"col_heading level0 col20\" >agi_ctrl</th>        <th class=\"col_heading level0 col21\" >exp</th>        <th class=\"col_heading level0 col22\" >ranking</th>    </tr></thead><tbody>\n",
       "                <tr>\n",
       "                        <th id=\"T_47e33af0_b87e_11ea_95d5_3c9509197fc0level0_row0\" class=\"row_heading level0 row0\" >distance1_2_x</th>\n",
       "                        <td id=\"T_47e33af0_b87e_11ea_95d5_3c9509197fc0row0_col0\" class=\"data row0 col0\" >1</td>\n",
       "                        <td id=\"T_47e33af0_b87e_11ea_95d5_3c9509197fc0row0_col1\" class=\"data row0 col1\" >0.438881</td>\n",
       "                        <td id=\"T_47e33af0_b87e_11ea_95d5_3c9509197fc0row0_col2\" class=\"data row0 col2\" >0.208932</td>\n",
       "                        <td id=\"T_47e33af0_b87e_11ea_95d5_3c9509197fc0row0_col3\" class=\"data row0 col3\" >0.42756</td>\n",
       "                        <td id=\"T_47e33af0_b87e_11ea_95d5_3c9509197fc0row0_col4\" class=\"data row0 col4\" >0.40087</td>\n",
       "                        <td id=\"T_47e33af0_b87e_11ea_95d5_3c9509197fc0row0_col5\" class=\"data row0 col5\" >0.811931</td>\n",
       "                        <td id=\"T_47e33af0_b87e_11ea_95d5_3c9509197fc0row0_col6\" class=\"data row0 col6\" >0.284841</td>\n",
       "                        <td id=\"T_47e33af0_b87e_11ea_95d5_3c9509197fc0row0_col7\" class=\"data row0 col7\" >0.385352</td>\n",
       "                        <td id=\"T_47e33af0_b87e_11ea_95d5_3c9509197fc0row0_col8\" class=\"data row0 col8\" >0.418999</td>\n",
       "                        <td id=\"T_47e33af0_b87e_11ea_95d5_3c9509197fc0row0_col9\" class=\"data row0 col9\" >0.338804</td>\n",
       "                        <td id=\"T_47e33af0_b87e_11ea_95d5_3c9509197fc0row0_col10\" class=\"data row0 col10\" >-0.130943</td>\n",
       "                        <td id=\"T_47e33af0_b87e_11ea_95d5_3c9509197fc0row0_col11\" class=\"data row0 col11\" >-0.205583</td>\n",
       "                        <td id=\"T_47e33af0_b87e_11ea_95d5_3c9509197fc0row0_col12\" class=\"data row0 col12\" >-0.206786</td>\n",
       "                        <td id=\"T_47e33af0_b87e_11ea_95d5_3c9509197fc0row0_col13\" class=\"data row0 col13\" >-0.177473</td>\n",
       "                        <td id=\"T_47e33af0_b87e_11ea_95d5_3c9509197fc0row0_col14\" class=\"data row0 col14\" >-0.262474</td>\n",
       "                        <td id=\"T_47e33af0_b87e_11ea_95d5_3c9509197fc0row0_col15\" class=\"data row0 col15\" >-0.125155</td>\n",
       "                        <td id=\"T_47e33af0_b87e_11ea_95d5_3c9509197fc0row0_col16\" class=\"data row0 col16\" >-0.142843</td>\n",
       "                        <td id=\"T_47e33af0_b87e_11ea_95d5_3c9509197fc0row0_col17\" class=\"data row0 col17\" >0.488381</td>\n",
       "                        <td id=\"T_47e33af0_b87e_11ea_95d5_3c9509197fc0row0_col18\" class=\"data row0 col18\" >0.411544</td>\n",
       "                        <td id=\"T_47e33af0_b87e_11ea_95d5_3c9509197fc0row0_col19\" class=\"data row0 col19\" >-0.338419</td>\n",
       "                        <td id=\"T_47e33af0_b87e_11ea_95d5_3c9509197fc0row0_col20\" class=\"data row0 col20\" >-0.134306</td>\n",
       "                        <td id=\"T_47e33af0_b87e_11ea_95d5_3c9509197fc0row0_col21\" class=\"data row0 col21\" >-0.0938988</td>\n",
       "                        <td id=\"T_47e33af0_b87e_11ea_95d5_3c9509197fc0row0_col22\" class=\"data row0 col22\" >0.107396</td>\n",
       "            </tr>\n",
       "            <tr>\n",
       "                        <th id=\"T_47e33af0_b87e_11ea_95d5_3c9509197fc0level0_row1\" class=\"row_heading level0 row1\" >distance3_4_x</th>\n",
       "                        <td id=\"T_47e33af0_b87e_11ea_95d5_3c9509197fc0row1_col0\" class=\"data row1 col0\" >0.438881</td>\n",
       "                        <td id=\"T_47e33af0_b87e_11ea_95d5_3c9509197fc0row1_col1\" class=\"data row1 col1\" >1</td>\n",
       "                        <td id=\"T_47e33af0_b87e_11ea_95d5_3c9509197fc0row1_col2\" class=\"data row1 col2\" >0.14828</td>\n",
       "                        <td id=\"T_47e33af0_b87e_11ea_95d5_3c9509197fc0row1_col3\" class=\"data row1 col3\" >0.467388</td>\n",
       "                        <td id=\"T_47e33af0_b87e_11ea_95d5_3c9509197fc0row1_col4\" class=\"data row1 col4\" >0.675099</td>\n",
       "                        <td id=\"T_47e33af0_b87e_11ea_95d5_3c9509197fc0row1_col5\" class=\"data row1 col5\" >0.478311</td>\n",
       "                        <td id=\"T_47e33af0_b87e_11ea_95d5_3c9509197fc0row1_col6\" class=\"data row1 col6\" >0.843018</td>\n",
       "                        <td id=\"T_47e33af0_b87e_11ea_95d5_3c9509197fc0row1_col7\" class=\"data row1 col7\" >0.362245</td>\n",
       "                        <td id=\"T_47e33af0_b87e_11ea_95d5_3c9509197fc0row1_col8\" class=\"data row1 col8\" >0.558062</td>\n",
       "                        <td id=\"T_47e33af0_b87e_11ea_95d5_3c9509197fc0row1_col9\" class=\"data row1 col9\" >0.711003</td>\n",
       "                        <td id=\"T_47e33af0_b87e_11ea_95d5_3c9509197fc0row1_col10\" class=\"data row1 col10\" >-0.0686545</td>\n",
       "                        <td id=\"T_47e33af0_b87e_11ea_95d5_3c9509197fc0row1_col11\" class=\"data row1 col11\" >-0.208638</td>\n",
       "                        <td id=\"T_47e33af0_b87e_11ea_95d5_3c9509197fc0row1_col12\" class=\"data row1 col12\" >-0.182441</td>\n",
       "                        <td id=\"T_47e33af0_b87e_11ea_95d5_3c9509197fc0row1_col13\" class=\"data row1 col13\" >-0.189172</td>\n",
       "                        <td id=\"T_47e33af0_b87e_11ea_95d5_3c9509197fc0row1_col14\" class=\"data row1 col14\" >-0.228596</td>\n",
       "                        <td id=\"T_47e33af0_b87e_11ea_95d5_3c9509197fc0row1_col15\" class=\"data row1 col15\" >-0.126908</td>\n",
       "                        <td id=\"T_47e33af0_b87e_11ea_95d5_3c9509197fc0row1_col16\" class=\"data row1 col16\" >-0.130368</td>\n",
       "                        <td id=\"T_47e33af0_b87e_11ea_95d5_3c9509197fc0row1_col17\" class=\"data row1 col17\" >0.34414</td>\n",
       "                        <td id=\"T_47e33af0_b87e_11ea_95d5_3c9509197fc0row1_col18\" class=\"data row1 col18\" >0.324802</td>\n",
       "                        <td id=\"T_47e33af0_b87e_11ea_95d5_3c9509197fc0row1_col19\" class=\"data row1 col19\" >-0.242611</td>\n",
       "                        <td id=\"T_47e33af0_b87e_11ea_95d5_3c9509197fc0row1_col20\" class=\"data row1 col20\" >-0.075991</td>\n",
       "                        <td id=\"T_47e33af0_b87e_11ea_95d5_3c9509197fc0row1_col21\" class=\"data row1 col21\" >-0.0608774</td>\n",
       "                        <td id=\"T_47e33af0_b87e_11ea_95d5_3c9509197fc0row1_col22\" class=\"data row1 col22\" >0.0186199</td>\n",
       "            </tr>\n",
       "            <tr>\n",
       "                        <th id=\"T_47e33af0_b87e_11ea_95d5_3c9509197fc0level0_row2\" class=\"row_heading level0 row2\" >cluster_B_x</th>\n",
       "                        <td id=\"T_47e33af0_b87e_11ea_95d5_3c9509197fc0row2_col0\" class=\"data row2 col0\" >0.208932</td>\n",
       "                        <td id=\"T_47e33af0_b87e_11ea_95d5_3c9509197fc0row2_col1\" class=\"data row2 col1\" >0.14828</td>\n",
       "                        <td id=\"T_47e33af0_b87e_11ea_95d5_3c9509197fc0row2_col2\" class=\"data row2 col2\" >1</td>\n",
       "                        <td id=\"T_47e33af0_b87e_11ea_95d5_3c9509197fc0row2_col3\" class=\"data row2 col3\" >0.430691</td>\n",
       "                        <td id=\"T_47e33af0_b87e_11ea_95d5_3c9509197fc0row2_col4\" class=\"data row2 col4\" >0.197662</td>\n",
       "                        <td id=\"T_47e33af0_b87e_11ea_95d5_3c9509197fc0row2_col5\" class=\"data row2 col5\" >0.154466</td>\n",
       "                        <td id=\"T_47e33af0_b87e_11ea_95d5_3c9509197fc0row2_col6\" class=\"data row2 col6\" >0.0642551</td>\n",
       "                        <td id=\"T_47e33af0_b87e_11ea_95d5_3c9509197fc0row2_col7\" class=\"data row2 col7\" >0.627416</td>\n",
       "                        <td id=\"T_47e33af0_b87e_11ea_95d5_3c9509197fc0row2_col8\" class=\"data row2 col8\" >0.216019</td>\n",
       "                        <td id=\"T_47e33af0_b87e_11ea_95d5_3c9509197fc0row2_col9\" class=\"data row2 col9\" >0.0903913</td>\n",
       "                        <td id=\"T_47e33af0_b87e_11ea_95d5_3c9509197fc0row2_col10\" class=\"data row2 col10\" >0.0729422</td>\n",
       "                        <td id=\"T_47e33af0_b87e_11ea_95d5_3c9509197fc0row2_col11\" class=\"data row2 col11\" >-0.232438</td>\n",
       "                        <td id=\"T_47e33af0_b87e_11ea_95d5_3c9509197fc0row2_col12\" class=\"data row2 col12\" >-0.288469</td>\n",
       "                        <td id=\"T_47e33af0_b87e_11ea_95d5_3c9509197fc0row2_col13\" class=\"data row2 col13\" >-0.268299</td>\n",
       "                        <td id=\"T_47e33af0_b87e_11ea_95d5_3c9509197fc0row2_col14\" class=\"data row2 col14\" >-0.375432</td>\n",
       "                        <td id=\"T_47e33af0_b87e_11ea_95d5_3c9509197fc0row2_col15\" class=\"data row2 col15\" >-0.197643</td>\n",
       "                        <td id=\"T_47e33af0_b87e_11ea_95d5_3c9509197fc0row2_col16\" class=\"data row2 col16\" >-0.257156</td>\n",
       "                        <td id=\"T_47e33af0_b87e_11ea_95d5_3c9509197fc0row2_col17\" class=\"data row2 col17\" >0.219496</td>\n",
       "                        <td id=\"T_47e33af0_b87e_11ea_95d5_3c9509197fc0row2_col18\" class=\"data row2 col18\" >0.297356</td>\n",
       "                        <td id=\"T_47e33af0_b87e_11ea_95d5_3c9509197fc0row2_col19\" class=\"data row2 col19\" >-0.240091</td>\n",
       "                        <td id=\"T_47e33af0_b87e_11ea_95d5_3c9509197fc0row2_col20\" class=\"data row2 col20\" >-0.0519605</td>\n",
       "                        <td id=\"T_47e33af0_b87e_11ea_95d5_3c9509197fc0row2_col21\" class=\"data row2 col21\" >-0.0733902</td>\n",
       "                        <td id=\"T_47e33af0_b87e_11ea_95d5_3c9509197fc0row2_col22\" class=\"data row2 col22\" >-0.0986852</td>\n",
       "            </tr>\n",
       "            <tr>\n",
       "                        <th id=\"T_47e33af0_b87e_11ea_95d5_3c9509197fc0level0_row3\" class=\"row_heading level0 row3\" >cluster_C_x</th>\n",
       "                        <td id=\"T_47e33af0_b87e_11ea_95d5_3c9509197fc0row3_col0\" class=\"data row3 col0\" >0.42756</td>\n",
       "                        <td id=\"T_47e33af0_b87e_11ea_95d5_3c9509197fc0row3_col1\" class=\"data row3 col1\" >0.467388</td>\n",
       "                        <td id=\"T_47e33af0_b87e_11ea_95d5_3c9509197fc0row3_col2\" class=\"data row3 col2\" >0.430691</td>\n",
       "                        <td id=\"T_47e33af0_b87e_11ea_95d5_3c9509197fc0row3_col3\" class=\"data row3 col3\" >1</td>\n",
       "                        <td id=\"T_47e33af0_b87e_11ea_95d5_3c9509197fc0row3_col4\" class=\"data row3 col4\" >0.673708</td>\n",
       "                        <td id=\"T_47e33af0_b87e_11ea_95d5_3c9509197fc0row3_col5\" class=\"data row3 col5\" >0.450723</td>\n",
       "                        <td id=\"T_47e33af0_b87e_11ea_95d5_3c9509197fc0row3_col6\" class=\"data row3 col6\" >0.405849</td>\n",
       "                        <td id=\"T_47e33af0_b87e_11ea_95d5_3c9509197fc0row3_col7\" class=\"data row3 col7\" >0.685156</td>\n",
       "                        <td id=\"T_47e33af0_b87e_11ea_95d5_3c9509197fc0row3_col8\" class=\"data row3 col8\" >0.839799</td>\n",
       "                        <td id=\"T_47e33af0_b87e_11ea_95d5_3c9509197fc0row3_col9\" class=\"data row3 col9\" >0.517345</td>\n",
       "                        <td id=\"T_47e33af0_b87e_11ea_95d5_3c9509197fc0row3_col10\" class=\"data row3 col10\" >0.0112444</td>\n",
       "                        <td id=\"T_47e33af0_b87e_11ea_95d5_3c9509197fc0row3_col11\" class=\"data row3 col11\" >-0.353847</td>\n",
       "                        <td id=\"T_47e33af0_b87e_11ea_95d5_3c9509197fc0row3_col12\" class=\"data row3 col12\" >-0.352442</td>\n",
       "                        <td id=\"T_47e33af0_b87e_11ea_95d5_3c9509197fc0row3_col13\" class=\"data row3 col13\" >-0.353971</td>\n",
       "                        <td id=\"T_47e33af0_b87e_11ea_95d5_3c9509197fc0row3_col14\" class=\"data row3 col14\" >-0.4338</td>\n",
       "                        <td id=\"T_47e33af0_b87e_11ea_95d5_3c9509197fc0row3_col15\" class=\"data row3 col15\" >-0.248022</td>\n",
       "                        <td id=\"T_47e33af0_b87e_11ea_95d5_3c9509197fc0row3_col16\" class=\"data row3 col16\" >-0.261157</td>\n",
       "                        <td id=\"T_47e33af0_b87e_11ea_95d5_3c9509197fc0row3_col17\" class=\"data row3 col17\" >0.397187</td>\n",
       "                        <td id=\"T_47e33af0_b87e_11ea_95d5_3c9509197fc0row3_col18\" class=\"data row3 col18\" >0.477237</td>\n",
       "                        <td id=\"T_47e33af0_b87e_11ea_95d5_3c9509197fc0row3_col19\" class=\"data row3 col19\" >-0.38641</td>\n",
       "                        <td id=\"T_47e33af0_b87e_11ea_95d5_3c9509197fc0row3_col20\" class=\"data row3 col20\" >-0.109355</td>\n",
       "                        <td id=\"T_47e33af0_b87e_11ea_95d5_3c9509197fc0row3_col21\" class=\"data row3 col21\" >-0.098319</td>\n",
       "                        <td id=\"T_47e33af0_b87e_11ea_95d5_3c9509197fc0row3_col22\" class=\"data row3 col22\" >0.00309993</td>\n",
       "            </tr>\n",
       "            <tr>\n",
       "                        <th id=\"T_47e33af0_b87e_11ea_95d5_3c9509197fc0level0_row4\" class=\"row_heading level0 row4\" >cluster_D_x</th>\n",
       "                        <td id=\"T_47e33af0_b87e_11ea_95d5_3c9509197fc0row4_col0\" class=\"data row4 col0\" >0.40087</td>\n",
       "                        <td id=\"T_47e33af0_b87e_11ea_95d5_3c9509197fc0row4_col1\" class=\"data row4 col1\" >0.675099</td>\n",
       "                        <td id=\"T_47e33af0_b87e_11ea_95d5_3c9509197fc0row4_col2\" class=\"data row4 col2\" >0.197662</td>\n",
       "                        <td id=\"T_47e33af0_b87e_11ea_95d5_3c9509197fc0row4_col3\" class=\"data row4 col3\" >0.673708</td>\n",
       "                        <td id=\"T_47e33af0_b87e_11ea_95d5_3c9509197fc0row4_col4\" class=\"data row4 col4\" >1</td>\n",
       "                        <td id=\"T_47e33af0_b87e_11ea_95d5_3c9509197fc0row4_col5\" class=\"data row4 col5\" >0.439733</td>\n",
       "                        <td id=\"T_47e33af0_b87e_11ea_95d5_3c9509197fc0row4_col6\" class=\"data row4 col6\" >0.620841</td>\n",
       "                        <td id=\"T_47e33af0_b87e_11ea_95d5_3c9509197fc0row4_col7\" class=\"data row4 col7\" >0.482224</td>\n",
       "                        <td id=\"T_47e33af0_b87e_11ea_95d5_3c9509197fc0row4_col8\" class=\"data row4 col8\" >0.743056</td>\n",
       "                        <td id=\"T_47e33af0_b87e_11ea_95d5_3c9509197fc0row4_col9\" class=\"data row4 col9\" >0.876448</td>\n",
       "                        <td id=\"T_47e33af0_b87e_11ea_95d5_3c9509197fc0row4_col10\" class=\"data row4 col10\" >-0.0670197</td>\n",
       "                        <td id=\"T_47e33af0_b87e_11ea_95d5_3c9509197fc0row4_col11\" class=\"data row4 col11\" >-0.295512</td>\n",
       "                        <td id=\"T_47e33af0_b87e_11ea_95d5_3c9509197fc0row4_col12\" class=\"data row4 col12\" >-0.255937</td>\n",
       "                        <td id=\"T_47e33af0_b87e_11ea_95d5_3c9509197fc0row4_col13\" class=\"data row4 col13\" >-0.27978</td>\n",
       "                        <td id=\"T_47e33af0_b87e_11ea_95d5_3c9509197fc0row4_col14\" class=\"data row4 col14\" >-0.319523</td>\n",
       "                        <td id=\"T_47e33af0_b87e_11ea_95d5_3c9509197fc0row4_col15\" class=\"data row4 col15\" >-0.18641</td>\n",
       "                        <td id=\"T_47e33af0_b87e_11ea_95d5_3c9509197fc0row4_col16\" class=\"data row4 col16\" >-0.178932</td>\n",
       "                        <td id=\"T_47e33af0_b87e_11ea_95d5_3c9509197fc0row4_col17\" class=\"data row4 col17\" >0.372393</td>\n",
       "                        <td id=\"T_47e33af0_b87e_11ea_95d5_3c9509197fc0row4_col18\" class=\"data row4 col18\" >0.420029</td>\n",
       "                        <td id=\"T_47e33af0_b87e_11ea_95d5_3c9509197fc0row4_col19\" class=\"data row4 col19\" >-0.33779</td>\n",
       "                        <td id=\"T_47e33af0_b87e_11ea_95d5_3c9509197fc0row4_col20\" class=\"data row4 col20\" >-0.118076</td>\n",
       "                        <td id=\"T_47e33af0_b87e_11ea_95d5_3c9509197fc0row4_col21\" class=\"data row4 col21\" >-0.0700813</td>\n",
       "                        <td id=\"T_47e33af0_b87e_11ea_95d5_3c9509197fc0row4_col22\" class=\"data row4 col22\" >0.00278161</td>\n",
       "            </tr>\n",
       "            <tr>\n",
       "                        <th id=\"T_47e33af0_b87e_11ea_95d5_3c9509197fc0level0_row5\" class=\"row_heading level0 row5\" >distance1_2_y</th>\n",
       "                        <td id=\"T_47e33af0_b87e_11ea_95d5_3c9509197fc0row5_col0\" class=\"data row5 col0\" >0.811931</td>\n",
       "                        <td id=\"T_47e33af0_b87e_11ea_95d5_3c9509197fc0row5_col1\" class=\"data row5 col1\" >0.478311</td>\n",
       "                        <td id=\"T_47e33af0_b87e_11ea_95d5_3c9509197fc0row5_col2\" class=\"data row5 col2\" >0.154466</td>\n",
       "                        <td id=\"T_47e33af0_b87e_11ea_95d5_3c9509197fc0row5_col3\" class=\"data row5 col3\" >0.450723</td>\n",
       "                        <td id=\"T_47e33af0_b87e_11ea_95d5_3c9509197fc0row5_col4\" class=\"data row5 col4\" >0.439733</td>\n",
       "                        <td id=\"T_47e33af0_b87e_11ea_95d5_3c9509197fc0row5_col5\" class=\"data row5 col5\" >1</td>\n",
       "                        <td id=\"T_47e33af0_b87e_11ea_95d5_3c9509197fc0row5_col6\" class=\"data row5 col6\" >0.397695</td>\n",
       "                        <td id=\"T_47e33af0_b87e_11ea_95d5_3c9509197fc0row5_col7\" class=\"data row5 col7\" >0.541287</td>\n",
       "                        <td id=\"T_47e33af0_b87e_11ea_95d5_3c9509197fc0row5_col8\" class=\"data row5 col8\" >0.543145</td>\n",
       "                        <td id=\"T_47e33af0_b87e_11ea_95d5_3c9509197fc0row5_col9\" class=\"data row5 col9\" >0.422947</td>\n",
       "                        <td id=\"T_47e33af0_b87e_11ea_95d5_3c9509197fc0row5_col10\" class=\"data row5 col10\" >-0.133927</td>\n",
       "                        <td id=\"T_47e33af0_b87e_11ea_95d5_3c9509197fc0row5_col11\" class=\"data row5 col11\" >-0.181721</td>\n",
       "                        <td id=\"T_47e33af0_b87e_11ea_95d5_3c9509197fc0row5_col12\" class=\"data row5 col12\" >-0.189569</td>\n",
       "                        <td id=\"T_47e33af0_b87e_11ea_95d5_3c9509197fc0row5_col13\" class=\"data row5 col13\" >-0.157808</td>\n",
       "                        <td id=\"T_47e33af0_b87e_11ea_95d5_3c9509197fc0row5_col14\" class=\"data row5 col14\" >-0.246071</td>\n",
       "                        <td id=\"T_47e33af0_b87e_11ea_95d5_3c9509197fc0row5_col15\" class=\"data row5 col15\" >-0.108046</td>\n",
       "                        <td id=\"T_47e33af0_b87e_11ea_95d5_3c9509197fc0row5_col16\" class=\"data row5 col16\" >-0.137031</td>\n",
       "                        <td id=\"T_47e33af0_b87e_11ea_95d5_3c9509197fc0row5_col17\" class=\"data row5 col17\" >0.434579</td>\n",
       "                        <td id=\"T_47e33af0_b87e_11ea_95d5_3c9509197fc0row5_col18\" class=\"data row5 col18\" >0.359147</td>\n",
       "                        <td id=\"T_47e33af0_b87e_11ea_95d5_3c9509197fc0row5_col19\" class=\"data row5 col19\" >-0.247929</td>\n",
       "                        <td id=\"T_47e33af0_b87e_11ea_95d5_3c9509197fc0row5_col20\" class=\"data row5 col20\" >-0.133612</td>\n",
       "                        <td id=\"T_47e33af0_b87e_11ea_95d5_3c9509197fc0row5_col21\" class=\"data row5 col21\" >-0.0795202</td>\n",
       "                        <td id=\"T_47e33af0_b87e_11ea_95d5_3c9509197fc0row5_col22\" class=\"data row5 col22\" >0.0812693</td>\n",
       "            </tr>\n",
       "            <tr>\n",
       "                        <th id=\"T_47e33af0_b87e_11ea_95d5_3c9509197fc0level0_row6\" class=\"row_heading level0 row6\" >distance3_4_y</th>\n",
       "                        <td id=\"T_47e33af0_b87e_11ea_95d5_3c9509197fc0row6_col0\" class=\"data row6 col0\" >0.284841</td>\n",
       "                        <td id=\"T_47e33af0_b87e_11ea_95d5_3c9509197fc0row6_col1\" class=\"data row6 col1\" >0.843018</td>\n",
       "                        <td id=\"T_47e33af0_b87e_11ea_95d5_3c9509197fc0row6_col2\" class=\"data row6 col2\" >0.0642551</td>\n",
       "                        <td id=\"T_47e33af0_b87e_11ea_95d5_3c9509197fc0row6_col3\" class=\"data row6 col3\" >0.405849</td>\n",
       "                        <td id=\"T_47e33af0_b87e_11ea_95d5_3c9509197fc0row6_col4\" class=\"data row6 col4\" >0.620841</td>\n",
       "                        <td id=\"T_47e33af0_b87e_11ea_95d5_3c9509197fc0row6_col5\" class=\"data row6 col5\" >0.397695</td>\n",
       "                        <td id=\"T_47e33af0_b87e_11ea_95d5_3c9509197fc0row6_col6\" class=\"data row6 col6\" >1</td>\n",
       "                        <td id=\"T_47e33af0_b87e_11ea_95d5_3c9509197fc0row6_col7\" class=\"data row6 col7\" >0.340825</td>\n",
       "                        <td id=\"T_47e33af0_b87e_11ea_95d5_3c9509197fc0row6_col8\" class=\"data row6 col8\" >0.567213</td>\n",
       "                        <td id=\"T_47e33af0_b87e_11ea_95d5_3c9509197fc0row6_col9\" class=\"data row6 col9\" >0.751977</td>\n",
       "                        <td id=\"T_47e33af0_b87e_11ea_95d5_3c9509197fc0row6_col10\" class=\"data row6 col10\" >0.169107</td>\n",
       "                        <td id=\"T_47e33af0_b87e_11ea_95d5_3c9509197fc0row6_col11\" class=\"data row6 col11\" >-0.187775</td>\n",
       "                        <td id=\"T_47e33af0_b87e_11ea_95d5_3c9509197fc0row6_col12\" class=\"data row6 col12\" >-0.140064</td>\n",
       "                        <td id=\"T_47e33af0_b87e_11ea_95d5_3c9509197fc0row6_col13\" class=\"data row6 col13\" >-0.204826</td>\n",
       "                        <td id=\"T_47e33af0_b87e_11ea_95d5_3c9509197fc0row6_col14\" class=\"data row6 col14\" >-0.18591</td>\n",
       "                        <td id=\"T_47e33af0_b87e_11ea_95d5_3c9509197fc0row6_col15\" class=\"data row6 col15\" >-0.134156</td>\n",
       "                        <td id=\"T_47e33af0_b87e_11ea_95d5_3c9509197fc0row6_col16\" class=\"data row6 col16\" >-0.111158</td>\n",
       "                        <td id=\"T_47e33af0_b87e_11ea_95d5_3c9509197fc0row6_col17\" class=\"data row6 col17\" >0.24203</td>\n",
       "                        <td id=\"T_47e33af0_b87e_11ea_95d5_3c9509197fc0row6_col18\" class=\"data row6 col18\" >0.22717</td>\n",
       "                        <td id=\"T_47e33af0_b87e_11ea_95d5_3c9509197fc0row6_col19\" class=\"data row6 col19\" >-0.18909</td>\n",
       "                        <td id=\"T_47e33af0_b87e_11ea_95d5_3c9509197fc0row6_col20\" class=\"data row6 col20\" >0.0512301</td>\n",
       "                        <td id=\"T_47e33af0_b87e_11ea_95d5_3c9509197fc0row6_col21\" class=\"data row6 col21\" >-0.0384491</td>\n",
       "                        <td id=\"T_47e33af0_b87e_11ea_95d5_3c9509197fc0row6_col22\" class=\"data row6 col22\" >0.052109</td>\n",
       "            </tr>\n",
       "            <tr>\n",
       "                        <th id=\"T_47e33af0_b87e_11ea_95d5_3c9509197fc0level0_row7\" class=\"row_heading level0 row7\" >cluster_B_y</th>\n",
       "                        <td id=\"T_47e33af0_b87e_11ea_95d5_3c9509197fc0row7_col0\" class=\"data row7 col0\" >0.385352</td>\n",
       "                        <td id=\"T_47e33af0_b87e_11ea_95d5_3c9509197fc0row7_col1\" class=\"data row7 col1\" >0.362245</td>\n",
       "                        <td id=\"T_47e33af0_b87e_11ea_95d5_3c9509197fc0row7_col2\" class=\"data row7 col2\" >0.627416</td>\n",
       "                        <td id=\"T_47e33af0_b87e_11ea_95d5_3c9509197fc0row7_col3\" class=\"data row7 col3\" >0.685156</td>\n",
       "                        <td id=\"T_47e33af0_b87e_11ea_95d5_3c9509197fc0row7_col4\" class=\"data row7 col4\" >0.482224</td>\n",
       "                        <td id=\"T_47e33af0_b87e_11ea_95d5_3c9509197fc0row7_col5\" class=\"data row7 col5\" >0.541287</td>\n",
       "                        <td id=\"T_47e33af0_b87e_11ea_95d5_3c9509197fc0row7_col6\" class=\"data row7 col6\" >0.340825</td>\n",
       "                        <td id=\"T_47e33af0_b87e_11ea_95d5_3c9509197fc0row7_col7\" class=\"data row7 col7\" >1</td>\n",
       "                        <td id=\"T_47e33af0_b87e_11ea_95d5_3c9509197fc0row7_col8\" class=\"data row7 col8\" >0.653065</td>\n",
       "                        <td id=\"T_47e33af0_b87e_11ea_95d5_3c9509197fc0row7_col9\" class=\"data row7 col9\" >0.401636</td>\n",
       "                        <td id=\"T_47e33af0_b87e_11ea_95d5_3c9509197fc0row7_col10\" class=\"data row7 col10\" >0.0335801</td>\n",
       "                        <td id=\"T_47e33af0_b87e_11ea_95d5_3c9509197fc0row7_col11\" class=\"data row7 col11\" >-0.269942</td>\n",
       "                        <td id=\"T_47e33af0_b87e_11ea_95d5_3c9509197fc0row7_col12\" class=\"data row7 col12\" >-0.312862</td>\n",
       "                        <td id=\"T_47e33af0_b87e_11ea_95d5_3c9509197fc0row7_col13\" class=\"data row7 col13\" >-0.261957</td>\n",
       "                        <td id=\"T_47e33af0_b87e_11ea_95d5_3c9509197fc0row7_col14\" class=\"data row7 col14\" >-0.392798</td>\n",
       "                        <td id=\"T_47e33af0_b87e_11ea_95d5_3c9509197fc0row7_col15\" class=\"data row7 col15\" >-0.184036</td>\n",
       "                        <td id=\"T_47e33af0_b87e_11ea_95d5_3c9509197fc0row7_col16\" class=\"data row7 col16\" >-0.250041</td>\n",
       "                        <td id=\"T_47e33af0_b87e_11ea_95d5_3c9509197fc0row7_col17\" class=\"data row7 col17\" >0.324933</td>\n",
       "                        <td id=\"T_47e33af0_b87e_11ea_95d5_3c9509197fc0row7_col18\" class=\"data row7 col18\" >0.406513</td>\n",
       "                        <td id=\"T_47e33af0_b87e_11ea_95d5_3c9509197fc0row7_col19\" class=\"data row7 col19\" >-0.263672</td>\n",
       "                        <td id=\"T_47e33af0_b87e_11ea_95d5_3c9509197fc0row7_col20\" class=\"data row7 col20\" >-0.108389</td>\n",
       "                        <td id=\"T_47e33af0_b87e_11ea_95d5_3c9509197fc0row7_col21\" class=\"data row7 col21\" >-0.0734558</td>\n",
       "                        <td id=\"T_47e33af0_b87e_11ea_95d5_3c9509197fc0row7_col22\" class=\"data row7 col22\" >0.0522507</td>\n",
       "            </tr>\n",
       "            <tr>\n",
       "                        <th id=\"T_47e33af0_b87e_11ea_95d5_3c9509197fc0level0_row8\" class=\"row_heading level0 row8\" >cluster_C_y</th>\n",
       "                        <td id=\"T_47e33af0_b87e_11ea_95d5_3c9509197fc0row8_col0\" class=\"data row8 col0\" >0.418999</td>\n",
       "                        <td id=\"T_47e33af0_b87e_11ea_95d5_3c9509197fc0row8_col1\" class=\"data row8 col1\" >0.558062</td>\n",
       "                        <td id=\"T_47e33af0_b87e_11ea_95d5_3c9509197fc0row8_col2\" class=\"data row8 col2\" >0.216019</td>\n",
       "                        <td id=\"T_47e33af0_b87e_11ea_95d5_3c9509197fc0row8_col3\" class=\"data row8 col3\" >0.839799</td>\n",
       "                        <td id=\"T_47e33af0_b87e_11ea_95d5_3c9509197fc0row8_col4\" class=\"data row8 col4\" >0.743056</td>\n",
       "                        <td id=\"T_47e33af0_b87e_11ea_95d5_3c9509197fc0row8_col5\" class=\"data row8 col5\" >0.543145</td>\n",
       "                        <td id=\"T_47e33af0_b87e_11ea_95d5_3c9509197fc0row8_col6\" class=\"data row8 col6\" >0.567213</td>\n",
       "                        <td id=\"T_47e33af0_b87e_11ea_95d5_3c9509197fc0row8_col7\" class=\"data row8 col7\" >0.653065</td>\n",
       "                        <td id=\"T_47e33af0_b87e_11ea_95d5_3c9509197fc0row8_col8\" class=\"data row8 col8\" >1</td>\n",
       "                        <td id=\"T_47e33af0_b87e_11ea_95d5_3c9509197fc0row8_col9\" class=\"data row8 col9\" >0.70786</td>\n",
       "                        <td id=\"T_47e33af0_b87e_11ea_95d5_3c9509197fc0row8_col10\" class=\"data row8 col10\" >-0.0313669</td>\n",
       "                        <td id=\"T_47e33af0_b87e_11ea_95d5_3c9509197fc0row8_col11\" class=\"data row8 col11\" >-0.289954</td>\n",
       "                        <td id=\"T_47e33af0_b87e_11ea_95d5_3c9509197fc0row8_col12\" class=\"data row8 col12\" >-0.26863</td>\n",
       "                        <td id=\"T_47e33af0_b87e_11ea_95d5_3c9509197fc0row8_col13\" class=\"data row8 col13\" >-0.273543</td>\n",
       "                        <td id=\"T_47e33af0_b87e_11ea_95d5_3c9509197fc0row8_col14\" class=\"data row8 col14\" >-0.336953</td>\n",
       "                        <td id=\"T_47e33af0_b87e_11ea_95d5_3c9509197fc0row8_col15\" class=\"data row8 col15\" >-0.185232</td>\n",
       "                        <td id=\"T_47e33af0_b87e_11ea_95d5_3c9509197fc0row8_col16\" class=\"data row8 col16\" >-0.194467</td>\n",
       "                        <td id=\"T_47e33af0_b87e_11ea_95d5_3c9509197fc0row8_col17\" class=\"data row8 col17\" >0.348974</td>\n",
       "                        <td id=\"T_47e33af0_b87e_11ea_95d5_3c9509197fc0row8_col18\" class=\"data row8 col18\" >0.413309</td>\n",
       "                        <td id=\"T_47e33af0_b87e_11ea_95d5_3c9509197fc0row8_col19\" class=\"data row8 col19\" >-0.295113</td>\n",
       "                        <td id=\"T_47e33af0_b87e_11ea_95d5_3c9509197fc0row8_col20\" class=\"data row8 col20\" >-0.113676</td>\n",
       "                        <td id=\"T_47e33af0_b87e_11ea_95d5_3c9509197fc0row8_col21\" class=\"data row8 col21\" >-0.0617138</td>\n",
       "                        <td id=\"T_47e33af0_b87e_11ea_95d5_3c9509197fc0row8_col22\" class=\"data row8 col22\" >0.0586138</td>\n",
       "            </tr>\n",
       "            <tr>\n",
       "                        <th id=\"T_47e33af0_b87e_11ea_95d5_3c9509197fc0level0_row9\" class=\"row_heading level0 row9\" >cluster_D_y</th>\n",
       "                        <td id=\"T_47e33af0_b87e_11ea_95d5_3c9509197fc0row9_col0\" class=\"data row9 col0\" >0.338804</td>\n",
       "                        <td id=\"T_47e33af0_b87e_11ea_95d5_3c9509197fc0row9_col1\" class=\"data row9 col1\" >0.711003</td>\n",
       "                        <td id=\"T_47e33af0_b87e_11ea_95d5_3c9509197fc0row9_col2\" class=\"data row9 col2\" >0.0903913</td>\n",
       "                        <td id=\"T_47e33af0_b87e_11ea_95d5_3c9509197fc0row9_col3\" class=\"data row9 col3\" >0.517345</td>\n",
       "                        <td id=\"T_47e33af0_b87e_11ea_95d5_3c9509197fc0row9_col4\" class=\"data row9 col4\" >0.876448</td>\n",
       "                        <td id=\"T_47e33af0_b87e_11ea_95d5_3c9509197fc0row9_col5\" class=\"data row9 col5\" >0.422947</td>\n",
       "                        <td id=\"T_47e33af0_b87e_11ea_95d5_3c9509197fc0row9_col6\" class=\"data row9 col6\" >0.751977</td>\n",
       "                        <td id=\"T_47e33af0_b87e_11ea_95d5_3c9509197fc0row9_col7\" class=\"data row9 col7\" >0.401636</td>\n",
       "                        <td id=\"T_47e33af0_b87e_11ea_95d5_3c9509197fc0row9_col8\" class=\"data row9 col8\" >0.70786</td>\n",
       "                        <td id=\"T_47e33af0_b87e_11ea_95d5_3c9509197fc0row9_col9\" class=\"data row9 col9\" >1</td>\n",
       "                        <td id=\"T_47e33af0_b87e_11ea_95d5_3c9509197fc0row9_col10\" class=\"data row9 col10\" >-0.0698344</td>\n",
       "                        <td id=\"T_47e33af0_b87e_11ea_95d5_3c9509197fc0row9_col11\" class=\"data row9 col11\" >-0.223979</td>\n",
       "                        <td id=\"T_47e33af0_b87e_11ea_95d5_3c9509197fc0row9_col12\" class=\"data row9 col12\" >-0.183393</td>\n",
       "                        <td id=\"T_47e33af0_b87e_11ea_95d5_3c9509197fc0row9_col13\" class=\"data row9 col13\" >-0.204914</td>\n",
       "                        <td id=\"T_47e33af0_b87e_11ea_95d5_3c9509197fc0row9_col14\" class=\"data row9 col14\" >-0.232358</td>\n",
       "                        <td id=\"T_47e33af0_b87e_11ea_95d5_3c9509197fc0row9_col15\" class=\"data row9 col15\" >-0.134037</td>\n",
       "                        <td id=\"T_47e33af0_b87e_11ea_95d5_3c9509197fc0row9_col16\" class=\"data row9 col16\" >-0.127158</td>\n",
       "                        <td id=\"T_47e33af0_b87e_11ea_95d5_3c9509197fc0row9_col17\" class=\"data row9 col17\" >0.282801</td>\n",
       "                        <td id=\"T_47e33af0_b87e_11ea_95d5_3c9509197fc0row9_col18\" class=\"data row9 col18\" >0.322212</td>\n",
       "                        <td id=\"T_47e33af0_b87e_11ea_95d5_3c9509197fc0row9_col19\" class=\"data row9 col19\" >-0.237231</td>\n",
       "                        <td id=\"T_47e33af0_b87e_11ea_95d5_3c9509197fc0row9_col20\" class=\"data row9 col20\" >-0.0945534</td>\n",
       "                        <td id=\"T_47e33af0_b87e_11ea_95d5_3c9509197fc0row9_col21\" class=\"data row9 col21\" >-0.0376544</td>\n",
       "                        <td id=\"T_47e33af0_b87e_11ea_95d5_3c9509197fc0row9_col22\" class=\"data row9 col22\" >0.036044</td>\n",
       "            </tr>\n",
       "            <tr>\n",
       "                        <th id=\"T_47e33af0_b87e_11ea_95d5_3c9509197fc0level0_row10\" class=\"row_heading level0 row10\" >agility_y</th>\n",
       "                        <td id=\"T_47e33af0_b87e_11ea_95d5_3c9509197fc0row10_col0\" class=\"data row10 col0\" >-0.130943</td>\n",
       "                        <td id=\"T_47e33af0_b87e_11ea_95d5_3c9509197fc0row10_col1\" class=\"data row10 col1\" >-0.0686545</td>\n",
       "                        <td id=\"T_47e33af0_b87e_11ea_95d5_3c9509197fc0row10_col2\" class=\"data row10 col2\" >0.0729422</td>\n",
       "                        <td id=\"T_47e33af0_b87e_11ea_95d5_3c9509197fc0row10_col3\" class=\"data row10 col3\" >0.0112444</td>\n",
       "                        <td id=\"T_47e33af0_b87e_11ea_95d5_3c9509197fc0row10_col4\" class=\"data row10 col4\" >-0.0670197</td>\n",
       "                        <td id=\"T_47e33af0_b87e_11ea_95d5_3c9509197fc0row10_col5\" class=\"data row10 col5\" >-0.133927</td>\n",
       "                        <td id=\"T_47e33af0_b87e_11ea_95d5_3c9509197fc0row10_col6\" class=\"data row10 col6\" >0.169107</td>\n",
       "                        <td id=\"T_47e33af0_b87e_11ea_95d5_3c9509197fc0row10_col7\" class=\"data row10 col7\" >0.0335801</td>\n",
       "                        <td id=\"T_47e33af0_b87e_11ea_95d5_3c9509197fc0row10_col8\" class=\"data row10 col8\" >-0.0313669</td>\n",
       "                        <td id=\"T_47e33af0_b87e_11ea_95d5_3c9509197fc0row10_col9\" class=\"data row10 col9\" >-0.0698344</td>\n",
       "                        <td id=\"T_47e33af0_b87e_11ea_95d5_3c9509197fc0row10_col10\" class=\"data row10 col10\" >1</td>\n",
       "                        <td id=\"T_47e33af0_b87e_11ea_95d5_3c9509197fc0row10_col11\" class=\"data row10 col11\" >-0.0309322</td>\n",
       "                        <td id=\"T_47e33af0_b87e_11ea_95d5_3c9509197fc0row10_col12\" class=\"data row10 col12\" >-0.013089</td>\n",
       "                        <td id=\"T_47e33af0_b87e_11ea_95d5_3c9509197fc0row10_col13\" class=\"data row10 col13\" >-0.0859503</td>\n",
       "                        <td id=\"T_47e33af0_b87e_11ea_95d5_3c9509197fc0row10_col14\" class=\"data row10 col14\" >-0.0426867</td>\n",
       "                        <td id=\"T_47e33af0_b87e_11ea_95d5_3c9509197fc0row10_col15\" class=\"data row10 col15\" >-0.0645937</td>\n",
       "                        <td id=\"T_47e33af0_b87e_11ea_95d5_3c9509197fc0row10_col16\" class=\"data row10 col16\" >-0.0527557</td>\n",
       "                        <td id=\"T_47e33af0_b87e_11ea_95d5_3c9509197fc0row10_col17\" class=\"data row10 col17\" >-0.088121</td>\n",
       "                        <td id=\"T_47e33af0_b87e_11ea_95d5_3c9509197fc0row10_col18\" class=\"data row10 col18\" >-0.0988911</td>\n",
       "                        <td id=\"T_47e33af0_b87e_11ea_95d5_3c9509197fc0row10_col19\" class=\"data row10 col19\" >-0.0106161</td>\n",
       "                        <td id=\"T_47e33af0_b87e_11ea_95d5_3c9509197fc0row10_col20\" class=\"data row10 col20\" >0.383898</td>\n",
       "                        <td id=\"T_47e33af0_b87e_11ea_95d5_3c9509197fc0row10_col21\" class=\"data row10 col21\" >0.0038709</td>\n",
       "                        <td id=\"T_47e33af0_b87e_11ea_95d5_3c9509197fc0row10_col22\" class=\"data row10 col22\" >0.362364</td>\n",
       "            </tr>\n",
       "            <tr>\n",
       "                        <th id=\"T_47e33af0_b87e_11ea_95d5_3c9509197fc0level0_row11\" class=\"row_heading level0 row11\" >landing_risk1</th>\n",
       "                        <td id=\"T_47e33af0_b87e_11ea_95d5_3c9509197fc0row11_col0\" class=\"data row11 col0\" >-0.205583</td>\n",
       "                        <td id=\"T_47e33af0_b87e_11ea_95d5_3c9509197fc0row11_col1\" class=\"data row11 col1\" >-0.208638</td>\n",
       "                        <td id=\"T_47e33af0_b87e_11ea_95d5_3c9509197fc0row11_col2\" class=\"data row11 col2\" >-0.232438</td>\n",
       "                        <td id=\"T_47e33af0_b87e_11ea_95d5_3c9509197fc0row11_col3\" class=\"data row11 col3\" >-0.353847</td>\n",
       "                        <td id=\"T_47e33af0_b87e_11ea_95d5_3c9509197fc0row11_col4\" class=\"data row11 col4\" >-0.295512</td>\n",
       "                        <td id=\"T_47e33af0_b87e_11ea_95d5_3c9509197fc0row11_col5\" class=\"data row11 col5\" >-0.181721</td>\n",
       "                        <td id=\"T_47e33af0_b87e_11ea_95d5_3c9509197fc0row11_col6\" class=\"data row11 col6\" >-0.187775</td>\n",
       "                        <td id=\"T_47e33af0_b87e_11ea_95d5_3c9509197fc0row11_col7\" class=\"data row11 col7\" >-0.269942</td>\n",
       "                        <td id=\"T_47e33af0_b87e_11ea_95d5_3c9509197fc0row11_col8\" class=\"data row11 col8\" >-0.289954</td>\n",
       "                        <td id=\"T_47e33af0_b87e_11ea_95d5_3c9509197fc0row11_col9\" class=\"data row11 col9\" >-0.223979</td>\n",
       "                        <td id=\"T_47e33af0_b87e_11ea_95d5_3c9509197fc0row11_col10\" class=\"data row11 col10\" >-0.0309322</td>\n",
       "                        <td id=\"T_47e33af0_b87e_11ea_95d5_3c9509197fc0row11_col11\" class=\"data row11 col11\" >1</td>\n",
       "                        <td id=\"T_47e33af0_b87e_11ea_95d5_3c9509197fc0row11_col12\" class=\"data row11 col12\" >0.476719</td>\n",
       "                        <td id=\"T_47e33af0_b87e_11ea_95d5_3c9509197fc0row11_col13\" class=\"data row11 col13\" >0.668661</td>\n",
       "                        <td id=\"T_47e33af0_b87e_11ea_95d5_3c9509197fc0row11_col14\" class=\"data row11 col14\" >0.527702</td>\n",
       "                        <td id=\"T_47e33af0_b87e_11ea_95d5_3c9509197fc0row11_col15\" class=\"data row11 col15\" >0.579057</td>\n",
       "                        <td id=\"T_47e33af0_b87e_11ea_95d5_3c9509197fc0row11_col16\" class=\"data row11 col16\" >0.383433</td>\n",
       "                        <td id=\"T_47e33af0_b87e_11ea_95d5_3c9509197fc0row11_col17\" class=\"data row11 col17\" >-0.29288</td>\n",
       "                        <td id=\"T_47e33af0_b87e_11ea_95d5_3c9509197fc0row11_col18\" class=\"data row11 col18\" >-0.335595</td>\n",
       "                        <td id=\"T_47e33af0_b87e_11ea_95d5_3c9509197fc0row11_col19\" class=\"data row11 col19\" >0.471847</td>\n",
       "                        <td id=\"T_47e33af0_b87e_11ea_95d5_3c9509197fc0row11_col20\" class=\"data row11 col20\" >0.0167745</td>\n",
       "                        <td id=\"T_47e33af0_b87e_11ea_95d5_3c9509197fc0row11_col21\" class=\"data row11 col21\" >0.0848883</td>\n",
       "                        <td id=\"T_47e33af0_b87e_11ea_95d5_3c9509197fc0row11_col22\" class=\"data row11 col22\" >-0.043697</td>\n",
       "            </tr>\n",
       "            <tr>\n",
       "                        <th id=\"T_47e33af0_b87e_11ea_95d5_3c9509197fc0level0_row12\" class=\"row_heading level0 row12\" >landing_risk4</th>\n",
       "                        <td id=\"T_47e33af0_b87e_11ea_95d5_3c9509197fc0row12_col0\" class=\"data row12 col0\" >-0.206786</td>\n",
       "                        <td id=\"T_47e33af0_b87e_11ea_95d5_3c9509197fc0row12_col1\" class=\"data row12 col1\" >-0.182441</td>\n",
       "                        <td id=\"T_47e33af0_b87e_11ea_95d5_3c9509197fc0row12_col2\" class=\"data row12 col2\" >-0.288469</td>\n",
       "                        <td id=\"T_47e33af0_b87e_11ea_95d5_3c9509197fc0row12_col3\" class=\"data row12 col3\" >-0.352442</td>\n",
       "                        <td id=\"T_47e33af0_b87e_11ea_95d5_3c9509197fc0row12_col4\" class=\"data row12 col4\" >-0.255937</td>\n",
       "                        <td id=\"T_47e33af0_b87e_11ea_95d5_3c9509197fc0row12_col5\" class=\"data row12 col5\" >-0.189569</td>\n",
       "                        <td id=\"T_47e33af0_b87e_11ea_95d5_3c9509197fc0row12_col6\" class=\"data row12 col6\" >-0.140064</td>\n",
       "                        <td id=\"T_47e33af0_b87e_11ea_95d5_3c9509197fc0row12_col7\" class=\"data row12 col7\" >-0.312862</td>\n",
       "                        <td id=\"T_47e33af0_b87e_11ea_95d5_3c9509197fc0row12_col8\" class=\"data row12 col8\" >-0.26863</td>\n",
       "                        <td id=\"T_47e33af0_b87e_11ea_95d5_3c9509197fc0row12_col9\" class=\"data row12 col9\" >-0.183393</td>\n",
       "                        <td id=\"T_47e33af0_b87e_11ea_95d5_3c9509197fc0row12_col10\" class=\"data row12 col10\" >-0.013089</td>\n",
       "                        <td id=\"T_47e33af0_b87e_11ea_95d5_3c9509197fc0row12_col11\" class=\"data row12 col11\" >0.476719</td>\n",
       "                        <td id=\"T_47e33af0_b87e_11ea_95d5_3c9509197fc0row12_col12\" class=\"data row12 col12\" >1</td>\n",
       "                        <td id=\"T_47e33af0_b87e_11ea_95d5_3c9509197fc0row12_col13\" class=\"data row12 col13\" >0.403934</td>\n",
       "                        <td id=\"T_47e33af0_b87e_11ea_95d5_3c9509197fc0row12_col14\" class=\"data row12 col14\" >0.558099</td>\n",
       "                        <td id=\"T_47e33af0_b87e_11ea_95d5_3c9509197fc0row12_col15\" class=\"data row12 col15\" >0.306665</td>\n",
       "                        <td id=\"T_47e33af0_b87e_11ea_95d5_3c9509197fc0row12_col16\" class=\"data row12 col16\" >0.443912</td>\n",
       "                        <td id=\"T_47e33af0_b87e_11ea_95d5_3c9509197fc0row12_col17\" class=\"data row12 col17\" >-0.244077</td>\n",
       "                        <td id=\"T_47e33af0_b87e_11ea_95d5_3c9509197fc0row12_col18\" class=\"data row12 col18\" >-0.293187</td>\n",
       "                        <td id=\"T_47e33af0_b87e_11ea_95d5_3c9509197fc0row12_col19\" class=\"data row12 col19\" >0.324857</td>\n",
       "                        <td id=\"T_47e33af0_b87e_11ea_95d5_3c9509197fc0row12_col20\" class=\"data row12 col20\" >0.0640526</td>\n",
       "                        <td id=\"T_47e33af0_b87e_11ea_95d5_3c9509197fc0row12_col21\" class=\"data row12 col21\" >0.0811725</td>\n",
       "                        <td id=\"T_47e33af0_b87e_11ea_95d5_3c9509197fc0row12_col22\" class=\"data row12 col22\" >-0.0112409</td>\n",
       "            </tr>\n",
       "            <tr>\n",
       "                        <th id=\"T_47e33af0_b87e_11ea_95d5_3c9509197fc0level0_row13\" class=\"row_heading level0 row13\" >risk1</th>\n",
       "                        <td id=\"T_47e33af0_b87e_11ea_95d5_3c9509197fc0row13_col0\" class=\"data row13 col0\" >-0.177473</td>\n",
       "                        <td id=\"T_47e33af0_b87e_11ea_95d5_3c9509197fc0row13_col1\" class=\"data row13 col1\" >-0.189172</td>\n",
       "                        <td id=\"T_47e33af0_b87e_11ea_95d5_3c9509197fc0row13_col2\" class=\"data row13 col2\" >-0.268299</td>\n",
       "                        <td id=\"T_47e33af0_b87e_11ea_95d5_3c9509197fc0row13_col3\" class=\"data row13 col3\" >-0.353971</td>\n",
       "                        <td id=\"T_47e33af0_b87e_11ea_95d5_3c9509197fc0row13_col4\" class=\"data row13 col4\" >-0.27978</td>\n",
       "                        <td id=\"T_47e33af0_b87e_11ea_95d5_3c9509197fc0row13_col5\" class=\"data row13 col5\" >-0.157808</td>\n",
       "                        <td id=\"T_47e33af0_b87e_11ea_95d5_3c9509197fc0row13_col6\" class=\"data row13 col6\" >-0.204826</td>\n",
       "                        <td id=\"T_47e33af0_b87e_11ea_95d5_3c9509197fc0row13_col7\" class=\"data row13 col7\" >-0.261957</td>\n",
       "                        <td id=\"T_47e33af0_b87e_11ea_95d5_3c9509197fc0row13_col8\" class=\"data row13 col8\" >-0.273543</td>\n",
       "                        <td id=\"T_47e33af0_b87e_11ea_95d5_3c9509197fc0row13_col9\" class=\"data row13 col9\" >-0.204914</td>\n",
       "                        <td id=\"T_47e33af0_b87e_11ea_95d5_3c9509197fc0row13_col10\" class=\"data row13 col10\" >-0.0859503</td>\n",
       "                        <td id=\"T_47e33af0_b87e_11ea_95d5_3c9509197fc0row13_col11\" class=\"data row13 col11\" >0.668661</td>\n",
       "                        <td id=\"T_47e33af0_b87e_11ea_95d5_3c9509197fc0row13_col12\" class=\"data row13 col12\" >0.403934</td>\n",
       "                        <td id=\"T_47e33af0_b87e_11ea_95d5_3c9509197fc0row13_col13\" class=\"data row13 col13\" >1</td>\n",
       "                        <td id=\"T_47e33af0_b87e_11ea_95d5_3c9509197fc0row13_col14\" class=\"data row13 col14\" >0.668576</td>\n",
       "                        <td id=\"T_47e33af0_b87e_11ea_95d5_3c9509197fc0row13_col15\" class=\"data row13 col15\" >0.90271</td>\n",
       "                        <td id=\"T_47e33af0_b87e_11ea_95d5_3c9509197fc0row13_col16\" class=\"data row13 col16\" >0.531353</td>\n",
       "                        <td id=\"T_47e33af0_b87e_11ea_95d5_3c9509197fc0row13_col17\" class=\"data row13 col17\" >-0.278908</td>\n",
       "                        <td id=\"T_47e33af0_b87e_11ea_95d5_3c9509197fc0row13_col18\" class=\"data row13 col18\" >-0.318034</td>\n",
       "                        <td id=\"T_47e33af0_b87e_11ea_95d5_3c9509197fc0row13_col19\" class=\"data row13 col19\" >0.51294</td>\n",
       "                        <td id=\"T_47e33af0_b87e_11ea_95d5_3c9509197fc0row13_col20\" class=\"data row13 col20\" >-0.027844</td>\n",
       "                        <td id=\"T_47e33af0_b87e_11ea_95d5_3c9509197fc0row13_col21\" class=\"data row13 col21\" >0.0722145</td>\n",
       "                        <td id=\"T_47e33af0_b87e_11ea_95d5_3c9509197fc0row13_col22\" class=\"data row13 col22\" >0.0605111</td>\n",
       "            </tr>\n",
       "            <tr>\n",
       "                        <th id=\"T_47e33af0_b87e_11ea_95d5_3c9509197fc0level0_row14\" class=\"row_heading level0 row14\" >risk4</th>\n",
       "                        <td id=\"T_47e33af0_b87e_11ea_95d5_3c9509197fc0row14_col0\" class=\"data row14 col0\" >-0.262474</td>\n",
       "                        <td id=\"T_47e33af0_b87e_11ea_95d5_3c9509197fc0row14_col1\" class=\"data row14 col1\" >-0.228596</td>\n",
       "                        <td id=\"T_47e33af0_b87e_11ea_95d5_3c9509197fc0row14_col2\" class=\"data row14 col2\" >-0.375432</td>\n",
       "                        <td id=\"T_47e33af0_b87e_11ea_95d5_3c9509197fc0row14_col3\" class=\"data row14 col3\" >-0.4338</td>\n",
       "                        <td id=\"T_47e33af0_b87e_11ea_95d5_3c9509197fc0row14_col4\" class=\"data row14 col4\" >-0.319523</td>\n",
       "                        <td id=\"T_47e33af0_b87e_11ea_95d5_3c9509197fc0row14_col5\" class=\"data row14 col5\" >-0.246071</td>\n",
       "                        <td id=\"T_47e33af0_b87e_11ea_95d5_3c9509197fc0row14_col6\" class=\"data row14 col6\" >-0.18591</td>\n",
       "                        <td id=\"T_47e33af0_b87e_11ea_95d5_3c9509197fc0row14_col7\" class=\"data row14 col7\" >-0.392798</td>\n",
       "                        <td id=\"T_47e33af0_b87e_11ea_95d5_3c9509197fc0row14_col8\" class=\"data row14 col8\" >-0.336953</td>\n",
       "                        <td id=\"T_47e33af0_b87e_11ea_95d5_3c9509197fc0row14_col9\" class=\"data row14 col9\" >-0.232358</td>\n",
       "                        <td id=\"T_47e33af0_b87e_11ea_95d5_3c9509197fc0row14_col10\" class=\"data row14 col10\" >-0.0426867</td>\n",
       "                        <td id=\"T_47e33af0_b87e_11ea_95d5_3c9509197fc0row14_col11\" class=\"data row14 col11\" >0.527702</td>\n",
       "                        <td id=\"T_47e33af0_b87e_11ea_95d5_3c9509197fc0row14_col12\" class=\"data row14 col12\" >0.558099</td>\n",
       "                        <td id=\"T_47e33af0_b87e_11ea_95d5_3c9509197fc0row14_col13\" class=\"data row14 col13\" >0.668576</td>\n",
       "                        <td id=\"T_47e33af0_b87e_11ea_95d5_3c9509197fc0row14_col14\" class=\"data row14 col14\" >1</td>\n",
       "                        <td id=\"T_47e33af0_b87e_11ea_95d5_3c9509197fc0row14_col15\" class=\"data row14 col15\" >0.514055</td>\n",
       "                        <td id=\"T_47e33af0_b87e_11ea_95d5_3c9509197fc0row14_col16\" class=\"data row14 col16\" >0.865832</td>\n",
       "                        <td id=\"T_47e33af0_b87e_11ea_95d5_3c9509197fc0row14_col17\" class=\"data row14 col17\" >-0.306518</td>\n",
       "                        <td id=\"T_47e33af0_b87e_11ea_95d5_3c9509197fc0row14_col18\" class=\"data row14 col18\" >-0.355063</td>\n",
       "                        <td id=\"T_47e33af0_b87e_11ea_95d5_3c9509197fc0row14_col19\" class=\"data row14 col19\" >0.470356</td>\n",
       "                        <td id=\"T_47e33af0_b87e_11ea_95d5_3c9509197fc0row14_col20\" class=\"data row14 col20\" >0.0354188</td>\n",
       "                        <td id=\"T_47e33af0_b87e_11ea_95d5_3c9509197fc0row14_col21\" class=\"data row14 col21\" >0.0806138</td>\n",
       "                        <td id=\"T_47e33af0_b87e_11ea_95d5_3c9509197fc0row14_col22\" class=\"data row14 col22\" >0.0370463</td>\n",
       "            </tr>\n",
       "            <tr>\n",
       "                        <th id=\"T_47e33af0_b87e_11ea_95d5_3c9509197fc0level0_row15\" class=\"row_heading level0 row15\" >risk_int1</th>\n",
       "                        <td id=\"T_47e33af0_b87e_11ea_95d5_3c9509197fc0row15_col0\" class=\"data row15 col0\" >-0.125155</td>\n",
       "                        <td id=\"T_47e33af0_b87e_11ea_95d5_3c9509197fc0row15_col1\" class=\"data row15 col1\" >-0.126908</td>\n",
       "                        <td id=\"T_47e33af0_b87e_11ea_95d5_3c9509197fc0row15_col2\" class=\"data row15 col2\" >-0.197643</td>\n",
       "                        <td id=\"T_47e33af0_b87e_11ea_95d5_3c9509197fc0row15_col3\" class=\"data row15 col3\" >-0.248022</td>\n",
       "                        <td id=\"T_47e33af0_b87e_11ea_95d5_3c9509197fc0row15_col4\" class=\"data row15 col4\" >-0.18641</td>\n",
       "                        <td id=\"T_47e33af0_b87e_11ea_95d5_3c9509197fc0row15_col5\" class=\"data row15 col5\" >-0.108046</td>\n",
       "                        <td id=\"T_47e33af0_b87e_11ea_95d5_3c9509197fc0row15_col6\" class=\"data row15 col6\" >-0.134156</td>\n",
       "                        <td id=\"T_47e33af0_b87e_11ea_95d5_3c9509197fc0row15_col7\" class=\"data row15 col7\" >-0.184036</td>\n",
       "                        <td id=\"T_47e33af0_b87e_11ea_95d5_3c9509197fc0row15_col8\" class=\"data row15 col8\" >-0.185232</td>\n",
       "                        <td id=\"T_47e33af0_b87e_11ea_95d5_3c9509197fc0row15_col9\" class=\"data row15 col9\" >-0.134037</td>\n",
       "                        <td id=\"T_47e33af0_b87e_11ea_95d5_3c9509197fc0row15_col10\" class=\"data row15 col10\" >-0.0645937</td>\n",
       "                        <td id=\"T_47e33af0_b87e_11ea_95d5_3c9509197fc0row15_col11\" class=\"data row15 col11\" >0.579057</td>\n",
       "                        <td id=\"T_47e33af0_b87e_11ea_95d5_3c9509197fc0row15_col12\" class=\"data row15 col12\" >0.306665</td>\n",
       "                        <td id=\"T_47e33af0_b87e_11ea_95d5_3c9509197fc0row15_col13\" class=\"data row15 col13\" >0.90271</td>\n",
       "                        <td id=\"T_47e33af0_b87e_11ea_95d5_3c9509197fc0row15_col14\" class=\"data row15 col14\" >0.514055</td>\n",
       "                        <td id=\"T_47e33af0_b87e_11ea_95d5_3c9509197fc0row15_col15\" class=\"data row15 col15\" >1</td>\n",
       "                        <td id=\"T_47e33af0_b87e_11ea_95d5_3c9509197fc0row15_col16\" class=\"data row15 col16\" >0.472571</td>\n",
       "                        <td id=\"T_47e33af0_b87e_11ea_95d5_3c9509197fc0row15_col17\" class=\"data row15 col17\" >-0.197937</td>\n",
       "                        <td id=\"T_47e33af0_b87e_11ea_95d5_3c9509197fc0row15_col18\" class=\"data row15 col18\" >-0.225577</td>\n",
       "                        <td id=\"T_47e33af0_b87e_11ea_95d5_3c9509197fc0row15_col19\" class=\"data row15 col19\" >0.386156</td>\n",
       "                        <td id=\"T_47e33af0_b87e_11ea_95d5_3c9509197fc0row15_col20\" class=\"data row15 col20\" >-0.0243131</td>\n",
       "                        <td id=\"T_47e33af0_b87e_11ea_95d5_3c9509197fc0row15_col21\" class=\"data row15 col21\" >0.0498466</td>\n",
       "                        <td id=\"T_47e33af0_b87e_11ea_95d5_3c9509197fc0row15_col22\" class=\"data row15 col22\" >0.0159041</td>\n",
       "            </tr>\n",
       "            <tr>\n",
       "                        <th id=\"T_47e33af0_b87e_11ea_95d5_3c9509197fc0level0_row16\" class=\"row_heading level0 row16\" >risk_int4</th>\n",
       "                        <td id=\"T_47e33af0_b87e_11ea_95d5_3c9509197fc0row16_col0\" class=\"data row16 col0\" >-0.142843</td>\n",
       "                        <td id=\"T_47e33af0_b87e_11ea_95d5_3c9509197fc0row16_col1\" class=\"data row16 col1\" >-0.130368</td>\n",
       "                        <td id=\"T_47e33af0_b87e_11ea_95d5_3c9509197fc0row16_col2\" class=\"data row16 col2\" >-0.257156</td>\n",
       "                        <td id=\"T_47e33af0_b87e_11ea_95d5_3c9509197fc0row16_col3\" class=\"data row16 col3\" >-0.261157</td>\n",
       "                        <td id=\"T_47e33af0_b87e_11ea_95d5_3c9509197fc0row16_col4\" class=\"data row16 col4\" >-0.178932</td>\n",
       "                        <td id=\"T_47e33af0_b87e_11ea_95d5_3c9509197fc0row16_col5\" class=\"data row16 col5\" >-0.137031</td>\n",
       "                        <td id=\"T_47e33af0_b87e_11ea_95d5_3c9509197fc0row16_col6\" class=\"data row16 col6\" >-0.111158</td>\n",
       "                        <td id=\"T_47e33af0_b87e_11ea_95d5_3c9509197fc0row16_col7\" class=\"data row16 col7\" >-0.250041</td>\n",
       "                        <td id=\"T_47e33af0_b87e_11ea_95d5_3c9509197fc0row16_col8\" class=\"data row16 col8\" >-0.194467</td>\n",
       "                        <td id=\"T_47e33af0_b87e_11ea_95d5_3c9509197fc0row16_col9\" class=\"data row16 col9\" >-0.127158</td>\n",
       "                        <td id=\"T_47e33af0_b87e_11ea_95d5_3c9509197fc0row16_col10\" class=\"data row16 col10\" >-0.0527557</td>\n",
       "                        <td id=\"T_47e33af0_b87e_11ea_95d5_3c9509197fc0row16_col11\" class=\"data row16 col11\" >0.383433</td>\n",
       "                        <td id=\"T_47e33af0_b87e_11ea_95d5_3c9509197fc0row16_col12\" class=\"data row16 col12\" >0.443912</td>\n",
       "                        <td id=\"T_47e33af0_b87e_11ea_95d5_3c9509197fc0row16_col13\" class=\"data row16 col13\" >0.531353</td>\n",
       "                        <td id=\"T_47e33af0_b87e_11ea_95d5_3c9509197fc0row16_col14\" class=\"data row16 col14\" >0.865832</td>\n",
       "                        <td id=\"T_47e33af0_b87e_11ea_95d5_3c9509197fc0row16_col15\" class=\"data row16 col15\" >0.472571</td>\n",
       "                        <td id=\"T_47e33af0_b87e_11ea_95d5_3c9509197fc0row16_col16\" class=\"data row16 col16\" >1</td>\n",
       "                        <td id=\"T_47e33af0_b87e_11ea_95d5_3c9509197fc0row16_col17\" class=\"data row16 col17\" >-0.162943</td>\n",
       "                        <td id=\"T_47e33af0_b87e_11ea_95d5_3c9509197fc0row16_col18\" class=\"data row16 col18\" >-0.192929</td>\n",
       "                        <td id=\"T_47e33af0_b87e_11ea_95d5_3c9509197fc0row16_col19\" class=\"data row16 col19\" >0.266735</td>\n",
       "                        <td id=\"T_47e33af0_b87e_11ea_95d5_3c9509197fc0row16_col20\" class=\"data row16 col20\" >0.0254401</td>\n",
       "                        <td id=\"T_47e33af0_b87e_11ea_95d5_3c9509197fc0row16_col21\" class=\"data row16 col21\" >0.04161</td>\n",
       "                        <td id=\"T_47e33af0_b87e_11ea_95d5_3c9509197fc0row16_col22\" class=\"data row16 col22\" >0.0420335</td>\n",
       "            </tr>\n",
       "            <tr>\n",
       "                        <th id=\"T_47e33af0_b87e_11ea_95d5_3c9509197fc0level0_row17\" class=\"row_heading level0 row17\" >distance_ctrl</th>\n",
       "                        <td id=\"T_47e33af0_b87e_11ea_95d5_3c9509197fc0row17_col0\" class=\"data row17 col0\" >0.488381</td>\n",
       "                        <td id=\"T_47e33af0_b87e_11ea_95d5_3c9509197fc0row17_col1\" class=\"data row17 col1\" >0.34414</td>\n",
       "                        <td id=\"T_47e33af0_b87e_11ea_95d5_3c9509197fc0row17_col2\" class=\"data row17 col2\" >0.219496</td>\n",
       "                        <td id=\"T_47e33af0_b87e_11ea_95d5_3c9509197fc0row17_col3\" class=\"data row17 col3\" >0.397187</td>\n",
       "                        <td id=\"T_47e33af0_b87e_11ea_95d5_3c9509197fc0row17_col4\" class=\"data row17 col4\" >0.372393</td>\n",
       "                        <td id=\"T_47e33af0_b87e_11ea_95d5_3c9509197fc0row17_col5\" class=\"data row17 col5\" >0.434579</td>\n",
       "                        <td id=\"T_47e33af0_b87e_11ea_95d5_3c9509197fc0row17_col6\" class=\"data row17 col6\" >0.24203</td>\n",
       "                        <td id=\"T_47e33af0_b87e_11ea_95d5_3c9509197fc0row17_col7\" class=\"data row17 col7\" >0.324933</td>\n",
       "                        <td id=\"T_47e33af0_b87e_11ea_95d5_3c9509197fc0row17_col8\" class=\"data row17 col8\" >0.348974</td>\n",
       "                        <td id=\"T_47e33af0_b87e_11ea_95d5_3c9509197fc0row17_col9\" class=\"data row17 col9\" >0.282801</td>\n",
       "                        <td id=\"T_47e33af0_b87e_11ea_95d5_3c9509197fc0row17_col10\" class=\"data row17 col10\" >-0.088121</td>\n",
       "                        <td id=\"T_47e33af0_b87e_11ea_95d5_3c9509197fc0row17_col11\" class=\"data row17 col11\" >-0.29288</td>\n",
       "                        <td id=\"T_47e33af0_b87e_11ea_95d5_3c9509197fc0row17_col12\" class=\"data row17 col12\" >-0.244077</td>\n",
       "                        <td id=\"T_47e33af0_b87e_11ea_95d5_3c9509197fc0row17_col13\" class=\"data row17 col13\" >-0.278908</td>\n",
       "                        <td id=\"T_47e33af0_b87e_11ea_95d5_3c9509197fc0row17_col14\" class=\"data row17 col14\" >-0.306518</td>\n",
       "                        <td id=\"T_47e33af0_b87e_11ea_95d5_3c9509197fc0row17_col15\" class=\"data row17 col15\" >-0.197937</td>\n",
       "                        <td id=\"T_47e33af0_b87e_11ea_95d5_3c9509197fc0row17_col16\" class=\"data row17 col16\" >-0.162943</td>\n",
       "                        <td id=\"T_47e33af0_b87e_11ea_95d5_3c9509197fc0row17_col17\" class=\"data row17 col17\" >1</td>\n",
       "                        <td id=\"T_47e33af0_b87e_11ea_95d5_3c9509197fc0row17_col18\" class=\"data row17 col18\" >0.820413</td>\n",
       "                        <td id=\"T_47e33af0_b87e_11ea_95d5_3c9509197fc0row17_col19\" class=\"data row17 col19\" >-0.579077</td>\n",
       "                        <td id=\"T_47e33af0_b87e_11ea_95d5_3c9509197fc0row17_col20\" class=\"data row17 col20\" >-0.228309</td>\n",
       "                        <td id=\"T_47e33af0_b87e_11ea_95d5_3c9509197fc0row17_col21\" class=\"data row17 col21\" >-0.153918</td>\n",
       "                        <td id=\"T_47e33af0_b87e_11ea_95d5_3c9509197fc0row17_col22\" class=\"data row17 col22\" >0.13268</td>\n",
       "            </tr>\n",
       "            <tr>\n",
       "                        <th id=\"T_47e33af0_b87e_11ea_95d5_3c9509197fc0level0_row18\" class=\"row_heading level0 row18\" >cluster_ctrl</th>\n",
       "                        <td id=\"T_47e33af0_b87e_11ea_95d5_3c9509197fc0row18_col0\" class=\"data row18 col0\" >0.411544</td>\n",
       "                        <td id=\"T_47e33af0_b87e_11ea_95d5_3c9509197fc0row18_col1\" class=\"data row18 col1\" >0.324802</td>\n",
       "                        <td id=\"T_47e33af0_b87e_11ea_95d5_3c9509197fc0row18_col2\" class=\"data row18 col2\" >0.297356</td>\n",
       "                        <td id=\"T_47e33af0_b87e_11ea_95d5_3c9509197fc0row18_col3\" class=\"data row18 col3\" >0.477237</td>\n",
       "                        <td id=\"T_47e33af0_b87e_11ea_95d5_3c9509197fc0row18_col4\" class=\"data row18 col4\" >0.420029</td>\n",
       "                        <td id=\"T_47e33af0_b87e_11ea_95d5_3c9509197fc0row18_col5\" class=\"data row18 col5\" >0.359147</td>\n",
       "                        <td id=\"T_47e33af0_b87e_11ea_95d5_3c9509197fc0row18_col6\" class=\"data row18 col6\" >0.22717</td>\n",
       "                        <td id=\"T_47e33af0_b87e_11ea_95d5_3c9509197fc0row18_col7\" class=\"data row18 col7\" >0.406513</td>\n",
       "                        <td id=\"T_47e33af0_b87e_11ea_95d5_3c9509197fc0row18_col8\" class=\"data row18 col8\" >0.413309</td>\n",
       "                        <td id=\"T_47e33af0_b87e_11ea_95d5_3c9509197fc0row18_col9\" class=\"data row18 col9\" >0.322212</td>\n",
       "                        <td id=\"T_47e33af0_b87e_11ea_95d5_3c9509197fc0row18_col10\" class=\"data row18 col10\" >-0.0988911</td>\n",
       "                        <td id=\"T_47e33af0_b87e_11ea_95d5_3c9509197fc0row18_col11\" class=\"data row18 col11\" >-0.335595</td>\n",
       "                        <td id=\"T_47e33af0_b87e_11ea_95d5_3c9509197fc0row18_col12\" class=\"data row18 col12\" >-0.293187</td>\n",
       "                        <td id=\"T_47e33af0_b87e_11ea_95d5_3c9509197fc0row18_col13\" class=\"data row18 col13\" >-0.318034</td>\n",
       "                        <td id=\"T_47e33af0_b87e_11ea_95d5_3c9509197fc0row18_col14\" class=\"data row18 col14\" >-0.355063</td>\n",
       "                        <td id=\"T_47e33af0_b87e_11ea_95d5_3c9509197fc0row18_col15\" class=\"data row18 col15\" >-0.225577</td>\n",
       "                        <td id=\"T_47e33af0_b87e_11ea_95d5_3c9509197fc0row18_col16\" class=\"data row18 col16\" >-0.192929</td>\n",
       "                        <td id=\"T_47e33af0_b87e_11ea_95d5_3c9509197fc0row18_col17\" class=\"data row18 col17\" >0.820413</td>\n",
       "                        <td id=\"T_47e33af0_b87e_11ea_95d5_3c9509197fc0row18_col18\" class=\"data row18 col18\" >1</td>\n",
       "                        <td id=\"T_47e33af0_b87e_11ea_95d5_3c9509197fc0row18_col19\" class=\"data row18 col19\" >-0.6646</td>\n",
       "                        <td id=\"T_47e33af0_b87e_11ea_95d5_3c9509197fc0row18_col20\" class=\"data row18 col20\" >-0.259079</td>\n",
       "                        <td id=\"T_47e33af0_b87e_11ea_95d5_3c9509197fc0row18_col21\" class=\"data row18 col21\" >-0.133921</td>\n",
       "                        <td id=\"T_47e33af0_b87e_11ea_95d5_3c9509197fc0row18_col22\" class=\"data row18 col22\" >0.134154</td>\n",
       "            </tr>\n",
       "            <tr>\n",
       "                        <th id=\"T_47e33af0_b87e_11ea_95d5_3c9509197fc0level0_row19\" class=\"row_heading level0 row19\" >risk_ctrl</th>\n",
       "                        <td id=\"T_47e33af0_b87e_11ea_95d5_3c9509197fc0row19_col0\" class=\"data row19 col0\" >-0.338419</td>\n",
       "                        <td id=\"T_47e33af0_b87e_11ea_95d5_3c9509197fc0row19_col1\" class=\"data row19 col1\" >-0.242611</td>\n",
       "                        <td id=\"T_47e33af0_b87e_11ea_95d5_3c9509197fc0row19_col2\" class=\"data row19 col2\" >-0.240091</td>\n",
       "                        <td id=\"T_47e33af0_b87e_11ea_95d5_3c9509197fc0row19_col3\" class=\"data row19 col3\" >-0.38641</td>\n",
       "                        <td id=\"T_47e33af0_b87e_11ea_95d5_3c9509197fc0row19_col4\" class=\"data row19 col4\" >-0.33779</td>\n",
       "                        <td id=\"T_47e33af0_b87e_11ea_95d5_3c9509197fc0row19_col5\" class=\"data row19 col5\" >-0.247929</td>\n",
       "                        <td id=\"T_47e33af0_b87e_11ea_95d5_3c9509197fc0row19_col6\" class=\"data row19 col6\" >-0.18909</td>\n",
       "                        <td id=\"T_47e33af0_b87e_11ea_95d5_3c9509197fc0row19_col7\" class=\"data row19 col7\" >-0.263672</td>\n",
       "                        <td id=\"T_47e33af0_b87e_11ea_95d5_3c9509197fc0row19_col8\" class=\"data row19 col8\" >-0.295113</td>\n",
       "                        <td id=\"T_47e33af0_b87e_11ea_95d5_3c9509197fc0row19_col9\" class=\"data row19 col9\" >-0.237231</td>\n",
       "                        <td id=\"T_47e33af0_b87e_11ea_95d5_3c9509197fc0row19_col10\" class=\"data row19 col10\" >-0.0106161</td>\n",
       "                        <td id=\"T_47e33af0_b87e_11ea_95d5_3c9509197fc0row19_col11\" class=\"data row19 col11\" >0.471847</td>\n",
       "                        <td id=\"T_47e33af0_b87e_11ea_95d5_3c9509197fc0row19_col12\" class=\"data row19 col12\" >0.324857</td>\n",
       "                        <td id=\"T_47e33af0_b87e_11ea_95d5_3c9509197fc0row19_col13\" class=\"data row19 col13\" >0.51294</td>\n",
       "                        <td id=\"T_47e33af0_b87e_11ea_95d5_3c9509197fc0row19_col14\" class=\"data row19 col14\" >0.470356</td>\n",
       "                        <td id=\"T_47e33af0_b87e_11ea_95d5_3c9509197fc0row19_col15\" class=\"data row19 col15\" >0.386156</td>\n",
       "                        <td id=\"T_47e33af0_b87e_11ea_95d5_3c9509197fc0row19_col16\" class=\"data row19 col16\" >0.266735</td>\n",
       "                        <td id=\"T_47e33af0_b87e_11ea_95d5_3c9509197fc0row19_col17\" class=\"data row19 col17\" >-0.579077</td>\n",
       "                        <td id=\"T_47e33af0_b87e_11ea_95d5_3c9509197fc0row19_col18\" class=\"data row19 col18\" >-0.6646</td>\n",
       "                        <td id=\"T_47e33af0_b87e_11ea_95d5_3c9509197fc0row19_col19\" class=\"data row19 col19\" >1</td>\n",
       "                        <td id=\"T_47e33af0_b87e_11ea_95d5_3c9509197fc0row19_col20\" class=\"data row19 col20\" >-0.00180842</td>\n",
       "                        <td id=\"T_47e33af0_b87e_11ea_95d5_3c9509197fc0row19_col21\" class=\"data row19 col21\" >0.139983</td>\n",
       "                        <td id=\"T_47e33af0_b87e_11ea_95d5_3c9509197fc0row19_col22\" class=\"data row19 col22\" >-0.198034</td>\n",
       "            </tr>\n",
       "            <tr>\n",
       "                        <th id=\"T_47e33af0_b87e_11ea_95d5_3c9509197fc0level0_row20\" class=\"row_heading level0 row20\" >agi_ctrl</th>\n",
       "                        <td id=\"T_47e33af0_b87e_11ea_95d5_3c9509197fc0row20_col0\" class=\"data row20 col0\" >-0.134306</td>\n",
       "                        <td id=\"T_47e33af0_b87e_11ea_95d5_3c9509197fc0row20_col1\" class=\"data row20 col1\" >-0.075991</td>\n",
       "                        <td id=\"T_47e33af0_b87e_11ea_95d5_3c9509197fc0row20_col2\" class=\"data row20 col2\" >-0.0519605</td>\n",
       "                        <td id=\"T_47e33af0_b87e_11ea_95d5_3c9509197fc0row20_col3\" class=\"data row20 col3\" >-0.109355</td>\n",
       "                        <td id=\"T_47e33af0_b87e_11ea_95d5_3c9509197fc0row20_col4\" class=\"data row20 col4\" >-0.118076</td>\n",
       "                        <td id=\"T_47e33af0_b87e_11ea_95d5_3c9509197fc0row20_col5\" class=\"data row20 col5\" >-0.133612</td>\n",
       "                        <td id=\"T_47e33af0_b87e_11ea_95d5_3c9509197fc0row20_col6\" class=\"data row20 col6\" >0.0512301</td>\n",
       "                        <td id=\"T_47e33af0_b87e_11ea_95d5_3c9509197fc0row20_col7\" class=\"data row20 col7\" >-0.108389</td>\n",
       "                        <td id=\"T_47e33af0_b87e_11ea_95d5_3c9509197fc0row20_col8\" class=\"data row20 col8\" >-0.113676</td>\n",
       "                        <td id=\"T_47e33af0_b87e_11ea_95d5_3c9509197fc0row20_col9\" class=\"data row20 col9\" >-0.0945534</td>\n",
       "                        <td id=\"T_47e33af0_b87e_11ea_95d5_3c9509197fc0row20_col10\" class=\"data row20 col10\" >0.383898</td>\n",
       "                        <td id=\"T_47e33af0_b87e_11ea_95d5_3c9509197fc0row20_col11\" class=\"data row20 col11\" >0.0167745</td>\n",
       "                        <td id=\"T_47e33af0_b87e_11ea_95d5_3c9509197fc0row20_col12\" class=\"data row20 col12\" >0.0640526</td>\n",
       "                        <td id=\"T_47e33af0_b87e_11ea_95d5_3c9509197fc0row20_col13\" class=\"data row20 col13\" >-0.027844</td>\n",
       "                        <td id=\"T_47e33af0_b87e_11ea_95d5_3c9509197fc0row20_col14\" class=\"data row20 col14\" >0.0354188</td>\n",
       "                        <td id=\"T_47e33af0_b87e_11ea_95d5_3c9509197fc0row20_col15\" class=\"data row20 col15\" >-0.0243131</td>\n",
       "                        <td id=\"T_47e33af0_b87e_11ea_95d5_3c9509197fc0row20_col16\" class=\"data row20 col16\" >0.0254401</td>\n",
       "                        <td id=\"T_47e33af0_b87e_11ea_95d5_3c9509197fc0row20_col17\" class=\"data row20 col17\" >-0.228309</td>\n",
       "                        <td id=\"T_47e33af0_b87e_11ea_95d5_3c9509197fc0row20_col18\" class=\"data row20 col18\" >-0.259079</td>\n",
       "                        <td id=\"T_47e33af0_b87e_11ea_95d5_3c9509197fc0row20_col19\" class=\"data row20 col19\" >-0.00180842</td>\n",
       "                        <td id=\"T_47e33af0_b87e_11ea_95d5_3c9509197fc0row20_col20\" class=\"data row20 col20\" >1</td>\n",
       "                        <td id=\"T_47e33af0_b87e_11ea_95d5_3c9509197fc0row20_col21\" class=\"data row20 col21\" >-0.00413371</td>\n",
       "                        <td id=\"T_47e33af0_b87e_11ea_95d5_3c9509197fc0row20_col22\" class=\"data row20 col22\" >0.0398798</td>\n",
       "            </tr>\n",
       "            <tr>\n",
       "                        <th id=\"T_47e33af0_b87e_11ea_95d5_3c9509197fc0level0_row21\" class=\"row_heading level0 row21\" >exp</th>\n",
       "                        <td id=\"T_47e33af0_b87e_11ea_95d5_3c9509197fc0row21_col0\" class=\"data row21 col0\" >-0.0938988</td>\n",
       "                        <td id=\"T_47e33af0_b87e_11ea_95d5_3c9509197fc0row21_col1\" class=\"data row21 col1\" >-0.0608774</td>\n",
       "                        <td id=\"T_47e33af0_b87e_11ea_95d5_3c9509197fc0row21_col2\" class=\"data row21 col2\" >-0.0733902</td>\n",
       "                        <td id=\"T_47e33af0_b87e_11ea_95d5_3c9509197fc0row21_col3\" class=\"data row21 col3\" >-0.098319</td>\n",
       "                        <td id=\"T_47e33af0_b87e_11ea_95d5_3c9509197fc0row21_col4\" class=\"data row21 col4\" >-0.0700813</td>\n",
       "                        <td id=\"T_47e33af0_b87e_11ea_95d5_3c9509197fc0row21_col5\" class=\"data row21 col5\" >-0.0795202</td>\n",
       "                        <td id=\"T_47e33af0_b87e_11ea_95d5_3c9509197fc0row21_col6\" class=\"data row21 col6\" >-0.0384491</td>\n",
       "                        <td id=\"T_47e33af0_b87e_11ea_95d5_3c9509197fc0row21_col7\" class=\"data row21 col7\" >-0.0734558</td>\n",
       "                        <td id=\"T_47e33af0_b87e_11ea_95d5_3c9509197fc0row21_col8\" class=\"data row21 col8\" >-0.0617138</td>\n",
       "                        <td id=\"T_47e33af0_b87e_11ea_95d5_3c9509197fc0row21_col9\" class=\"data row21 col9\" >-0.0376544</td>\n",
       "                        <td id=\"T_47e33af0_b87e_11ea_95d5_3c9509197fc0row21_col10\" class=\"data row21 col10\" >0.0038709</td>\n",
       "                        <td id=\"T_47e33af0_b87e_11ea_95d5_3c9509197fc0row21_col11\" class=\"data row21 col11\" >0.0848883</td>\n",
       "                        <td id=\"T_47e33af0_b87e_11ea_95d5_3c9509197fc0row21_col12\" class=\"data row21 col12\" >0.0811725</td>\n",
       "                        <td id=\"T_47e33af0_b87e_11ea_95d5_3c9509197fc0row21_col13\" class=\"data row21 col13\" >0.0722145</td>\n",
       "                        <td id=\"T_47e33af0_b87e_11ea_95d5_3c9509197fc0row21_col14\" class=\"data row21 col14\" >0.0806138</td>\n",
       "                        <td id=\"T_47e33af0_b87e_11ea_95d5_3c9509197fc0row21_col15\" class=\"data row21 col15\" >0.0498466</td>\n",
       "                        <td id=\"T_47e33af0_b87e_11ea_95d5_3c9509197fc0row21_col16\" class=\"data row21 col16\" >0.04161</td>\n",
       "                        <td id=\"T_47e33af0_b87e_11ea_95d5_3c9509197fc0row21_col17\" class=\"data row21 col17\" >-0.153918</td>\n",
       "                        <td id=\"T_47e33af0_b87e_11ea_95d5_3c9509197fc0row21_col18\" class=\"data row21 col18\" >-0.133921</td>\n",
       "                        <td id=\"T_47e33af0_b87e_11ea_95d5_3c9509197fc0row21_col19\" class=\"data row21 col19\" >0.139983</td>\n",
       "                        <td id=\"T_47e33af0_b87e_11ea_95d5_3c9509197fc0row21_col20\" class=\"data row21 col20\" >-0.00413371</td>\n",
       "                        <td id=\"T_47e33af0_b87e_11ea_95d5_3c9509197fc0row21_col21\" class=\"data row21 col21\" >1</td>\n",
       "                        <td id=\"T_47e33af0_b87e_11ea_95d5_3c9509197fc0row21_col22\" class=\"data row21 col22\" >-0.0549383</td>\n",
       "            </tr>\n",
       "            <tr>\n",
       "                        <th id=\"T_47e33af0_b87e_11ea_95d5_3c9509197fc0level0_row22\" class=\"row_heading level0 row22\" >ranking</th>\n",
       "                        <td id=\"T_47e33af0_b87e_11ea_95d5_3c9509197fc0row22_col0\" class=\"data row22 col0\" >0.107396</td>\n",
       "                        <td id=\"T_47e33af0_b87e_11ea_95d5_3c9509197fc0row22_col1\" class=\"data row22 col1\" >0.0186199</td>\n",
       "                        <td id=\"T_47e33af0_b87e_11ea_95d5_3c9509197fc0row22_col2\" class=\"data row22 col2\" >-0.0986852</td>\n",
       "                        <td id=\"T_47e33af0_b87e_11ea_95d5_3c9509197fc0row22_col3\" class=\"data row22 col3\" >0.00309993</td>\n",
       "                        <td id=\"T_47e33af0_b87e_11ea_95d5_3c9509197fc0row22_col4\" class=\"data row22 col4\" >0.00278161</td>\n",
       "                        <td id=\"T_47e33af0_b87e_11ea_95d5_3c9509197fc0row22_col5\" class=\"data row22 col5\" >0.0812693</td>\n",
       "                        <td id=\"T_47e33af0_b87e_11ea_95d5_3c9509197fc0row22_col6\" class=\"data row22 col6\" >0.052109</td>\n",
       "                        <td id=\"T_47e33af0_b87e_11ea_95d5_3c9509197fc0row22_col7\" class=\"data row22 col7\" >0.0522507</td>\n",
       "                        <td id=\"T_47e33af0_b87e_11ea_95d5_3c9509197fc0row22_col8\" class=\"data row22 col8\" >0.0586138</td>\n",
       "                        <td id=\"T_47e33af0_b87e_11ea_95d5_3c9509197fc0row22_col9\" class=\"data row22 col9\" >0.036044</td>\n",
       "                        <td id=\"T_47e33af0_b87e_11ea_95d5_3c9509197fc0row22_col10\" class=\"data row22 col10\" >0.362364</td>\n",
       "                        <td id=\"T_47e33af0_b87e_11ea_95d5_3c9509197fc0row22_col11\" class=\"data row22 col11\" >-0.043697</td>\n",
       "                        <td id=\"T_47e33af0_b87e_11ea_95d5_3c9509197fc0row22_col12\" class=\"data row22 col12\" >-0.0112409</td>\n",
       "                        <td id=\"T_47e33af0_b87e_11ea_95d5_3c9509197fc0row22_col13\" class=\"data row22 col13\" >0.0605111</td>\n",
       "                        <td id=\"T_47e33af0_b87e_11ea_95d5_3c9509197fc0row22_col14\" class=\"data row22 col14\" >0.0370463</td>\n",
       "                        <td id=\"T_47e33af0_b87e_11ea_95d5_3c9509197fc0row22_col15\" class=\"data row22 col15\" >0.0159041</td>\n",
       "                        <td id=\"T_47e33af0_b87e_11ea_95d5_3c9509197fc0row22_col16\" class=\"data row22 col16\" >0.0420335</td>\n",
       "                        <td id=\"T_47e33af0_b87e_11ea_95d5_3c9509197fc0row22_col17\" class=\"data row22 col17\" >0.13268</td>\n",
       "                        <td id=\"T_47e33af0_b87e_11ea_95d5_3c9509197fc0row22_col18\" class=\"data row22 col18\" >0.134154</td>\n",
       "                        <td id=\"T_47e33af0_b87e_11ea_95d5_3c9509197fc0row22_col19\" class=\"data row22 col19\" >-0.198034</td>\n",
       "                        <td id=\"T_47e33af0_b87e_11ea_95d5_3c9509197fc0row22_col20\" class=\"data row22 col20\" >0.0398798</td>\n",
       "                        <td id=\"T_47e33af0_b87e_11ea_95d5_3c9509197fc0row22_col21\" class=\"data row22 col21\" >-0.0549383</td>\n",
       "                        <td id=\"T_47e33af0_b87e_11ea_95d5_3c9509197fc0row22_col22\" class=\"data row22 col22\" >1</td>\n",
       "            </tr>\n",
       "    </tbody></table>"
      ],
      "text/plain": [
       "<pandas.io.formats.style.Styler at 0x2719a84a148>"
      ]
     },
     "execution_count": 169,
     "metadata": {},
     "output_type": "execute_result"
    }
   ],
   "source": [
    "df2.iloc[:,2:].corr().style.apply(lambda x: [\"background: red\" if abs(v) > 0.75 else \"\" for v in x], axis = 1)"
   ]
  },
  {
   "cell_type": "markdown",
   "metadata": {},
   "source": [
    "# EDA"
   ]
  },
  {
   "cell_type": "code",
   "execution_count": 42,
   "metadata": {},
   "outputs": [],
   "source": [
    "pd.set_option('display.max_columns', 45)"
   ]
  },
  {
   "cell_type": "code",
   "execution_count": 45,
   "metadata": {},
   "outputs": [
    {
     "data": {
      "text/plain": [
       "Index(['matchId', 'teamId', 'distance1_2_x', 'distance1_3_x', 'distance1_4_x',\n",
       "       'distance2_3_x', 'distance2_4_x', 'distance3_4_x',\n",
       "       'distance_centroid1_x', 'distance_centroid2_x', 'distance_centroid3_x',\n",
       "       'distance_centroid4_x', 'cluster_B_x', 'cluster_C_x', 'cluster_D_x',\n",
       "       'distance1_2_y', 'distance1_3_y', 'distance1_4_y', 'distance2_3_y',\n",
       "       'distance2_4_y', 'distance3_4_y', 'distance_centroid1_y',\n",
       "       'distance_centroid2_y', 'distance_centroid3_y', 'distance_centroid4_y',\n",
       "       'cluster_B_y', 'cluster_C_y', 'cluster_D_y', 'agility_y',\n",
       "       'landing_risk1', 'landing_risk2', 'landing_risk3', 'landing_risk4',\n",
       "       'risk1', 'risk2', 'risk3', 'risk4', 'ranking'],\n",
       "      dtype='object')"
      ]
     },
     "execution_count": 45,
     "metadata": {},
     "output_type": "execute_result"
    }
   ],
   "source": [
    "df.columns"
   ]
  },
  {
   "cell_type": "markdown",
   "metadata": {},
   "source": [
    "The _x_ variables represent standard deviations, while the _y_ variables represent means"
   ]
  },
  {
   "cell_type": "code",
   "execution_count": 46,
   "metadata": {},
   "outputs": [
    {
     "data": {
      "text/html": [
       "<div>\n",
       "<style scoped>\n",
       "    .dataframe tbody tr th:only-of-type {\n",
       "        vertical-align: middle;\n",
       "    }\n",
       "\n",
       "    .dataframe tbody tr th {\n",
       "        vertical-align: top;\n",
       "    }\n",
       "\n",
       "    .dataframe thead th {\n",
       "        text-align: right;\n",
       "    }\n",
       "</style>\n",
       "<table border=\"1\" class=\"dataframe\">\n",
       "  <thead>\n",
       "    <tr style=\"text-align: right;\">\n",
       "      <th></th>\n",
       "      <th>teamId</th>\n",
       "      <th>distance1_2_x</th>\n",
       "      <th>distance1_3_x</th>\n",
       "      <th>distance1_4_x</th>\n",
       "      <th>distance2_3_x</th>\n",
       "      <th>distance2_4_x</th>\n",
       "      <th>distance3_4_x</th>\n",
       "      <th>distance_centroid1_x</th>\n",
       "      <th>distance_centroid2_x</th>\n",
       "      <th>distance_centroid3_x</th>\n",
       "      <th>distance_centroid4_x</th>\n",
       "      <th>cluster_B_x</th>\n",
       "      <th>cluster_C_x</th>\n",
       "      <th>cluster_D_x</th>\n",
       "      <th>distance1_2_y</th>\n",
       "      <th>distance1_3_y</th>\n",
       "      <th>distance1_4_y</th>\n",
       "      <th>distance2_3_y</th>\n",
       "      <th>distance2_4_y</th>\n",
       "      <th>distance3_4_y</th>\n",
       "      <th>distance_centroid1_y</th>\n",
       "      <th>distance_centroid2_y</th>\n",
       "      <th>distance_centroid3_y</th>\n",
       "      <th>distance_centroid4_y</th>\n",
       "      <th>cluster_B_y</th>\n",
       "      <th>cluster_C_y</th>\n",
       "      <th>cluster_D_y</th>\n",
       "      <th>agility_y</th>\n",
       "      <th>landing_risk1</th>\n",
       "      <th>landing_risk2</th>\n",
       "      <th>landing_risk3</th>\n",
       "      <th>landing_risk4</th>\n",
       "      <th>risk1</th>\n",
       "      <th>risk2</th>\n",
       "      <th>risk3</th>\n",
       "      <th>risk4</th>\n",
       "      <th>ranking</th>\n",
       "    </tr>\n",
       "  </thead>\n",
       "  <tbody>\n",
       "    <tr>\n",
       "      <td>count</td>\n",
       "      <td>277816.000000</td>\n",
       "      <td>277816.000000</td>\n",
       "      <td>277816.000000</td>\n",
       "      <td>277816.000000</td>\n",
       "      <td>277816.000000</td>\n",
       "      <td>277816.000000</td>\n",
       "      <td>277816.000000</td>\n",
       "      <td>277816.000000</td>\n",
       "      <td>277816.000000</td>\n",
       "      <td>277816.000000</td>\n",
       "      <td>277816.000000</td>\n",
       "      <td>277816.000000</td>\n",
       "      <td>277816.000000</td>\n",
       "      <td>277816.000000</td>\n",
       "      <td>277816.000000</td>\n",
       "      <td>277816.000000</td>\n",
       "      <td>277816.000000</td>\n",
       "      <td>277816.000000</td>\n",
       "      <td>277816.000000</td>\n",
       "      <td>277816.000000</td>\n",
       "      <td>277816.000000</td>\n",
       "      <td>277816.000000</td>\n",
       "      <td>277816.000000</td>\n",
       "      <td>277816.000000</td>\n",
       "      <td>277816.000000</td>\n",
       "      <td>277816.000000</td>\n",
       "      <td>277816.000000</td>\n",
       "      <td>277816.000000</td>\n",
       "      <td>277816.000000</td>\n",
       "      <td>277816.000000</td>\n",
       "      <td>277816.000000</td>\n",
       "      <td>277816.000000</td>\n",
       "      <td>277816.000000</td>\n",
       "      <td>277816.000000</td>\n",
       "      <td>277816.000000</td>\n",
       "      <td>277816.000000</td>\n",
       "      <td>277816.000000</td>\n",
       "    </tr>\n",
       "    <tr>\n",
       "      <td>mean</td>\n",
       "      <td>31.550803</td>\n",
       "      <td>1.220040</td>\n",
       "      <td>1.221193</td>\n",
       "      <td>1.219403</td>\n",
       "      <td>1.220157</td>\n",
       "      <td>1.219421</td>\n",
       "      <td>1.220266</td>\n",
       "      <td>1.250294</td>\n",
       "      <td>1.249434</td>\n",
       "      <td>1.249845</td>\n",
       "      <td>1.251675</td>\n",
       "      <td>0.134697</td>\n",
       "      <td>0.073844</td>\n",
       "      <td>0.033191</td>\n",
       "      <td>4.425895</td>\n",
       "      <td>4.432289</td>\n",
       "      <td>4.444075</td>\n",
       "      <td>4.426827</td>\n",
       "      <td>4.436604</td>\n",
       "      <td>4.434747</td>\n",
       "      <td>3.960695</td>\n",
       "      <td>3.958650</td>\n",
       "      <td>3.960000</td>\n",
       "      <td>3.964661</td>\n",
       "      <td>0.129494</td>\n",
       "      <td>0.046273</td>\n",
       "      <td>0.014079</td>\n",
       "      <td>0.221665</td>\n",
       "      <td>13.566278</td>\n",
       "      <td>13.539381</td>\n",
       "      <td>13.483013</td>\n",
       "      <td>13.461064</td>\n",
       "      <td>183.236947</td>\n",
       "      <td>183.848328</td>\n",
       "      <td>183.070045</td>\n",
       "      <td>184.844614</td>\n",
       "      <td>12.408443</td>\n",
       "    </tr>\n",
       "    <tr>\n",
       "      <td>std</td>\n",
       "      <td>58.293427</td>\n",
       "      <td>0.414806</td>\n",
       "      <td>0.416072</td>\n",
       "      <td>0.415408</td>\n",
       "      <td>0.414611</td>\n",
       "      <td>0.415657</td>\n",
       "      <td>0.416274</td>\n",
       "      <td>0.505439</td>\n",
       "      <td>0.505075</td>\n",
       "      <td>0.506130</td>\n",
       "      <td>0.508817</td>\n",
       "      <td>0.045111</td>\n",
       "      <td>0.047030</td>\n",
       "      <td>0.039717</td>\n",
       "      <td>1.290691</td>\n",
       "      <td>1.289716</td>\n",
       "      <td>1.286070</td>\n",
       "      <td>1.290595</td>\n",
       "      <td>1.290509</td>\n",
       "      <td>1.293812</td>\n",
       "      <td>1.187391</td>\n",
       "      <td>1.187341</td>\n",
       "      <td>1.186827</td>\n",
       "      <td>1.188483</td>\n",
       "      <td>0.085529</td>\n",
       "      <td>0.051684</td>\n",
       "      <td>0.026075</td>\n",
       "      <td>0.119004</td>\n",
       "      <td>25.506246</td>\n",
       "      <td>25.386123</td>\n",
       "      <td>25.343427</td>\n",
       "      <td>25.486359</td>\n",
       "      <td>622.812845</td>\n",
       "      <td>627.091785</td>\n",
       "      <td>624.856011</td>\n",
       "      <td>632.111689</td>\n",
       "      <td>7.750957</td>\n",
       "    </tr>\n",
       "    <tr>\n",
       "      <td>min</td>\n",
       "      <td>1.000000</td>\n",
       "      <td>0.000000</td>\n",
       "      <td>0.000000</td>\n",
       "      <td>0.000000</td>\n",
       "      <td>0.000000</td>\n",
       "      <td>0.000000</td>\n",
       "      <td>0.000000</td>\n",
       "      <td>0.000000</td>\n",
       "      <td>0.000000</td>\n",
       "      <td>0.000000</td>\n",
       "      <td>0.000000</td>\n",
       "      <td>0.000000</td>\n",
       "      <td>0.000000</td>\n",
       "      <td>0.000000</td>\n",
       "      <td>-1.795140</td>\n",
       "      <td>-0.791748</td>\n",
       "      <td>-0.912787</td>\n",
       "      <td>-1.569801</td>\n",
       "      <td>-0.212611</td>\n",
       "      <td>-1.252473</td>\n",
       "      <td>-0.532559</td>\n",
       "      <td>-0.084660</td>\n",
       "      <td>0.000000</td>\n",
       "      <td>-1.274496</td>\n",
       "      <td>0.000000</td>\n",
       "      <td>0.000000</td>\n",
       "      <td>0.000000</td>\n",
       "      <td>0.006993</td>\n",
       "      <td>0.000000</td>\n",
       "      <td>0.000000</td>\n",
       "      <td>0.000000</td>\n",
       "      <td>0.000000</td>\n",
       "      <td>0.000000</td>\n",
       "      <td>0.000000</td>\n",
       "      <td>0.000000</td>\n",
       "      <td>0.000000</td>\n",
       "      <td>1.000000</td>\n",
       "    </tr>\n",
       "    <tr>\n",
       "      <td>25%</td>\n",
       "      <td>6.000000</td>\n",
       "      <td>0.952876</td>\n",
       "      <td>0.953222</td>\n",
       "      <td>0.950896</td>\n",
       "      <td>0.952763</td>\n",
       "      <td>0.951395</td>\n",
       "      <td>0.951849</td>\n",
       "      <td>0.923141</td>\n",
       "      <td>0.921681</td>\n",
       "      <td>0.921768</td>\n",
       "      <td>0.922271</td>\n",
       "      <td>0.113191</td>\n",
       "      <td>0.037261</td>\n",
       "      <td>0.000000</td>\n",
       "      <td>3.550509</td>\n",
       "      <td>3.553670</td>\n",
       "      <td>3.564977</td>\n",
       "      <td>3.550995</td>\n",
       "      <td>3.559805</td>\n",
       "      <td>3.556852</td>\n",
       "      <td>3.158702</td>\n",
       "      <td>3.154917</td>\n",
       "      <td>3.158138</td>\n",
       "      <td>3.161746</td>\n",
       "      <td>0.060386</td>\n",
       "      <td>0.005495</td>\n",
       "      <td>0.000000</td>\n",
       "      <td>0.130435</td>\n",
       "      <td>0.000000</td>\n",
       "      <td>0.000000</td>\n",
       "      <td>0.000000</td>\n",
       "      <td>0.000000</td>\n",
       "      <td>0.625734</td>\n",
       "      <td>0.626848</td>\n",
       "      <td>0.626120</td>\n",
       "      <td>0.625235</td>\n",
       "      <td>6.000000</td>\n",
       "    </tr>\n",
       "    <tr>\n",
       "      <td>50%</td>\n",
       "      <td>13.000000</td>\n",
       "      <td>1.179662</td>\n",
       "      <td>1.180634</td>\n",
       "      <td>1.178632</td>\n",
       "      <td>1.180385</td>\n",
       "      <td>1.179353</td>\n",
       "      <td>1.179985</td>\n",
       "      <td>1.146107</td>\n",
       "      <td>1.145677</td>\n",
       "      <td>1.145695</td>\n",
       "      <td>1.146288</td>\n",
       "      <td>0.137960</td>\n",
       "      <td>0.079749</td>\n",
       "      <td>0.019582</td>\n",
       "      <td>4.130457</td>\n",
       "      <td>4.137393</td>\n",
       "      <td>4.148644</td>\n",
       "      <td>4.130803</td>\n",
       "      <td>4.141877</td>\n",
       "      <td>4.138695</td>\n",
       "      <td>3.717562</td>\n",
       "      <td>3.715503</td>\n",
       "      <td>3.717301</td>\n",
       "      <td>3.722817</td>\n",
       "      <td>0.121005</td>\n",
       "      <td>0.027344</td>\n",
       "      <td>0.001534</td>\n",
       "      <td>0.205607</td>\n",
       "      <td>3.000000</td>\n",
       "      <td>3.000000</td>\n",
       "      <td>3.000000</td>\n",
       "      <td>3.000000</td>\n",
       "      <td>9.800190</td>\n",
       "      <td>9.876956</td>\n",
       "      <td>9.874124</td>\n",
       "      <td>9.743855</td>\n",
       "      <td>12.000000</td>\n",
       "    </tr>\n",
       "    <tr>\n",
       "      <td>75%</td>\n",
       "      <td>21.000000</td>\n",
       "      <td>1.441132</td>\n",
       "      <td>1.444389</td>\n",
       "      <td>1.442038</td>\n",
       "      <td>1.441926</td>\n",
       "      <td>1.443497</td>\n",
       "      <td>1.442807</td>\n",
       "      <td>1.448741</td>\n",
       "      <td>1.447298</td>\n",
       "      <td>1.447752</td>\n",
       "      <td>1.449512</td>\n",
       "      <td>0.162728</td>\n",
       "      <td>0.115637</td>\n",
       "      <td>0.060978</td>\n",
       "      <td>5.093096</td>\n",
       "      <td>5.102378</td>\n",
       "      <td>5.116114</td>\n",
       "      <td>5.091230</td>\n",
       "      <td>5.107058</td>\n",
       "      <td>5.103649</td>\n",
       "      <td>4.580354</td>\n",
       "      <td>4.575755</td>\n",
       "      <td>4.577439</td>\n",
       "      <td>4.582676</td>\n",
       "      <td>0.186330</td>\n",
       "      <td>0.072279</td>\n",
       "      <td>0.015625</td>\n",
       "      <td>0.291667</td>\n",
       "      <td>15.625000</td>\n",
       "      <td>15.625000</td>\n",
       "      <td>15.625000</td>\n",
       "      <td>15.625000</td>\n",
       "      <td>105.353467</td>\n",
       "      <td>105.367430</td>\n",
       "      <td>105.623687</td>\n",
       "      <td>105.772370</td>\n",
       "      <td>18.000000</td>\n",
       "    </tr>\n",
       "    <tr>\n",
       "      <td>max</td>\n",
       "      <td>205.000000</td>\n",
       "      <td>8.786091</td>\n",
       "      <td>8.356210</td>\n",
       "      <td>7.788996</td>\n",
       "      <td>7.047822</td>\n",
       "      <td>5.825716</td>\n",
       "      <td>6.716424</td>\n",
       "      <td>8.448849</td>\n",
       "      <td>9.651332</td>\n",
       "      <td>7.240186</td>\n",
       "      <td>11.380225</td>\n",
       "      <td>0.353553</td>\n",
       "      <td>0.176777</td>\n",
       "      <td>0.144338</td>\n",
       "      <td>9.139036</td>\n",
       "      <td>9.135439</td>\n",
       "      <td>9.153829</td>\n",
       "      <td>9.071639</td>\n",
       "      <td>9.120486</td>\n",
       "      <td>9.193517</td>\n",
       "      <td>8.855117</td>\n",
       "      <td>8.801846</td>\n",
       "      <td>8.580758</td>\n",
       "      <td>8.826189</td>\n",
       "      <td>0.500000</td>\n",
       "      <td>0.310920</td>\n",
       "      <td>0.250000</td>\n",
       "      <td>1.000000</td>\n",
       "      <td>246.875000</td>\n",
       "      <td>246.875000</td>\n",
       "      <td>246.875000</td>\n",
       "      <td>246.875000</td>\n",
       "      <td>18122.958320</td>\n",
       "      <td>18019.558350</td>\n",
       "      <td>19342.568428</td>\n",
       "      <td>18328.323613</td>\n",
       "      <td>36.000000</td>\n",
       "    </tr>\n",
       "  </tbody>\n",
       "</table>\n",
       "</div>"
      ],
      "text/plain": [
       "              teamId  distance1_2_x  distance1_3_x  distance1_4_x  \\\n",
       "count  277816.000000  277816.000000  277816.000000  277816.000000   \n",
       "mean       31.550803       1.220040       1.221193       1.219403   \n",
       "std        58.293427       0.414806       0.416072       0.415408   \n",
       "min         1.000000       0.000000       0.000000       0.000000   \n",
       "25%         6.000000       0.952876       0.953222       0.950896   \n",
       "50%        13.000000       1.179662       1.180634       1.178632   \n",
       "75%        21.000000       1.441132       1.444389       1.442038   \n",
       "max       205.000000       8.786091       8.356210       7.788996   \n",
       "\n",
       "       distance2_3_x  distance2_4_x  distance3_4_x distance_centroid1_x  \\\n",
       "count  277816.000000  277816.000000  277816.000000        277816.000000   \n",
       "mean        1.220157       1.219421       1.220266             1.250294   \n",
       "std         0.414611       0.415657       0.416274             0.505439   \n",
       "min         0.000000       0.000000       0.000000             0.000000   \n",
       "25%         0.952763       0.951395       0.951849             0.923141   \n",
       "50%         1.180385       1.179353       1.179985             1.146107   \n",
       "75%         1.441926       1.443497       1.442807             1.448741   \n",
       "max         7.047822       5.825716       6.716424             8.448849   \n",
       "\n",
       "      distance_centroid2_x distance_centroid3_x distance_centroid4_x  \\\n",
       "count        277816.000000        277816.000000        277816.000000   \n",
       "mean              1.249434             1.249845             1.251675   \n",
       "std               0.505075             0.506130             0.508817   \n",
       "min               0.000000             0.000000             0.000000   \n",
       "25%               0.921681             0.921768             0.922271   \n",
       "50%               1.145677             1.145695             1.146288   \n",
       "75%               1.447298             1.447752             1.449512   \n",
       "max               9.651332             7.240186            11.380225   \n",
       "\n",
       "         cluster_B_x    cluster_C_x    cluster_D_x  distance1_2_y  \\\n",
       "count  277816.000000  277816.000000  277816.000000  277816.000000   \n",
       "mean        0.134697       0.073844       0.033191       4.425895   \n",
       "std         0.045111       0.047030       0.039717       1.290691   \n",
       "min         0.000000       0.000000       0.000000      -1.795140   \n",
       "25%         0.113191       0.037261       0.000000       3.550509   \n",
       "50%         0.137960       0.079749       0.019582       4.130457   \n",
       "75%         0.162728       0.115637       0.060978       5.093096   \n",
       "max         0.353553       0.176777       0.144338       9.139036   \n",
       "\n",
       "       distance1_3_y  distance1_4_y  distance2_3_y  distance2_4_y  \\\n",
       "count  277816.000000  277816.000000  277816.000000  277816.000000   \n",
       "mean        4.432289       4.444075       4.426827       4.436604   \n",
       "std         1.289716       1.286070       1.290595       1.290509   \n",
       "min        -0.791748      -0.912787      -1.569801      -0.212611   \n",
       "25%         3.553670       3.564977       3.550995       3.559805   \n",
       "50%         4.137393       4.148644       4.130803       4.141877   \n",
       "75%         5.102378       5.116114       5.091230       5.107058   \n",
       "max         9.135439       9.153829       9.071639       9.120486   \n",
       "\n",
       "       distance3_4_y distance_centroid1_y distance_centroid2_y  \\\n",
       "count  277816.000000        277816.000000        277816.000000   \n",
       "mean        4.434747             3.960695             3.958650   \n",
       "std         1.293812             1.187391             1.187341   \n",
       "min        -1.252473            -0.532559            -0.084660   \n",
       "25%         3.556852             3.158702             3.154917   \n",
       "50%         4.138695             3.717562             3.715503   \n",
       "75%         5.103649             4.580354             4.575755   \n",
       "max         9.193517             8.855117             8.801846   \n",
       "\n",
       "      distance_centroid3_y distance_centroid4_y    cluster_B_y    cluster_C_y  \\\n",
       "count        277816.000000        277816.000000  277816.000000  277816.000000   \n",
       "mean              3.960000             3.964661       0.129494       0.046273   \n",
       "std               1.186827             1.188483       0.085529       0.051684   \n",
       "min               0.000000            -1.274496       0.000000       0.000000   \n",
       "25%               3.158138             3.161746       0.060386       0.005495   \n",
       "50%               3.717301             3.722817       0.121005       0.027344   \n",
       "75%               4.577439             4.582676       0.186330       0.072279   \n",
       "max               8.580758             8.826189       0.500000       0.310920   \n",
       "\n",
       "         cluster_D_y      agility_y  landing_risk1  landing_risk2  \\\n",
       "count  277816.000000  277816.000000  277816.000000  277816.000000   \n",
       "mean        0.014079       0.221665      13.566278      13.539381   \n",
       "std         0.026075       0.119004      25.506246      25.386123   \n",
       "min         0.000000       0.006993       0.000000       0.000000   \n",
       "25%         0.000000       0.130435       0.000000       0.000000   \n",
       "50%         0.001534       0.205607       3.000000       3.000000   \n",
       "75%         0.015625       0.291667      15.625000      15.625000   \n",
       "max         0.250000       1.000000     246.875000     246.875000   \n",
       "\n",
       "       landing_risk3  landing_risk4          risk1          risk2  \\\n",
       "count  277816.000000  277816.000000  277816.000000  277816.000000   \n",
       "mean       13.483013      13.461064     183.236947     183.848328   \n",
       "std        25.343427      25.486359     622.812845     627.091785   \n",
       "min         0.000000       0.000000       0.000000       0.000000   \n",
       "25%         0.000000       0.000000       0.625734       0.626848   \n",
       "50%         3.000000       3.000000       9.800190       9.876956   \n",
       "75%        15.625000      15.625000     105.353467     105.367430   \n",
       "max       246.875000     246.875000   18122.958320   18019.558350   \n",
       "\n",
       "               risk3          risk4        ranking  \n",
       "count  277816.000000  277816.000000  277816.000000  \n",
       "mean      183.070045     184.844614      12.408443  \n",
       "std       624.856011     632.111689       7.750957  \n",
       "min         0.000000       0.000000       1.000000  \n",
       "25%         0.626120       0.625235       6.000000  \n",
       "50%         9.874124       9.743855      12.000000  \n",
       "75%       105.623687     105.772370      18.000000  \n",
       "max     19342.568428   18328.323613      36.000000  "
      ]
     },
     "execution_count": 46,
     "metadata": {},
     "output_type": "execute_result"
    }
   ],
   "source": [
    "df.nunique(axis=0)\n",
    "df.describe().apply(lambda s: s.apply(lambda x: format(x, 'f')))"
   ]
  },
  {
   "cell_type": "code",
   "execution_count": 299,
   "metadata": {},
   "outputs": [
    {
     "data": {
      "text/plain": [
       "<matplotlib.axes._subplots.AxesSubplot at 0x191829b9508>"
      ]
     },
     "execution_count": 299,
     "metadata": {},
     "output_type": "execute_result"
    },
    {
     "data": {
      "image/png": "[encoded data removed]",
      "text/plain": [
       "<Figure size 432x288 with 1 Axes>"
      ]
     },
     "metadata": {
      "needs_background": "light"
     },
     "output_type": "display_data"
    }
   ],
   "source": [
    "df.plot.scatter('ranking','distance3_4_y')"
   ]
  },
  {
   "cell_type": "code",
   "execution_count": 52,
   "metadata": {},
   "outputs": [
    {
     "data": {
      "text/plain": [
       "<matplotlib.axes._subplots.AxesSubplot at 0x23404e5a548>"
      ]
     },
     "execution_count": 52,
     "metadata": {},
     "output_type": "execute_result"
    },
    {
     "data": {
      "image/png": "[encoded data removed]",
      "text/plain": [
       "<Figure size 432x288 with 1 Axes>"
      ]
     },
     "metadata": {
      "needs_background": "light"
     },
     "output_type": "display_data"
    }
   ],
   "source": [
    "df['agility_y'].plot.hist()"
   ]
  },
  {
   "cell_type": "markdown",
   "metadata": {},
   "source": [
    "# Models"
   ]
  },
  {
   "cell_type": "code",
   "execution_count": 27,
   "metadata": {},
   "outputs": [],
   "source": [
    "import numpy as np\n",
    "import pandas as pd\n",
    "import os\n",
    "import math\n",
    "import statsmodels.api as sm\n",
    "from statsmodels.tools.eval_measures import rmse\n",
    "from sklearn.model_selection import train_test_split \n",
    "from sklearn.metrics import mean_absolute_error, mean_squared_error\n",
    "from math import sqrt\n",
    "from sklearn import metrics\n",
    "from sklearn.linear_model import LinearRegression, LogisticRegression, Lasso, Ridge, SGDClassifier\n",
    "from sklearn.model_selection import KFold, cross_val_score\n",
    "import matplotlib.pyplot as plt\n",
    "import seaborn as sns\n",
    "from sklearn.tree import DecisionTreeRegressor\n",
    "from sklearn.neighbors import KNeighborsRegressor\n",
    "from sklearn.preprocessing import MinMaxScaler, StandardScaler\n",
    "from sklearn import preprocessing\n",
    "from sklearn.discriminant_analysis import LinearDiscriminantAnalysis\n",
    "from sklearn.tree import DecisionTreeClassifier\n",
    "\n",
    "from xgboost import XGBClassifier, XGBRegressor"
   ]
  },
  {
   "cell_type": "markdown",
   "metadata": {},
   "source": [
    "## All variables"
   ]
  },
  {
   "cell_type": "markdown",
   "metadata": {},
   "source": [
    "From now on, I use the df with distances and cluster, not centroids"
   ]
  },
  {
   "cell_type": "code",
   "execution_count": 170,
   "metadata": {},
   "outputs": [],
   "source": [
    "X = df2.iloc[:,2:-1]\n",
    "y = df2.iloc[:,[-1]]"
   ]
  },
  {
   "cell_type": "code",
   "execution_count": 171,
   "metadata": {},
   "outputs": [],
   "source": [
    "X_train, X_test, y_train, y_test = train_test_split(X,y,test_size=0.1, random_state=6, shuffle=True)"
   ]
  },
  {
   "cell_type": "code",
   "execution_count": 67,
   "metadata": {},
   "outputs": [],
   "source": [
    "# Scale between 0 and 1\n",
    "scaler= StandardScaler()\n",
    "X_train=scaler.fit_transform(X_train)\n",
    "X_test=scaler.transform(X_test)"
   ]
  },
  {
   "cell_type": "code",
   "execution_count": 68,
   "metadata": {},
   "outputs": [],
   "source": [
    "X_train=pd.DataFrame(X_train, columns=X.columns)\n",
    "X_test=pd.DataFrame(X_test, columns=X.columns)\n",
    "y_train = y_train.reset_index(drop=True)\n",
    "y_test = y_test.reset_index(drop=True)"
   ]
  },
  {
   "cell_type": "markdown",
   "metadata": {},
   "source": [
    "### Regression"
   ]
  },
  {
   "cell_type": "code",
   "execution_count": 172,
   "metadata": {},
   "outputs": [
    {
     "data": {
      "text/html": [
       "<table class=\"simpletable\">\n",
       "<caption>OLS Regression Results</caption>\n",
       "<tr>\n",
       "  <th>Dep. Variable:</th>         <td>ranking</td>     <th>  R-squared:         </th>  <td>   0.344</td>  \n",
       "</tr>\n",
       "<tr>\n",
       "  <th>Model:</th>                   <td>OLS</td>       <th>  Adj. R-squared:    </th>  <td>   0.344</td>  \n",
       "</tr>\n",
       "<tr>\n",
       "  <th>Method:</th>             <td>Least Squares</td>  <th>  F-statistic:       </th>  <td>   2984.</td>  \n",
       "</tr>\n",
       "<tr>\n",
       "  <th>Date:</th>             <td>Sat, 27 Jun 2020</td> <th>  Prob (F-statistic):</th>   <td>  0.00</td>   \n",
       "</tr>\n",
       "<tr>\n",
       "  <th>Time:</th>                 <td>15:58:36</td>     <th>  Log-Likelihood:    </th> <td>-4.0602e+05</td>\n",
       "</tr>\n",
       "<tr>\n",
       "  <th>No. Observations:</th>      <td>125388</td>      <th>  AIC:               </th>  <td>8.121e+05</td> \n",
       "</tr>\n",
       "<tr>\n",
       "  <th>Df Residuals:</th>          <td>125365</td>      <th>  BIC:               </th>  <td>8.123e+05</td> \n",
       "</tr>\n",
       "<tr>\n",
       "  <th>Df Model:</th>              <td>    22</td>      <th>                     </th>      <td> </td>     \n",
       "</tr>\n",
       "<tr>\n",
       "  <th>Covariance Type:</th>      <td>nonrobust</td>    <th>                     </th>      <td> </td>     \n",
       "</tr>\n",
       "</table>\n",
       "<table class=\"simpletable\">\n",
       "<tr>\n",
       "        <td></td>           <th>coef</th>     <th>std err</th>      <th>t</th>      <th>P>|t|</th>  <th>[0.025</th>    <th>0.975]</th>  \n",
       "</tr>\n",
       "<tr>\n",
       "  <th>const</th>         <td>   14.1844</td> <td>    0.169</td> <td>   84.178</td> <td> 0.000</td> <td>   13.854</td> <td>   14.515</td>\n",
       "</tr>\n",
       "<tr>\n",
       "  <th>distance1_2_x</th> <td>    0.0026</td> <td> 8.61e-05</td> <td>   30.706</td> <td> 0.000</td> <td>    0.002</td> <td>    0.003</td>\n",
       "</tr>\n",
       "<tr>\n",
       "  <th>distance3_4_x</th> <td>    0.0501</td> <td>    0.001</td> <td>   41.425</td> <td> 0.000</td> <td>    0.048</td> <td>    0.053</td>\n",
       "</tr>\n",
       "<tr>\n",
       "  <th>cluster_B_x</th>   <td>  -41.9736</td> <td>    0.584</td> <td>  -71.875</td> <td> 0.000</td> <td>  -43.118</td> <td>  -40.829</td>\n",
       "</tr>\n",
       "<tr>\n",
       "  <th>cluster_C_x</th>   <td>  -31.2027</td> <td>    0.919</td> <td>  -33.960</td> <td> 0.000</td> <td>  -33.004</td> <td>  -29.402</td>\n",
       "</tr>\n",
       "<tr>\n",
       "  <th>cluster_D_x</th>   <td>  -59.4898</td> <td>    1.340</td> <td>  -44.407</td> <td> 0.000</td> <td>  -62.115</td> <td>  -56.864</td>\n",
       "</tr>\n",
       "<tr>\n",
       "  <th>distance1_2_y</th> <td>   -0.0013</td> <td> 8.76e-05</td> <td>  -15.334</td> <td> 0.000</td> <td>   -0.002</td> <td>   -0.001</td>\n",
       "</tr>\n",
       "<tr>\n",
       "  <th>distance3_4_y</th> <td>   -0.1174</td> <td>    0.002</td> <td>  -60.798</td> <td> 0.000</td> <td>   -0.121</td> <td>   -0.114</td>\n",
       "</tr>\n",
       "<tr>\n",
       "  <th>cluster_B_y</th>   <td>   21.9976</td> <td>    0.444</td> <td>   49.537</td> <td> 0.000</td> <td>   21.127</td> <td>   22.868</td>\n",
       "</tr>\n",
       "<tr>\n",
       "  <th>cluster_C_y</th>   <td>   26.7510</td> <td>    1.074</td> <td>   24.898</td> <td> 0.000</td> <td>   24.645</td> <td>   28.857</td>\n",
       "</tr>\n",
       "<tr>\n",
       "  <th>cluster_D_y</th>   <td>  121.9631</td> <td>    2.746</td> <td>   44.407</td> <td> 0.000</td> <td>  116.580</td> <td>  127.346</td>\n",
       "</tr>\n",
       "<tr>\n",
       "  <th>agility_y</th>     <td>   33.6632</td> <td>    0.180</td> <td>  187.292</td> <td> 0.000</td> <td>   33.311</td> <td>   34.016</td>\n",
       "</tr>\n",
       "<tr>\n",
       "  <th>landing_risk1</th> <td>   -0.0175</td> <td>    0.001</td> <td>  -27.297</td> <td> 0.000</td> <td>   -0.019</td> <td>   -0.016</td>\n",
       "</tr>\n",
       "<tr>\n",
       "  <th>landing_risk4</th> <td>   -0.0168</td> <td>    0.003</td> <td>   -6.552</td> <td> 0.000</td> <td>   -0.022</td> <td>   -0.012</td>\n",
       "</tr>\n",
       "<tr>\n",
       "  <th>risk1</th>         <td>    0.2678</td> <td>    0.003</td> <td>   76.583</td> <td> 0.000</td> <td>    0.261</td> <td>    0.275</td>\n",
       "</tr>\n",
       "<tr>\n",
       "  <th>risk4</th>         <td>    0.0280</td> <td>    0.008</td> <td>    3.332</td> <td> 0.001</td> <td>    0.012</td> <td>    0.044</td>\n",
       "</tr>\n",
       "<tr>\n",
       "  <th>risk_int1</th>     <td>   -0.0023</td> <td> 4.23e-05</td> <td>  -54.744</td> <td> 0.000</td> <td>   -0.002</td> <td>   -0.002</td>\n",
       "</tr>\n",
       "<tr>\n",
       "  <th>risk_int4</th>     <td>    0.0002</td> <td>    0.000</td> <td>    1.093</td> <td> 0.274</td> <td>   -0.000</td> <td>    0.001</td>\n",
       "</tr>\n",
       "<tr>\n",
       "  <th>distance_ctrl</th> <td>    0.0015</td> <td>    0.000</td> <td>    3.941</td> <td> 0.000</td> <td>    0.001</td> <td>    0.002</td>\n",
       "</tr>\n",
       "<tr>\n",
       "  <th>cluster_ctrl</th>  <td>    3.8688</td> <td>    1.992</td> <td>    1.942</td> <td> 0.052</td> <td>   -0.036</td> <td>    7.773</td>\n",
       "</tr>\n",
       "<tr>\n",
       "  <th>risk_ctrl</th>     <td>   -0.4928</td> <td>    0.005</td> <td>  -92.279</td> <td> 0.000</td> <td>   -0.503</td> <td>   -0.482</td>\n",
       "</tr>\n",
       "<tr>\n",
       "  <th>agi_ctrl</th>      <td>  -16.3499</td> <td>    0.426</td> <td>  -38.407</td> <td> 0.000</td> <td>  -17.184</td> <td>  -15.516</td>\n",
       "</tr>\n",
       "<tr>\n",
       "  <th>exp</th>           <td>   -0.1355</td> <td>    0.009</td> <td>  -15.814</td> <td> 0.000</td> <td>   -0.152</td> <td>   -0.119</td>\n",
       "</tr>\n",
       "</table>\n",
       "<table class=\"simpletable\">\n",
       "<tr>\n",
       "  <th>Omnibus:</th>       <td>1133.864</td> <th>  Durbin-Watson:     </th> <td>   1.996</td> \n",
       "</tr>\n",
       "<tr>\n",
       "  <th>Prob(Omnibus):</th>  <td> 0.000</td>  <th>  Jarque-Bera (JB):  </th> <td> 946.493</td> \n",
       "</tr>\n",
       "<tr>\n",
       "  <th>Skew:</th>           <td> 0.150</td>  <th>  Prob(JB):          </th> <td>2.96e-206</td>\n",
       "</tr>\n",
       "<tr>\n",
       "  <th>Kurtosis:</th>       <td> 2.697</td>  <th>  Cond. No.          </th> <td>2.03e+05</td> \n",
       "</tr>\n",
       "</table><br/><br/>Warnings:<br/>[1] Standard Errors assume that the covariance matrix of the errors is correctly specified.<br/>[2] The condition number is large, 2.03e+05. This might indicate that there are<br/>strong multicollinearity or other numerical problems."
      ],
      "text/plain": [
       "<class 'statsmodels.iolib.summary.Summary'>\n",
       "\"\"\"\n",
       "                            OLS Regression Results                            \n",
       "==============================================================================\n",
       "Dep. Variable:                ranking   R-squared:                       0.344\n",
       "Model:                            OLS   Adj. R-squared:                  0.344\n",
       "Method:                 Least Squares   F-statistic:                     2984.\n",
       "Date:                Sat, 27 Jun 2020   Prob (F-statistic):               0.00\n",
       "Time:                        15:58:36   Log-Likelihood:            -4.0602e+05\n",
       "No. Observations:              125388   AIC:                         8.121e+05\n",
       "Df Residuals:                  125365   BIC:                         8.123e+05\n",
       "Df Model:                          22                                         \n",
       "Covariance Type:            nonrobust                                         \n",
       "=================================================================================\n",
       "                    coef    std err          t      P>|t|      [0.025      0.975]\n",
       "---------------------------------------------------------------------------------\n",
       "const            14.1844      0.169     84.178      0.000      13.854      14.515\n",
       "distance1_2_x     0.0026   8.61e-05     30.706      0.000       0.002       0.003\n",
       "distance3_4_x     0.0501      0.001     41.425      0.000       0.048       0.053\n",
       "cluster_B_x     -41.9736      0.584    -71.875      0.000     -43.118     -40.829\n",
       "cluster_C_x     -31.2027      0.919    -33.960      0.000     -33.004     -29.402\n",
       "cluster_D_x     -59.4898      1.340    -44.407      0.000     -62.115     -56.864\n",
       "distance1_2_y    -0.0013   8.76e-05    -15.334      0.000      -0.002      -0.001\n",
       "distance3_4_y    -0.1174      0.002    -60.798      0.000      -0.121      -0.114\n",
       "cluster_B_y      21.9976      0.444     49.537      0.000      21.127      22.868\n",
       "cluster_C_y      26.7510      1.074     24.898      0.000      24.645      28.857\n",
       "cluster_D_y     121.9631      2.746     44.407      0.000     116.580     127.346\n",
       "agility_y        33.6632      0.180    187.292      0.000      33.311      34.016\n",
       "landing_risk1    -0.0175      0.001    -27.297      0.000      -0.019      -0.016\n",
       "landing_risk4    -0.0168      0.003     -6.552      0.000      -0.022      -0.012\n",
       "risk1             0.2678      0.003     76.583      0.000       0.261       0.275\n",
       "risk4             0.0280      0.008      3.332      0.001       0.012       0.044\n",
       "risk_int1        -0.0023   4.23e-05    -54.744      0.000      -0.002      -0.002\n",
       "risk_int4         0.0002      0.000      1.093      0.274      -0.000       0.001\n",
       "distance_ctrl     0.0015      0.000      3.941      0.000       0.001       0.002\n",
       "cluster_ctrl      3.8688      1.992      1.942      0.052      -0.036       7.773\n",
       "risk_ctrl        -0.4928      0.005    -92.279      0.000      -0.503      -0.482\n",
       "agi_ctrl        -16.3499      0.426    -38.407      0.000     -17.184     -15.516\n",
       "exp              -0.1355      0.009    -15.814      0.000      -0.152      -0.119\n",
       "==============================================================================\n",
       "Omnibus:                     1133.864   Durbin-Watson:                   1.996\n",
       "Prob(Omnibus):                  0.000   Jarque-Bera (JB):              946.493\n",
       "Skew:                           0.150   Prob(JB):                    2.96e-206\n",
       "Kurtosis:                       2.697   Cond. No.                     2.03e+05\n",
       "==============================================================================\n",
       "\n",
       "Warnings:\n",
       "[1] Standard Errors assume that the covariance matrix of the errors is correctly specified.\n",
       "[2] The condition number is large, 2.03e+05. This might indicate that there are\n",
       "strong multicollinearity or other numerical problems.\n",
       "\"\"\""
      ]
     },
     "execution_count": 172,
     "metadata": {},
     "output_type": "execute_result"
    }
   ],
   "source": [
    "# Linear Regression\n",
    "X_t=sm.add_constant(X_train)\n",
    "model = sm.OLS(y_train,X_t.astype(float)).fit()\n",
    "\n",
    "model.summary()"
   ]
  },
  {
   "cell_type": "code",
   "execution_count": 98,
   "metadata": {},
   "outputs": [],
   "source": [
    "y_pred = model.predict(X_t)"
   ]
  },
  {
   "cell_type": "code",
   "execution_count": 99,
   "metadata": {},
   "outputs": [
    {
     "data": {
      "text/plain": [
       "0.3285925694749121"
      ]
     },
     "execution_count": 99,
     "metadata": {},
     "output_type": "execute_result"
    }
   ],
   "source": [
    "metrics.r2_score(y_train, y_pred)"
   ]
  },
  {
   "cell_type": "code",
   "execution_count": 100,
   "metadata": {},
   "outputs": [
    {
     "data": {
      "text/plain": [
       "1.548611500677998"
      ]
     },
     "execution_count": 100,
     "metadata": {},
     "output_type": "execute_result"
    }
   ],
   "source": [
    "mean_squared_error(y_train, y_pred)"
   ]
  },
  {
   "cell_type": "code",
   "execution_count": 101,
   "metadata": {},
   "outputs": [
    {
     "name": "stderr",
     "output_type": "stream",
     "text": [
      "C:\\Users\\admin\\Anaconda3\\lib\\site-packages\\numpy\\core\\fromnumeric.py:2495: FutureWarning: Method .ptp is deprecated and will be removed in a future version. Use numpy.ptp instead.\n",
      "  return ptp(axis=axis, out=out, **kwargs)\n"
     ]
    }
   ],
   "source": [
    "X_ts = sm.add_constant(X_test)\n",
    "y_pred = model.predict(X_ts)"
   ]
  },
  {
   "cell_type": "code",
   "execution_count": 102,
   "metadata": {},
   "outputs": [
    {
     "data": {
      "text/plain": [
       "0.32095549569336956"
      ]
     },
     "execution_count": 102,
     "metadata": {},
     "output_type": "execute_result"
    }
   ],
   "source": [
    "metrics.r2_score(y_test, y_pred)"
   ]
  },
  {
   "cell_type": "code",
   "execution_count": 103,
   "metadata": {},
   "outputs": [
    {
     "data": {
      "text/plain": [
       "1.5826395142704732"
      ]
     },
     "execution_count": 103,
     "metadata": {},
     "output_type": "execute_result"
    }
   ],
   "source": [
    "mean_squared_error(y_test, y_pred)"
   ]
  },
  {
   "cell_type": "code",
   "execution_count": 107,
   "metadata": {},
   "outputs": [
    {
     "name": "stdout",
     "output_type": "stream",
     "text": [
      "Linear Regression - MSE -1.550 std 0.021\n",
      "Intercept [3.28683056]\n",
      "Coefficients  [[-7.18367598e+00 -4.72359573e+00 -7.91584352e+00  2.50745787e-04\n",
      "  -2.19268923e-02  3.22363263e+00  4.19498418e+00  2.52275525e+01\n",
      "   6.63331166e+00 -3.46742860e-03 -3.28757080e-03  5.45529183e-02\n",
      "   2.62053803e-03 -4.71797873e-04  7.50966692e-05  8.11149864e-04\n",
      "   3.88547384e-01 -9.85330448e-02 -3.12074034e+00 -2.70415084e-02\n",
      "  -1.42241010e-08  2.36594405e-05]]\n",
      "MAE - Mean Absolute Error 1.022\n",
      "MSE - Mean Square Error  1.549\n",
      "R2    0.329\n"
     ]
    }
   ],
   "source": [
    "# Linear regression (scikit learn)\n",
    "kfold=KFold(n_splits=10, random_state=7)\n",
    "\n",
    "model=LinearRegression()\n",
    "scoring = \"neg_mean_squared_error\"\n",
    "\n",
    "results=cross_val_score(model, X_train, y_train, cv=kfold, scoring=scoring)\n",
    "print(f'Linear Regression - MSE {results.mean():.3f} std {results.std():.3f}')\n",
    "\n",
    "# Create the DataFrames for plotting\n",
    "resall=pd.DataFrame()\n",
    "res_w1=pd.DataFrame()\n",
    "\n",
    "res_w1[\"Res\"]=results\n",
    "res_w1[\"Type\"]=\"Lin\"\n",
    "\n",
    "resall=pd.concat([resall,res_w1], ignore_index=True)\n",
    "\n",
    "# Now lets use it in the same way than the statsmodel\n",
    "\n",
    "model_x=LinearRegression()\n",
    "model_x.fit(X_train,y_train)\n",
    "print(f'Intercept {model_x.intercept_}')\n",
    "print(\"Coefficients \",model_x.coef_)\n",
    "\n",
    "y_pred_x=model_x.predict(X_train)\n",
    "\n",
    "print(f'MAE - Mean Absolute Error {mean_absolute_error(y_train, y_pred_x):.3f}')\n",
    "print(f'MSE - Mean Square Error  {mean_squared_error(y_train, y_pred_x):.3f}')\n",
    "print(f'R2    {metrics.r2_score(y_train, y_pred_x):.3f}')"
   ]
  },
  {
   "cell_type": "code",
   "execution_count": 108,
   "metadata": {},
   "outputs": [],
   "source": [
    "y_pred = model_x.predict(X_test)"
   ]
  },
  {
   "cell_type": "code",
   "execution_count": 109,
   "metadata": {},
   "outputs": [
    {
     "name": "stderr",
     "output_type": "stream",
     "text": [
      "C:\\Users\\admin\\Anaconda3\\lib\\site-packages\\ipykernel_launcher.py:1: SettingWithCopyWarning: \n",
      "A value is trying to be set on a copy of a slice from a DataFrame.\n",
      "Try using .loc[row_indexer,col_indexer] = value instead\n",
      "\n",
      "See the caveats in the documentation: http://pandas.pydata.org/pandas-docs/stable/user_guide/indexing.html#returning-a-view-versus-a-copy\n",
      "  \"\"\"Entry point for launching an IPython kernel.\n"
     ]
    },
    {
     "data": {
      "text/plain": [
       "<matplotlib.axes._subplots.AxesSubplot at 0x2719f062c88>"
      ]
     },
     "execution_count": 109,
     "metadata": {},
     "output_type": "execute_result"
    },
    {
     "data": {
      "image/png": "[encoded data removed]",
      "text/plain": [
       "<Figure size 432x288 with 1 Axes>"
      ]
     },
     "metadata": {
      "needs_background": "light"
     },
     "output_type": "display_data"
    }
   ],
   "source": [
    "y_test['pred'] = y_pred\n",
    "y_test.plot.scatter('ranking','pred')"
   ]
  },
  {
   "cell_type": "code",
   "execution_count": 201,
   "metadata": {},
   "outputs": [
    {
     "name": "stdout",
     "output_type": "stream",
     "text": [
      "Ridge Regression - MSE -40.297 std 0.578\n"
     ]
    }
   ],
   "source": [
    "# Ridge Regression\n",
    "kfold=KFold(n_splits=10, random_state=7)\n",
    "\n",
    "model=Ridge()\n",
    "scoring = \"neg_mean_squared_error\"\n",
    "\n",
    "results=cross_val_score(model, X_train, y_train, cv=kfold, scoring=scoring)\n",
    "\n",
    "print(f'Ridge Regression - MSE {results.mean():.3f} std {results.std():.3f}')\n",
    "\n",
    "res_w1[\"Res\"]=results\n",
    "res_w1[\"Type\"]=\"Ridge\"\n",
    "\n",
    "resall=pd.concat([resall,res_w1], ignore_index=True)"
   ]
  },
  {
   "cell_type": "code",
   "execution_count": 202,
   "metadata": {},
   "outputs": [
    {
     "data": {
      "text/plain": [
       "Ridge(alpha=1.0, copy_X=True, fit_intercept=True, max_iter=None,\n",
       "      normalize=False, random_state=None, solver='auto', tol=0.001)"
      ]
     },
     "execution_count": 202,
     "metadata": {},
     "output_type": "execute_result"
    }
   ],
   "source": [
    "model=Ridge()\n",
    "model.fit(X_train, y_train)"
   ]
  },
  {
   "cell_type": "code",
   "execution_count": 203,
   "metadata": {},
   "outputs": [],
   "source": [
    "y_pred = model.predict(X_train)"
   ]
  },
  {
   "cell_type": "code",
   "execution_count": 204,
   "metadata": {},
   "outputs": [
    {
     "data": {
      "text/plain": [
       "0.30242606619619694"
      ]
     },
     "execution_count": 204,
     "metadata": {},
     "output_type": "execute_result"
    }
   ],
   "source": [
    "metrics.r2_score(y_train, y_pred)"
   ]
  },
  {
   "cell_type": "code",
   "execution_count": 205,
   "metadata": {},
   "outputs": [
    {
     "data": {
      "text/plain": [
       "40.274078246631724"
      ]
     },
     "execution_count": 205,
     "metadata": {},
     "output_type": "execute_result"
    }
   ],
   "source": [
    "mean_squared_error(y_train, y_pred)"
   ]
  },
  {
   "cell_type": "code",
   "execution_count": 206,
   "metadata": {},
   "outputs": [],
   "source": [
    "y_pred = model.predict(X_test)"
   ]
  },
  {
   "cell_type": "code",
   "execution_count": 207,
   "metadata": {},
   "outputs": [
    {
     "data": {
      "text/plain": [
       "0.3073767795872324"
      ]
     },
     "execution_count": 207,
     "metadata": {},
     "output_type": "execute_result"
    }
   ],
   "source": [
    "metrics.r2_score(y_test, y_pred)"
   ]
  },
  {
   "cell_type": "code",
   "execution_count": 208,
   "metadata": {},
   "outputs": [
    {
     "data": {
      "text/plain": [
       "39.60672799782415"
      ]
     },
     "execution_count": 208,
     "metadata": {},
     "output_type": "execute_result"
    }
   ],
   "source": [
    "mean_squared_error(y_test, y_pred)"
   ]
  },
  {
   "cell_type": "code",
   "execution_count": null,
   "metadata": {},
   "outputs": [],
   "source": [
    "# KNN Regression\n",
    "kfold=KFold(n_splits=10, random_state=7)\n",
    "\n",
    "model=KNeighborsRegressor()\n",
    "scoring = \"neg_mean_squared_error\"\n",
    "\n",
    "results=cross_val_score(model, X_train, y_train, cv=kfold, scoring=scoring)\n",
    "\n",
    "print(f'KNN Regression - MSE {results.mean():.3f} std {results.std():.3f}')\n",
    "\n",
    "res_w1[\"Res\"]=results\n",
    "res_w1[\"Type\"]=\"KNN\"\n",
    "\n",
    "resall=pd.concat([resall,res_w1], ignore_index=True)"
   ]
  },
  {
   "cell_type": "code",
   "execution_count": 209,
   "metadata": {},
   "outputs": [
    {
     "data": {
      "text/plain": [
       "KNeighborsRegressor(algorithm='auto', leaf_size=30, metric='minkowski',\n",
       "                    metric_params=None, n_jobs=None, n_neighbors=5, p=2,\n",
       "                    weights='uniform')"
      ]
     },
     "execution_count": 209,
     "metadata": {},
     "output_type": "execute_result"
    }
   ],
   "source": [
    "model=KNeighborsRegressor()\n",
    "model.fit(X_train, y_train)"
   ]
  },
  {
   "cell_type": "code",
   "execution_count": null,
   "metadata": {},
   "outputs": [],
   "source": [
    "y_pred = model.predict(X_train)"
   ]
  },
  {
   "cell_type": "code",
   "execution_count": null,
   "metadata": {},
   "outputs": [],
   "source": [
    "metrics.r2_score(y_train, y_pred)"
   ]
  },
  {
   "cell_type": "code",
   "execution_count": null,
   "metadata": {},
   "outputs": [],
   "source": [
    "mean_squared_error(y_train, y_pred)"
   ]
  },
  {
   "cell_type": "code",
   "execution_count": null,
   "metadata": {},
   "outputs": [],
   "source": [
    "y_pred = model.predict(X_test)"
   ]
  },
  {
   "cell_type": "code",
   "execution_count": null,
   "metadata": {},
   "outputs": [],
   "source": [
    "metrics.r2_score(y_test, y_pred)"
   ]
  },
  {
   "cell_type": "code",
   "execution_count": null,
   "metadata": {},
   "outputs": [],
   "source": [
    "mean_squared_error(y_test, y_pred)"
   ]
  },
  {
   "cell_type": "markdown",
   "metadata": {},
   "source": [
    "### Classification"
   ]
  },
  {
   "cell_type": "code",
   "execution_count": 241,
   "metadata": {},
   "outputs": [],
   "source": [
    "dfc = df2.copy()\n",
    "dfc['ranking'] = dfc['ranking'].apply(lambda x: 1 if x <=5 else 0)"
   ]
  },
  {
   "cell_type": "code",
   "execution_count": 242,
   "metadata": {},
   "outputs": [],
   "source": [
    "X = dfc.iloc[:,2:-1]\n",
    "y = dfc.iloc[:,-1]"
   ]
  },
  {
   "cell_type": "code",
   "execution_count": 243,
   "metadata": {},
   "outputs": [],
   "source": [
    "X_train, X_test, y_train, y_test = train_test_split(X,y,test_size=0.1, random_state=6, shuffle = True)"
   ]
  },
  {
   "cell_type": "code",
   "execution_count": 198,
   "metadata": {},
   "outputs": [],
   "source": [
    "scaler = MinMaxScaler()\n",
    "#scaler = StandardScaler()\n",
    "X_train = scaler.fit_transform(X_train)\n",
    "X_test = scaler.transform(X_test)"
   ]
  },
  {
   "cell_type": "markdown",
   "metadata": {},
   "source": [
    "LOGISTIC REGRESSION"
   ]
  },
  {
   "cell_type": "code",
   "execution_count": 303,
   "metadata": {},
   "outputs": [
    {
     "name": "stderr",
     "output_type": "stream",
     "text": [
      "C:\\Users\\admin\\Anaconda3\\lib\\site-packages\\sklearn\\linear_model\\logistic.py:432: FutureWarning: Default solver will be changed to 'lbfgs' in 0.22. Specify a solver to silence this warning.\n",
      "  FutureWarning)\n"
     ]
    },
    {
     "data": {
      "text/plain": [
       "LogisticRegression(C=1.0, class_weight='balanced', dual=False,\n",
       "                   fit_intercept=True, intercept_scaling=1, l1_ratio=None,\n",
       "                   max_iter=100, multi_class='warn', n_jobs=None, penalty='l2',\n",
       "                   random_state=None, solver='warn', tol=0.0001, verbose=0,\n",
       "                   warm_start=False)"
      ]
     },
     "execution_count": 303,
     "metadata": {},
     "output_type": "execute_result"
    }
   ],
   "source": [
    "model = LogisticRegression(class_weight='balanced')\n",
    "model.fit(X_train, y_train)"
   ]
  },
  {
   "cell_type": "code",
   "execution_count": 304,
   "metadata": {},
   "outputs": [
    {
     "name": "stdout",
     "output_type": "stream",
     "text": [
      "TRAIN METRICS\n",
      "Accuracy: 0.6638753309726608\n",
      "F1 Score: 0.5086160662236212\n"
     ]
    },
    {
     "data": {
      "text/plain": [
       "array([[61430, 33953],\n",
       "       [ 8193, 21812]], dtype=int64)"
      ]
     },
     "execution_count": 304,
     "metadata": {},
     "output_type": "execute_result"
    }
   ],
   "source": [
    "y_pred = model.predict(X_train)\n",
    "print('TRAIN METRICS')\n",
    "print(f'Accuracy: {metrics.accuracy_score(y_train, y_pred)}')\n",
    "print(f'F1 Score: {metrics.f1_score(y_train, y_pred)}')\n",
    "metrics.confusion_matrix(y_train,y_pred)"
   ]
  },
  {
   "cell_type": "code",
   "execution_count": 305,
   "metadata": {},
   "outputs": [
    {
     "name": "stdout",
     "output_type": "stream",
     "text": [
      "              precision    recall  f1-score   support\n",
      "\n",
      "           0       0.88      0.64      0.74     95383\n",
      "           1       0.39      0.73      0.51     30005\n",
      "\n",
      "    accuracy                           0.66    125388\n",
      "   macro avg       0.64      0.69      0.63    125388\n",
      "weighted avg       0.76      0.66      0.69    125388\n",
      "\n"
     ]
    }
   ],
   "source": [
    "print(metrics.classification_report(y_train, y_pred))"
   ]
  },
  {
   "cell_type": "code",
   "execution_count": 306,
   "metadata": {},
   "outputs": [
    {
     "name": "stdout",
     "output_type": "stream",
     "text": [
      "TEST METRICS\n",
      "Accuracy: 0.6641785688652838\n",
      "F1 Score: 0.5061741424802111\n"
     ]
    },
    {
     "data": {
      "text/plain": [
       "array([[6856, 3781],\n",
       "       [ 898, 2398]], dtype=int64)"
      ]
     },
     "execution_count": 306,
     "metadata": {},
     "output_type": "execute_result"
    }
   ],
   "source": [
    "y_pred = model.predict(X_test)\n",
    "print('TEST METRICS')\n",
    "print(f'Accuracy: {metrics.accuracy_score(y_test, y_pred)}')\n",
    "print(f'F1 Score: {metrics.f1_score(y_test, y_pred)}')\n",
    "metrics.confusion_matrix(y_test,y_pred)"
   ]
  },
  {
   "cell_type": "code",
   "execution_count": 307,
   "metadata": {},
   "outputs": [
    {
     "name": "stdout",
     "output_type": "stream",
     "text": [
      "              precision    recall  f1-score   support\n",
      "\n",
      "           0       0.88      0.64      0.75     10637\n",
      "           1       0.39      0.73      0.51      3296\n",
      "\n",
      "    accuracy                           0.66     13933\n",
      "   macro avg       0.64      0.69      0.63     13933\n",
      "weighted avg       0.77      0.66      0.69     13933\n",
      "\n"
     ]
    }
   ],
   "source": [
    "print(metrics.classification_report(y_test, y_pred))"
   ]
  },
  {
   "cell_type": "markdown",
   "metadata": {},
   "source": [
    "STOCHASTIC GRADIENT DESCENT"
   ]
  },
  {
   "cell_type": "code",
   "execution_count": 204,
   "metadata": {},
   "outputs": [
    {
     "data": {
      "text/plain": [
       "SGDClassifier(alpha=0.0001, average=False, class_weight='balanced',\n",
       "              early_stopping=False, epsilon=0.1, eta0=0.0, fit_intercept=True,\n",
       "              l1_ratio=0.15, learning_rate='optimal', loss='hinge',\n",
       "              max_iter=1000, n_iter_no_change=5, n_jobs=None, penalty='l2',\n",
       "              power_t=0.5, random_state=None, shuffle=True, tol=0.001,\n",
       "              validation_fraction=0.1, verbose=0, warm_start=False)"
      ]
     },
     "execution_count": 204,
     "metadata": {},
     "output_type": "execute_result"
    }
   ],
   "source": [
    "model = SGDClassifier(class_weight='balanced')\n",
    "model.fit(X_train, y_train)"
   ]
  },
  {
   "cell_type": "code",
   "execution_count": 205,
   "metadata": {},
   "outputs": [
    {
     "name": "stdout",
     "output_type": "stream",
     "text": [
      "TRAIN METRICS\n",
      "Accuracy: 0.6949389096245254\n",
      "F1 Score: 0.7061209751150516\n"
     ]
    },
    {
     "data": {
      "text/plain": [
       "array([[41183, 26900],\n",
       "       [11351, 45954]], dtype=int64)"
      ]
     },
     "execution_count": 205,
     "metadata": {},
     "output_type": "execute_result"
    }
   ],
   "source": [
    "y_pred = model.predict(X_train)\n",
    "print('TRAIN METRICS')\n",
    "print(f'Accuracy: {metrics.accuracy_score(y_train, y_pred)}')\n",
    "print(f'F1 Score: {metrics.f1_score(y_train, y_pred)}')\n",
    "metrics.confusion_matrix(y_train,y_pred)"
   ]
  },
  {
   "cell_type": "code",
   "execution_count": 206,
   "metadata": {},
   "outputs": [
    {
     "name": "stdout",
     "output_type": "stream",
     "text": [
      "TEST METRICS\n",
      "Accuracy: 0.6887963826885811\n",
      "F1 Score: 0.7003041194359968\n"
     ]
    },
    {
     "data": {
      "text/plain": [
       "array([[4531, 3067],\n",
       "       [1269, 5066]], dtype=int64)"
      ]
     },
     "execution_count": 206,
     "metadata": {},
     "output_type": "execute_result"
    }
   ],
   "source": [
    "y_pred = model.predict(X_test)\n",
    "print('TEST METRICS')\n",
    "print(f'Accuracy: {metrics.accuracy_score(y_test, y_pred)}')\n",
    "print(f'F1 Score: {metrics.f1_score(y_test, y_pred)}')\n",
    "metrics.confusion_matrix(y_test,y_pred)"
   ]
  },
  {
   "cell_type": "code",
   "execution_count": null,
   "metadata": {},
   "outputs": [],
   "source": []
  },
  {
   "cell_type": "code",
   "execution_count": null,
   "metadata": {},
   "outputs": [],
   "source": []
  },
  {
   "cell_type": "markdown",
   "metadata": {},
   "source": [
    "XGBCLASSIFIER"
   ]
  },
  {
   "cell_type": "code",
   "execution_count": 150,
   "metadata": {},
   "outputs": [
    {
     "data": {
      "text/plain": [
       "3.128414478139815"
      ]
     },
     "execution_count": 150,
     "metadata": {},
     "output_type": "execute_result"
    }
   ],
   "source": [
    "len([i for i in y_train if i == 0]) / len([i for i in y_train if i == 1])"
   ]
  },
  {
   "cell_type": "code",
   "execution_count": 294,
   "metadata": {},
   "outputs": [
    {
     "data": {
      "text/plain": [
       "XGBClassifier(base_score=0.5, booster='gbtree', colsample_bylevel=1,\n",
       "              colsample_bynode=1, colsample_bytree=1, gamma=65, gpu_id=-1,\n",
       "              importance_type='gain', interaction_constraints='',\n",
       "              learning_rate=0.300000012, max_delta_step=0, max_depth=6,\n",
       "              min_child_weight=50, missing=nan, monotone_constraints='()',\n",
       "              n_estimators=100, n_jobs=0, num_parallel_tree=1,\n",
       "              objective='binary:logistic', random_state=0, reg_alpha=0,\n",
       "              reg_lambda=1, scale_pos_weight=2.5, subsample=1,\n",
       "              tree_method='exact', validate_parameters=1, verbosity=None)"
      ]
     },
     "execution_count": 294,
     "metadata": {},
     "output_type": "execute_result"
    }
   ],
   "source": [
    "model = XGBClassifier(scale_pos_weight=2.5, booster='gbtree', gamma=65, min_child_weight=50)\n",
    "model.fit(X_train, y_train)"
   ]
  },
  {
   "cell_type": "code",
   "execution_count": 295,
   "metadata": {},
   "outputs": [
    {
     "name": "stdout",
     "output_type": "stream",
     "text": [
      "TRAIN METRICS\n",
      "Accuracy: 0.763932752735509\n",
      "F1 Score: 0.6022681465158153\n"
     ]
    },
    {
     "data": {
      "text/plain": [
       "array([[73377, 22006],\n",
       "       [ 7594, 22411]], dtype=int64)"
      ]
     },
     "execution_count": 295,
     "metadata": {},
     "output_type": "execute_result"
    }
   ],
   "source": [
    "y_pred = model.predict(X_train)\n",
    "print('TRAIN METRICS')\n",
    "print(f'Accuracy: {metrics.accuracy_score(y_train, y_pred)}')\n",
    "print(f'F1 Score: {metrics.f1_score(y_train, y_pred)}')\n",
    "metrics.confusion_matrix(y_train,y_pred)"
   ]
  },
  {
   "cell_type": "code",
   "execution_count": 296,
   "metadata": {},
   "outputs": [
    {
     "name": "stdout",
     "output_type": "stream",
     "text": [
      "              precision    recall  f1-score   support\n",
      "\n",
      "           0       0.91      0.77      0.83     95383\n",
      "           1       0.50      0.75      0.60     30005\n",
      "\n",
      "    accuracy                           0.76    125388\n",
      "   macro avg       0.71      0.76      0.72    125388\n",
      "weighted avg       0.81      0.76      0.78    125388\n",
      "\n"
     ]
    }
   ],
   "source": [
    "print(metrics.classification_report(y_train, y_pred))"
   ]
  },
  {
   "cell_type": "code",
   "execution_count": 297,
   "metadata": {},
   "outputs": [
    {
     "data": {
      "text/plain": [
       "0.43742363973360326"
      ]
     },
     "execution_count": 297,
     "metadata": {},
     "output_type": "execute_result"
    }
   ],
   "source": [
    "metrics.average_precision_score(y_train,y_pred)"
   ]
  },
  {
   "cell_type": "code",
   "execution_count": 298,
   "metadata": {},
   "outputs": [
    {
     "data": {
      "text/plain": [
       "0.7053862004307303"
      ]
     },
     "execution_count": 298,
     "metadata": {},
     "output_type": "execute_result"
    }
   ],
   "source": [
    "metrics.roc_auc_score(y_pred,y_train)"
   ]
  },
  {
   "cell_type": "code",
   "execution_count": 299,
   "metadata": {},
   "outputs": [
    {
     "name": "stdout",
     "output_type": "stream",
     "text": [
      "TEST METRICS\n",
      "Accuracy: 0.7561185674298428\n",
      "F1 Score: 0.5835784313725491\n"
     ]
    },
    {
     "data": {
      "text/plain": [
       "array([[8154, 2483],\n",
       "       [ 915, 2381]], dtype=int64)"
      ]
     },
     "execution_count": 299,
     "metadata": {},
     "output_type": "execute_result"
    }
   ],
   "source": [
    "y_pred = model.predict(X_test)\n",
    "print('TEST METRICS')\n",
    "print(f'Accuracy: {metrics.accuracy_score(y_test, y_pred)}')\n",
    "print(f'F1 Score: {metrics.f1_score(y_test, y_pred)}')\n",
    "metrics.confusion_matrix(y_test,y_pred)"
   ]
  },
  {
   "cell_type": "code",
   "execution_count": 300,
   "metadata": {},
   "outputs": [
    {
     "name": "stdout",
     "output_type": "stream",
     "text": [
      "              precision    recall  f1-score   support\n",
      "\n",
      "           0       0.90      0.77      0.83     10637\n",
      "           1       0.49      0.72      0.58      3296\n",
      "\n",
      "    accuracy                           0.76     13933\n",
      "   macro avg       0.69      0.74      0.71     13933\n",
      "weighted avg       0.80      0.76      0.77     13933\n",
      "\n"
     ]
    }
   ],
   "source": [
    "print(metrics.classification_report(y_test, y_pred))"
   ]
  },
  {
   "cell_type": "code",
   "execution_count": 301,
   "metadata": {},
   "outputs": [
    {
     "data": {
      "text/plain": [
       "0.4192924060248118"
      ]
     },
     "execution_count": 301,
     "metadata": {},
     "output_type": "execute_result"
    }
   ],
   "source": [
    "metrics.average_precision_score(y_test,y_pred)"
   ]
  },
  {
   "cell_type": "code",
   "execution_count": 302,
   "metadata": {},
   "outputs": [
    {
     "data": {
      "text/plain": [
       "0.6943108250670299"
      ]
     },
     "execution_count": 302,
     "metadata": {},
     "output_type": "execute_result"
    }
   ],
   "source": [
    "metrics.roc_auc_score(y_pred,y_test)"
   ]
  },
  {
   "cell_type": "code",
   "execution_count": 239,
   "metadata": {},
   "outputs": [
    {
     "data": {
      "text/plain": [
       "<matplotlib.axes._subplots.AxesSubplot at 0x2719a8c8048>"
      ]
     },
     "execution_count": 239,
     "metadata": {},
     "output_type": "execute_result"
    },
    {
     "data": {
      "image/png": "[encoded data removed]",
      "text/plain": [
       "<Figure size 432x288 with 1 Axes>"
      ]
     },
     "metadata": {
      "needs_background": "light"
     },
     "output_type": "display_data"
    }
   ],
   "source": [
    "from xgboost import plot_importance\n",
    "plot_importance(model.get_booster())"
   ]
  },
  {
   "cell_type": "code",
   "execution_count": 240,
   "metadata": {},
   "outputs": [
    {
     "data": {
      "text/html": [
       "<div>\n",
       "<style scoped>\n",
       "    .dataframe tbody tr th:only-of-type {\n",
       "        vertical-align: middle;\n",
       "    }\n",
       "\n",
       "    .dataframe tbody tr th {\n",
       "        vertical-align: top;\n",
       "    }\n",
       "\n",
       "    .dataframe thead th {\n",
       "        text-align: right;\n",
       "    }\n",
       "</style>\n",
       "<table border=\"1\" class=\"dataframe\">\n",
       "  <thead>\n",
       "    <tr style=\"text-align: right;\">\n",
       "      <th></th>\n",
       "      <th>0</th>\n",
       "    </tr>\n",
       "  </thead>\n",
       "  <tbody>\n",
       "    <tr>\n",
       "      <td>0</td>\n",
       "      <td>distance1_2_x</td>\n",
       "    </tr>\n",
       "    <tr>\n",
       "      <td>1</td>\n",
       "      <td>distance3_4_x</td>\n",
       "    </tr>\n",
       "    <tr>\n",
       "      <td>2</td>\n",
       "      <td>cluster_B_x</td>\n",
       "    </tr>\n",
       "    <tr>\n",
       "      <td>3</td>\n",
       "      <td>cluster_C_x</td>\n",
       "    </tr>\n",
       "    <tr>\n",
       "      <td>4</td>\n",
       "      <td>cluster_D_x</td>\n",
       "    </tr>\n",
       "    <tr>\n",
       "      <td>5</td>\n",
       "      <td>distance1_2_y</td>\n",
       "    </tr>\n",
       "    <tr>\n",
       "      <td>6</td>\n",
       "      <td>distance3_4_y</td>\n",
       "    </tr>\n",
       "    <tr>\n",
       "      <td>7</td>\n",
       "      <td>cluster_B_y</td>\n",
       "    </tr>\n",
       "    <tr>\n",
       "      <td>8</td>\n",
       "      <td>cluster_C_y</td>\n",
       "    </tr>\n",
       "    <tr>\n",
       "      <td>9</td>\n",
       "      <td>cluster_D_y</td>\n",
       "    </tr>\n",
       "    <tr>\n",
       "      <td>10</td>\n",
       "      <td>agility_y</td>\n",
       "    </tr>\n",
       "    <tr>\n",
       "      <td>11</td>\n",
       "      <td>landing_risk1</td>\n",
       "    </tr>\n",
       "    <tr>\n",
       "      <td>12</td>\n",
       "      <td>landing_risk4</td>\n",
       "    </tr>\n",
       "    <tr>\n",
       "      <td>13</td>\n",
       "      <td>risk1</td>\n",
       "    </tr>\n",
       "    <tr>\n",
       "      <td>14</td>\n",
       "      <td>risk4</td>\n",
       "    </tr>\n",
       "    <tr>\n",
       "      <td>15</td>\n",
       "      <td>risk_int1</td>\n",
       "    </tr>\n",
       "    <tr>\n",
       "      <td>16</td>\n",
       "      <td>risk_int4</td>\n",
       "    </tr>\n",
       "    <tr>\n",
       "      <td>17</td>\n",
       "      <td>distance_ctrl</td>\n",
       "    </tr>\n",
       "    <tr>\n",
       "      <td>18</td>\n",
       "      <td>cluster_ctrl</td>\n",
       "    </tr>\n",
       "    <tr>\n",
       "      <td>19</td>\n",
       "      <td>risk_ctrl</td>\n",
       "    </tr>\n",
       "    <tr>\n",
       "      <td>20</td>\n",
       "      <td>agi_ctrl</td>\n",
       "    </tr>\n",
       "    <tr>\n",
       "      <td>21</td>\n",
       "      <td>exp</td>\n",
       "    </tr>\n",
       "  </tbody>\n",
       "</table>\n",
       "</div>"
      ],
      "text/plain": [
       "                0\n",
       "0   distance1_2_x\n",
       "1   distance3_4_x\n",
       "2     cluster_B_x\n",
       "3     cluster_C_x\n",
       "4     cluster_D_x\n",
       "5   distance1_2_y\n",
       "6   distance3_4_y\n",
       "7     cluster_B_y\n",
       "8     cluster_C_y\n",
       "9     cluster_D_y\n",
       "10      agility_y\n",
       "11  landing_risk1\n",
       "12  landing_risk4\n",
       "13          risk1\n",
       "14          risk4\n",
       "15      risk_int1\n",
       "16      risk_int4\n",
       "17  distance_ctrl\n",
       "18   cluster_ctrl\n",
       "19      risk_ctrl\n",
       "20       agi_ctrl\n",
       "21            exp"
      ]
     },
     "execution_count": 240,
     "metadata": {},
     "output_type": "execute_result"
    }
   ],
   "source": [
    "pd.DataFrame(X.columns)"
   ]
  },
  {
   "cell_type": "code",
   "execution_count": null,
   "metadata": {},
   "outputs": [],
   "source": []
  }
 ],
 "metadata": {
  "kernelspec": {
   "display_name": "Python 3",
   "language": "python",
   "name": "python3"
  },
  "language_info": {
   "codemirror_mode": {
    "name": "ipython",
    "version": 3
   },
   "file_extension": ".py",
   "mimetype": "text/x-python",
   "name": "python",
   "nbconvert_exporter": "python",
   "pygments_lexer": "ipython3",
   "version": "3.7.4"
  }
 },
 "nbformat": 4,
 "nbformat_minor": 2
}
